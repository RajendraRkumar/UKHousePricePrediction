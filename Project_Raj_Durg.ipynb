{
 "cells": [
  {
   "cell_type": "code",
   "execution_count": 1,
   "id": "864e490a-2bd3-4a93-83ec-811b6a509bd3",
   "metadata": {
    "id": "864e490a-2bd3-4a93-83ec-811b6a509bd3"
   },
   "outputs": [],
   "source": [
    "import pandas as pd\n",
    "import numpy as np\n",
    "\n",
    "import matplotlib.pyplot as plt\n",
    "from matplotlib.patches import Polygon\n",
    "%matplotlib inline\n",
    "\n",
    "pd.set_option('display.max_columns', None)\n",
    "pd.set_option('display.max_rows', None)"
   ]
  },
  {
   "cell_type": "code",
   "execution_count": 2,
   "id": "SgPTaNQ6vJiR",
   "metadata": {
    "colab": {
     "base_uri": "https://localhost:8080/"
    },
    "id": "SgPTaNQ6vJiR",
    "outputId": "960d02a6-46a4-48ba-b41d-06e1a3eb2940"
   },
   "outputs": [],
   "source": [
    "#from google.colab import drive\n",
    "#drive.mount('/content/drive')"
   ]
  },
  {
   "cell_type": "code",
   "execution_count": 3,
   "id": "T5KklZ-CvaAQ",
   "metadata": {
    "colab": {
     "base_uri": "https://localhost:8080/"
    },
    "id": "T5KklZ-CvaAQ",
    "outputId": "a8bf44a2-b816-48f3-8354-66589bba0def"
   },
   "outputs": [],
   "source": [
    "#%cd /content/drive/My Drive/Colab Notebooks/"
   ]
  },
  {
   "cell_type": "code",
   "execution_count": 4,
   "id": "lll-t0SsvUih",
   "metadata": {
    "id": "lll-t0SsvUih"
   },
   "outputs": [],
   "source": [
    "df = pd.read_parquet(\"/Users/ironfeast/Desktop/projectDM/Project-kumar13-wcutchin-dutiwar/202304.parquet\")"
   ]
  },
  {
   "cell_type": "code",
   "execution_count": 5,
   "id": "823d255e-7a2c-4ef7-bd41-7cecbcb8294d",
   "metadata": {
    "colab": {
     "base_uri": "https://localhost:8080/",
     "height": 330
    },
    "id": "823d255e-7a2c-4ef7-bd41-7cecbcb8294d",
    "outputId": "e60c2fca-ddcf-45fa-c719-f5ee104e910f"
   },
   "outputs": [
    {
     "data": {
      "text/html": [
       "<div>\n",
       "<style scoped>\n",
       "    .dataframe tbody tr th:only-of-type {\n",
       "        vertical-align: middle;\n",
       "    }\n",
       "\n",
       "    .dataframe tbody tr th {\n",
       "        vertical-align: top;\n",
       "    }\n",
       "\n",
       "    .dataframe thead th {\n",
       "        text-align: right;\n",
       "    }\n",
       "</style>\n",
       "<table border=\"1\" class=\"dataframe\">\n",
       "  <thead>\n",
       "    <tr style=\"text-align: right;\">\n",
       "      <th></th>\n",
       "      <th>Transaction_unique_identifier</th>\n",
       "      <th>price</th>\n",
       "      <th>Date_of_Transfer</th>\n",
       "      <th>postcode</th>\n",
       "      <th>Property_Type</th>\n",
       "      <th>Old/New</th>\n",
       "      <th>Duration</th>\n",
       "      <th>PAON</th>\n",
       "      <th>SAON</th>\n",
       "      <th>Street</th>\n",
       "      <th>Locality</th>\n",
       "      <th>Town/City</th>\n",
       "      <th>District</th>\n",
       "      <th>County</th>\n",
       "      <th>PPDCategory_Type</th>\n",
       "      <th>Record_Status - monthly_file_only</th>\n",
       "    </tr>\n",
       "  </thead>\n",
       "  <tbody>\n",
       "    <tr>\n",
       "      <th>0</th>\n",
       "      <td>{40FD4DF2-5362-407C-92BC-566E2CCE89E9}</td>\n",
       "      <td>44500</td>\n",
       "      <td>1995-02-03 00:00</td>\n",
       "      <td>SR6 0AQ</td>\n",
       "      <td>T</td>\n",
       "      <td>N</td>\n",
       "      <td>F</td>\n",
       "      <td>50</td>\n",
       "      <td>None</td>\n",
       "      <td>HOWICK PARK</td>\n",
       "      <td>SUNDERLAND</td>\n",
       "      <td>SUNDERLAND</td>\n",
       "      <td>SUNDERLAND</td>\n",
       "      <td>TYNE AND WEAR</td>\n",
       "      <td>A</td>\n",
       "      <td>A</td>\n",
       "    </tr>\n",
       "    <tr>\n",
       "      <th>1</th>\n",
       "      <td>{7A99F89E-7D81-4E45-ABD5-566E49A045EA}</td>\n",
       "      <td>56500</td>\n",
       "      <td>1995-01-13 00:00</td>\n",
       "      <td>CO6 1SQ</td>\n",
       "      <td>T</td>\n",
       "      <td>N</td>\n",
       "      <td>F</td>\n",
       "      <td>19</td>\n",
       "      <td>None</td>\n",
       "      <td>BRICK KILN CLOSE</td>\n",
       "      <td>COGGESHALL</td>\n",
       "      <td>COLCHESTER</td>\n",
       "      <td>BRAINTREE</td>\n",
       "      <td>ESSEX</td>\n",
       "      <td>A</td>\n",
       "      <td>A</td>\n",
       "    </tr>\n",
       "    <tr>\n",
       "      <th>2</th>\n",
       "      <td>{28225260-E61C-4E57-8B56-566E5285B1C1}</td>\n",
       "      <td>58000</td>\n",
       "      <td>1995-07-28 00:00</td>\n",
       "      <td>B90 4TG</td>\n",
       "      <td>T</td>\n",
       "      <td>N</td>\n",
       "      <td>F</td>\n",
       "      <td>37</td>\n",
       "      <td>None</td>\n",
       "      <td>RAINSBROOK DRIVE</td>\n",
       "      <td>SHIRLEY</td>\n",
       "      <td>SOLIHULL</td>\n",
       "      <td>SOLIHULL</td>\n",
       "      <td>WEST MIDLANDS</td>\n",
       "      <td>A</td>\n",
       "      <td>A</td>\n",
       "    </tr>\n",
       "    <tr>\n",
       "      <th>3</th>\n",
       "      <td>{444D34D7-9BA6-43A7-B695-4F48980E0176}</td>\n",
       "      <td>51000</td>\n",
       "      <td>1995-06-28 00:00</td>\n",
       "      <td>DY5 1SA</td>\n",
       "      <td>S</td>\n",
       "      <td>N</td>\n",
       "      <td>F</td>\n",
       "      <td>59</td>\n",
       "      <td>None</td>\n",
       "      <td>MERRY HILL</td>\n",
       "      <td>BRIERLEY HILL</td>\n",
       "      <td>BRIERLEY HILL</td>\n",
       "      <td>DUDLEY</td>\n",
       "      <td>WEST MIDLANDS</td>\n",
       "      <td>A</td>\n",
       "      <td>A</td>\n",
       "    </tr>\n",
       "    <tr>\n",
       "      <th>4</th>\n",
       "      <td>{AE76CAF1-F8CC-43F9-8F63-4F48A2857D41}</td>\n",
       "      <td>17000</td>\n",
       "      <td>1995-03-10 00:00</td>\n",
       "      <td>S65 1QJ</td>\n",
       "      <td>T</td>\n",
       "      <td>N</td>\n",
       "      <td>L</td>\n",
       "      <td>22</td>\n",
       "      <td>None</td>\n",
       "      <td>DENMAN STREET</td>\n",
       "      <td>ROTHERHAM</td>\n",
       "      <td>ROTHERHAM</td>\n",
       "      <td>ROTHERHAM</td>\n",
       "      <td>SOUTH YORKSHIRE</td>\n",
       "      <td>A</td>\n",
       "      <td>A</td>\n",
       "    </tr>\n",
       "  </tbody>\n",
       "</table>\n",
       "</div>"
      ],
      "text/plain": [
       "            Transaction_unique_identifier  price  Date_of_Transfer postcode  \\\n",
       "0  {40FD4DF2-5362-407C-92BC-566E2CCE89E9}  44500  1995-02-03 00:00  SR6 0AQ   \n",
       "1  {7A99F89E-7D81-4E45-ABD5-566E49A045EA}  56500  1995-01-13 00:00  CO6 1SQ   \n",
       "2  {28225260-E61C-4E57-8B56-566E5285B1C1}  58000  1995-07-28 00:00  B90 4TG   \n",
       "3  {444D34D7-9BA6-43A7-B695-4F48980E0176}  51000  1995-06-28 00:00  DY5 1SA   \n",
       "4  {AE76CAF1-F8CC-43F9-8F63-4F48A2857D41}  17000  1995-03-10 00:00  S65 1QJ   \n",
       "\n",
       "  Property_Type Old/New Duration PAON  SAON            Street       Locality  \\\n",
       "0             T       N        F   50  None       HOWICK PARK     SUNDERLAND   \n",
       "1             T       N        F   19  None  BRICK KILN CLOSE     COGGESHALL   \n",
       "2             T       N        F   37  None  RAINSBROOK DRIVE        SHIRLEY   \n",
       "3             S       N        F   59  None        MERRY HILL  BRIERLEY HILL   \n",
       "4             T       N        L   22  None     DENMAN STREET      ROTHERHAM   \n",
       "\n",
       "       Town/City    District           County PPDCategory_Type  \\\n",
       "0     SUNDERLAND  SUNDERLAND    TYNE AND WEAR                A   \n",
       "1     COLCHESTER   BRAINTREE            ESSEX                A   \n",
       "2       SOLIHULL    SOLIHULL    WEST MIDLANDS                A   \n",
       "3  BRIERLEY HILL      DUDLEY    WEST MIDLANDS                A   \n",
       "4      ROTHERHAM   ROTHERHAM  SOUTH YORKSHIRE                A   \n",
       "\n",
       "  Record_Status - monthly_file_only  \n",
       "0                                 A  \n",
       "1                                 A  \n",
       "2                                 A  \n",
       "3                                 A  \n",
       "4                                 A  "
      ]
     },
     "execution_count": 5,
     "metadata": {},
     "output_type": "execute_result"
    }
   ],
   "source": [
    "#df = pd.read_parquet(r'/Users/ironfeast/Desktop/project/data/202304.parquet')\n",
    "df.head()"
   ]
  },
  {
   "cell_type": "code",
   "execution_count": 6,
   "id": "e497be22",
   "metadata": {},
   "outputs": [],
   "source": [
    "df.Date_of_Transfer = pd.to_datetime(df.Date_of_Transfer)\n",
    "df = df.loc[df.index[(df.Date_of_Transfer.dt.year>=2015)&(df.Date_of_Transfer.dt.year<=2022)]].copy()\n",
    "df['year'] = df['Date_of_Transfer'].dt.year\n",
    "df['month'] = df['Date_of_Transfer'].dt.month"
   ]
  },
  {
   "cell_type": "code",
   "execution_count": 7,
   "id": "b69dffaf",
   "metadata": {},
   "outputs": [],
   "source": [
    "def sample_data(data, fraction=0.15):\n",
    "    sampled_data = data.groupby(['year', 'month']).apply(lambda x: x.sample(frac=fraction))\n",
    "    return sampled_data\n",
    "sampling_fraction = 0.15"
   ]
  },
  {
   "cell_type": "code",
   "execution_count": 8,
   "id": "a6f6ef30",
   "metadata": {},
   "outputs": [
    {
     "data": {
      "text/plain": [
       "(1219509, 18)"
      ]
     },
     "execution_count": 8,
     "metadata": {},
     "output_type": "execute_result"
    }
   ],
   "source": [
    "sampled_df = sample_data(df, fraction=sampling_fraction)\n",
    "sampled_df.shape"
   ]
  },
  {
   "cell_type": "code",
   "execution_count": 9,
   "id": "5d8b0583",
   "metadata": {},
   "outputs": [],
   "source": [
    "sampled_df.reset_index(drop=True,inplace=True)"
   ]
  },
  {
   "cell_type": "code",
   "execution_count": 10,
   "id": "5faa46d4",
   "metadata": {},
   "outputs": [
    {
     "data": {
      "text/html": [
       "<div>\n",
       "<style scoped>\n",
       "    .dataframe tbody tr th:only-of-type {\n",
       "        vertical-align: middle;\n",
       "    }\n",
       "\n",
       "    .dataframe tbody tr th {\n",
       "        vertical-align: top;\n",
       "    }\n",
       "\n",
       "    .dataframe thead th {\n",
       "        text-align: right;\n",
       "    }\n",
       "</style>\n",
       "<table border=\"1\" class=\"dataframe\">\n",
       "  <thead>\n",
       "    <tr style=\"text-align: right;\">\n",
       "      <th></th>\n",
       "      <th>Transaction_unique_identifier</th>\n",
       "      <th>price</th>\n",
       "      <th>Date_of_Transfer</th>\n",
       "      <th>postcode</th>\n",
       "      <th>Property_Type</th>\n",
       "      <th>Old/New</th>\n",
       "      <th>Duration</th>\n",
       "      <th>PAON</th>\n",
       "      <th>SAON</th>\n",
       "      <th>Street</th>\n",
       "      <th>Locality</th>\n",
       "      <th>Town/City</th>\n",
       "      <th>District</th>\n",
       "      <th>County</th>\n",
       "      <th>PPDCategory_Type</th>\n",
       "      <th>Record_Status - monthly_file_only</th>\n",
       "      <th>year</th>\n",
       "      <th>month</th>\n",
       "    </tr>\n",
       "  </thead>\n",
       "  <tbody>\n",
       "    <tr>\n",
       "      <th>0</th>\n",
       "      <td>{C9F5B3E7-A756-4F0A-9F8D-976CF4DE4273}</td>\n",
       "      <td>285000</td>\n",
       "      <td>2015-01-09</td>\n",
       "      <td>PO5 2PR</td>\n",
       "      <td>T</td>\n",
       "      <td>N</td>\n",
       "      <td>F</td>\n",
       "      <td>66</td>\n",
       "      <td>None</td>\n",
       "      <td>WAVERLEY ROAD</td>\n",
       "      <td>None</td>\n",
       "      <td>SOUTHSEA</td>\n",
       "      <td>PORTSMOUTH</td>\n",
       "      <td>PORTSMOUTH</td>\n",
       "      <td>A</td>\n",
       "      <td>A</td>\n",
       "      <td>2015</td>\n",
       "      <td>1</td>\n",
       "    </tr>\n",
       "    <tr>\n",
       "      <th>1</th>\n",
       "      <td>{2191DFFD-12BE-4996-8374-FCFC38581EEE}</td>\n",
       "      <td>182000</td>\n",
       "      <td>2015-01-30</td>\n",
       "      <td>EX4 7BX</td>\n",
       "      <td>T</td>\n",
       "      <td>N</td>\n",
       "      <td>F</td>\n",
       "      <td>68</td>\n",
       "      <td>None</td>\n",
       "      <td>CHAUCER GROVE</td>\n",
       "      <td>None</td>\n",
       "      <td>EXETER</td>\n",
       "      <td>EXETER</td>\n",
       "      <td>DEVON</td>\n",
       "      <td>A</td>\n",
       "      <td>A</td>\n",
       "      <td>2015</td>\n",
       "      <td>1</td>\n",
       "    </tr>\n",
       "    <tr>\n",
       "      <th>2</th>\n",
       "      <td>{E73499F9-D901-4426-8C49-13CCCD8A802D}</td>\n",
       "      <td>105000</td>\n",
       "      <td>2015-01-12</td>\n",
       "      <td>NR10 3HY</td>\n",
       "      <td>F</td>\n",
       "      <td>N</td>\n",
       "      <td>L</td>\n",
       "      <td>33</td>\n",
       "      <td>None</td>\n",
       "      <td>WEAVERS CLOSE</td>\n",
       "      <td>HORSHAM ST FAITH</td>\n",
       "      <td>NORWICH</td>\n",
       "      <td>BROADLAND</td>\n",
       "      <td>NORFOLK</td>\n",
       "      <td>A</td>\n",
       "      <td>A</td>\n",
       "      <td>2015</td>\n",
       "      <td>1</td>\n",
       "    </tr>\n",
       "    <tr>\n",
       "      <th>3</th>\n",
       "      <td>{F1A49409-DE04-45B7-86B2-8ADDBAB5A5BC}</td>\n",
       "      <td>180000</td>\n",
       "      <td>2015-01-29</td>\n",
       "      <td>BN17 5PE</td>\n",
       "      <td>T</td>\n",
       "      <td>N</td>\n",
       "      <td>F</td>\n",
       "      <td>32</td>\n",
       "      <td>None</td>\n",
       "      <td>NORFOLK GARDENS</td>\n",
       "      <td>None</td>\n",
       "      <td>LITTLEHAMPTON</td>\n",
       "      <td>ARUN</td>\n",
       "      <td>WEST SUSSEX</td>\n",
       "      <td>A</td>\n",
       "      <td>A</td>\n",
       "      <td>2015</td>\n",
       "      <td>1</td>\n",
       "    </tr>\n",
       "    <tr>\n",
       "      <th>4</th>\n",
       "      <td>{27CAC963-61D0-4D2E-8515-1A1512CF4A64}</td>\n",
       "      <td>120000</td>\n",
       "      <td>2015-01-08</td>\n",
       "      <td>LA4 6DL</td>\n",
       "      <td>F</td>\n",
       "      <td>N</td>\n",
       "      <td>L</td>\n",
       "      <td>23</td>\n",
       "      <td>None</td>\n",
       "      <td>CLARENCE COURT</td>\n",
       "      <td>None</td>\n",
       "      <td>MORECAMBE</td>\n",
       "      <td>LANCASTER</td>\n",
       "      <td>LANCASHIRE</td>\n",
       "      <td>A</td>\n",
       "      <td>A</td>\n",
       "      <td>2015</td>\n",
       "      <td>1</td>\n",
       "    </tr>\n",
       "  </tbody>\n",
       "</table>\n",
       "</div>"
      ],
      "text/plain": [
       "            Transaction_unique_identifier   price Date_of_Transfer  postcode  \\\n",
       "0  {C9F5B3E7-A756-4F0A-9F8D-976CF4DE4273}  285000       2015-01-09   PO5 2PR   \n",
       "1  {2191DFFD-12BE-4996-8374-FCFC38581EEE}  182000       2015-01-30   EX4 7BX   \n",
       "2  {E73499F9-D901-4426-8C49-13CCCD8A802D}  105000       2015-01-12  NR10 3HY   \n",
       "3  {F1A49409-DE04-45B7-86B2-8ADDBAB5A5BC}  180000       2015-01-29  BN17 5PE   \n",
       "4  {27CAC963-61D0-4D2E-8515-1A1512CF4A64}  120000       2015-01-08   LA4 6DL   \n",
       "\n",
       "  Property_Type Old/New Duration PAON  SAON           Street  \\\n",
       "0             T       N        F   66  None    WAVERLEY ROAD   \n",
       "1             T       N        F   68  None    CHAUCER GROVE   \n",
       "2             F       N        L   33  None    WEAVERS CLOSE   \n",
       "3             T       N        F   32  None  NORFOLK GARDENS   \n",
       "4             F       N        L   23  None   CLARENCE COURT   \n",
       "\n",
       "           Locality      Town/City    District       County PPDCategory_Type  \\\n",
       "0              None       SOUTHSEA  PORTSMOUTH   PORTSMOUTH                A   \n",
       "1              None         EXETER      EXETER        DEVON                A   \n",
       "2  HORSHAM ST FAITH        NORWICH   BROADLAND      NORFOLK                A   \n",
       "3              None  LITTLEHAMPTON        ARUN  WEST SUSSEX                A   \n",
       "4              None      MORECAMBE   LANCASTER   LANCASHIRE                A   \n",
       "\n",
       "  Record_Status - monthly_file_only  year  month  \n",
       "0                                 A  2015      1  \n",
       "1                                 A  2015      1  \n",
       "2                                 A  2015      1  \n",
       "3                                 A  2015      1  \n",
       "4                                 A  2015      1  "
      ]
     },
     "execution_count": 10,
     "metadata": {},
     "output_type": "execute_result"
    }
   ],
   "source": [
    "sampled_df.head()"
   ]
  },
  {
   "cell_type": "code",
   "execution_count": 11,
   "id": "8959f183",
   "metadata": {
    "id": "8959f183"
   },
   "outputs": [],
   "source": [
    "# #df.shape\n",
    "# df.Date_of_Transfer = pd.to_datetime(df.Date_of_Transfer)\n",
    "# df = df.loc[df.index[(df.Date_of_Transfer.dt.year>=2018)&(df.Date_of_Transfer.dt.year<=2018)]].copy()"
   ]
  },
  {
   "cell_type": "code",
   "execution_count": 12,
   "id": "02a2215d",
   "metadata": {
    "colab": {
     "base_uri": "https://localhost:8080/",
     "height": 300
    },
    "id": "02a2215d",
    "outputId": "9c81ae4e-a9ea-4e80-c81f-366dc335096c"
   },
   "outputs": [
    {
     "data": {
      "text/html": [
       "<div>\n",
       "<style scoped>\n",
       "    .dataframe tbody tr th:only-of-type {\n",
       "        vertical-align: middle;\n",
       "    }\n",
       "\n",
       "    .dataframe tbody tr th {\n",
       "        vertical-align: top;\n",
       "    }\n",
       "\n",
       "    .dataframe thead th {\n",
       "        text-align: right;\n",
       "    }\n",
       "</style>\n",
       "<table border=\"1\" class=\"dataframe\">\n",
       "  <thead>\n",
       "    <tr style=\"text-align: right;\">\n",
       "      <th></th>\n",
       "      <th>price</th>\n",
       "      <th>year</th>\n",
       "      <th>month</th>\n",
       "    </tr>\n",
       "  </thead>\n",
       "  <tbody>\n",
       "    <tr>\n",
       "      <th>count</th>\n",
       "      <td>1.219509e+06</td>\n",
       "      <td>1.219509e+06</td>\n",
       "      <td>1.219509e+06</td>\n",
       "    </tr>\n",
       "    <tr>\n",
       "      <th>mean</th>\n",
       "      <td>3.506384e+05</td>\n",
       "      <td>2.018455e+03</td>\n",
       "      <td>6.707891e+00</td>\n",
       "    </tr>\n",
       "    <tr>\n",
       "      <th>std</th>\n",
       "      <td>1.357550e+06</td>\n",
       "      <td>2.272350e+00</td>\n",
       "      <td>3.409931e+00</td>\n",
       "    </tr>\n",
       "    <tr>\n",
       "      <th>min</th>\n",
       "      <td>1.000000e+00</td>\n",
       "      <td>2.015000e+03</td>\n",
       "      <td>1.000000e+00</td>\n",
       "    </tr>\n",
       "    <tr>\n",
       "      <th>25%</th>\n",
       "      <td>1.500000e+05</td>\n",
       "      <td>2.016000e+03</td>\n",
       "      <td>4.000000e+00</td>\n",
       "    </tr>\n",
       "    <tr>\n",
       "      <th>50%</th>\n",
       "      <td>2.350000e+05</td>\n",
       "      <td>2.018000e+03</td>\n",
       "      <td>7.000000e+00</td>\n",
       "    </tr>\n",
       "    <tr>\n",
       "      <th>75%</th>\n",
       "      <td>3.700000e+05</td>\n",
       "      <td>2.021000e+03</td>\n",
       "      <td>1.000000e+01</td>\n",
       "    </tr>\n",
       "    <tr>\n",
       "      <th>max</th>\n",
       "      <td>3.034700e+08</td>\n",
       "      <td>2.022000e+03</td>\n",
       "      <td>1.200000e+01</td>\n",
       "    </tr>\n",
       "  </tbody>\n",
       "</table>\n",
       "</div>"
      ],
      "text/plain": [
       "              price          year         month\n",
       "count  1.219509e+06  1.219509e+06  1.219509e+06\n",
       "mean   3.506384e+05  2.018455e+03  6.707891e+00\n",
       "std    1.357550e+06  2.272350e+00  3.409931e+00\n",
       "min    1.000000e+00  2.015000e+03  1.000000e+00\n",
       "25%    1.500000e+05  2.016000e+03  4.000000e+00\n",
       "50%    2.350000e+05  2.018000e+03  7.000000e+00\n",
       "75%    3.700000e+05  2.021000e+03  1.000000e+01\n",
       "max    3.034700e+08  2.022000e+03  1.200000e+01"
      ]
     },
     "execution_count": 12,
     "metadata": {},
     "output_type": "execute_result"
    }
   ],
   "source": [
    "df = sampled_df.copy()\n",
    "del sampled_df\n",
    "df.describe()\n"
   ]
  },
  {
   "cell_type": "code",
   "execution_count": 13,
   "id": "71ea5809",
   "metadata": {
    "colab": {
     "base_uri": "https://localhost:8080/"
    },
    "id": "71ea5809",
    "outputId": "9ecfc070-a2e2-42ab-e17b-7380f505261e"
   },
   "outputs": [
    {
     "data": {
      "text/plain": [
       "1"
      ]
     },
     "execution_count": 13,
     "metadata": {},
     "output_type": "execute_result"
    }
   ],
   "source": [
    "df.price.min()"
   ]
  },
  {
   "cell_type": "code",
   "execution_count": 14,
   "id": "699dd274",
   "metadata": {
    "colab": {
     "base_uri": "https://localhost:8080/"
    },
    "id": "699dd274",
    "outputId": "5e17b422-7d17-4e71-88c1-3eda2b2f9e6c"
   },
   "outputs": [
    {
     "data": {
      "text/plain": [
       "303470000"
      ]
     },
     "execution_count": 14,
     "metadata": {},
     "output_type": "execute_result"
    }
   ],
   "source": [
    "df.price.max()"
   ]
  },
  {
   "cell_type": "code",
   "execution_count": 15,
   "id": "45a4c4d2",
   "metadata": {
    "colab": {
     "base_uri": "https://localhost:8080/"
    },
    "id": "45a4c4d2",
    "outputId": "5bf22318-c5fa-40ff-c3b5-e3ec9a6e92f0"
   },
   "outputs": [
    {
     "data": {
      "text/plain": [
       "count    1.219509e+06\n",
       "mean     3.506384e+05\n",
       "std      1.357550e+06\n",
       "min      1.000000e+00\n",
       "25%      1.500000e+05\n",
       "50%      2.350000e+05\n",
       "75%      3.700000e+05\n",
       "max      3.034700e+08\n",
       "Name: price, dtype: float64"
      ]
     },
     "execution_count": 15,
     "metadata": {},
     "output_type": "execute_result"
    }
   ],
   "source": [
    "df.price.describe()"
   ]
  },
  {
   "cell_type": "code",
   "execution_count": 16,
   "id": "e24d764c",
   "metadata": {
    "colab": {
     "base_uri": "https://localhost:8080/",
     "height": 300
    },
    "id": "e24d764c",
    "outputId": "cdf38b4e-a61d-43a4-e749-59d01c7fbe93"
   },
   "outputs": [
    {
     "data": {
      "text/html": [
       "<div>\n",
       "<style scoped>\n",
       "    .dataframe tbody tr th:only-of-type {\n",
       "        vertical-align: middle;\n",
       "    }\n",
       "\n",
       "    .dataframe tbody tr th {\n",
       "        vertical-align: top;\n",
       "    }\n",
       "\n",
       "    .dataframe thead th {\n",
       "        text-align: right;\n",
       "    }\n",
       "</style>\n",
       "<table border=\"1\" class=\"dataframe\">\n",
       "  <thead>\n",
       "    <tr style=\"text-align: right;\">\n",
       "      <th></th>\n",
       "      <th>price</th>\n",
       "      <th>year</th>\n",
       "      <th>month</th>\n",
       "    </tr>\n",
       "  </thead>\n",
       "  <tbody>\n",
       "    <tr>\n",
       "      <th>count</th>\n",
       "      <td>1219509.00</td>\n",
       "      <td>1219509.00</td>\n",
       "      <td>1219509.00</td>\n",
       "    </tr>\n",
       "    <tr>\n",
       "      <th>mean</th>\n",
       "      <td>350638.41</td>\n",
       "      <td>2018.45</td>\n",
       "      <td>6.71</td>\n",
       "    </tr>\n",
       "    <tr>\n",
       "      <th>std</th>\n",
       "      <td>1357550.47</td>\n",
       "      <td>2.27</td>\n",
       "      <td>3.41</td>\n",
       "    </tr>\n",
       "    <tr>\n",
       "      <th>min</th>\n",
       "      <td>1.00</td>\n",
       "      <td>2015.00</td>\n",
       "      <td>1.00</td>\n",
       "    </tr>\n",
       "    <tr>\n",
       "      <th>25%</th>\n",
       "      <td>150000.00</td>\n",
       "      <td>2016.00</td>\n",
       "      <td>4.00</td>\n",
       "    </tr>\n",
       "    <tr>\n",
       "      <th>50%</th>\n",
       "      <td>235000.00</td>\n",
       "      <td>2018.00</td>\n",
       "      <td>7.00</td>\n",
       "    </tr>\n",
       "    <tr>\n",
       "      <th>75%</th>\n",
       "      <td>370000.00</td>\n",
       "      <td>2021.00</td>\n",
       "      <td>10.00</td>\n",
       "    </tr>\n",
       "    <tr>\n",
       "      <th>max</th>\n",
       "      <td>303470000.00</td>\n",
       "      <td>2022.00</td>\n",
       "      <td>12.00</td>\n",
       "    </tr>\n",
       "  </tbody>\n",
       "</table>\n",
       "</div>"
      ],
      "text/plain": [
       "              price        year       month\n",
       "count    1219509.00  1219509.00  1219509.00\n",
       "mean      350638.41     2018.45        6.71\n",
       "std      1357550.47        2.27        3.41\n",
       "min            1.00     2015.00        1.00\n",
       "25%       150000.00     2016.00        4.00\n",
       "50%       235000.00     2018.00        7.00\n",
       "75%       370000.00     2021.00       10.00\n",
       "max    303470000.00     2022.00       12.00"
      ]
     },
     "execution_count": 16,
     "metadata": {},
     "output_type": "execute_result"
    }
   ],
   "source": [
    "df.describe().apply(lambda s: s.apply('{0:.2f}'.format))"
   ]
  },
  {
   "cell_type": "code",
   "execution_count": 17,
   "id": "fbdb7a6c",
   "metadata": {
    "colab": {
     "base_uri": "https://localhost:8080/"
    },
    "id": "fbdb7a6c",
    "outputId": "ca6df050-38dc-4cbc-8faf-b1128ff39e1c"
   },
   "outputs": [
    {
     "data": {
      "text/plain": [
       "(1,)"
      ]
     },
     "execution_count": 17,
     "metadata": {},
     "output_type": "execute_result"
    }
   ],
   "source": [
    "df.price[round(df.price)==1].shape"
   ]
  },
  {
   "cell_type": "code",
   "execution_count": 18,
   "id": "cb8d69a7",
   "metadata": {
    "colab": {
     "base_uri": "https://localhost:8080/"
    },
    "id": "cb8d69a7",
    "outputId": "e41fc88c-18f6-4761-cc32-adeebd54646f"
   },
   "outputs": [
    {
     "data": {
      "text/plain": [
       "(1219508, 18)"
      ]
     },
     "execution_count": 18,
     "metadata": {},
     "output_type": "execute_result"
    }
   ],
   "source": [
    "df.drop(df.index[(round(df.price)==1)],inplace=True)#.price.describe()#.apply(lambda s: s.apply('{0:.2f}'.format))\n",
    "df.shape"
   ]
  },
  {
   "cell_type": "code",
   "execution_count": 19,
   "id": "cb38cf58",
   "metadata": {
    "colab": {
     "base_uri": "https://localhost:8080/",
     "height": 445
    },
    "id": "cb38cf58",
    "outputId": "e2159f19-3031-46be-c2d1-f9e7cd6464ce"
   },
   "outputs": [
    {
     "data": {
      "image/png": "[encoded data removed]",
      "text/plain": [
       "<Figure size 640x480 with 1 Axes>"
      ]
     },
     "metadata": {},
     "output_type": "display_data"
    }
   ],
   "source": [
    "# fig, axs = plt.subplots(1, 1)\n",
    "# basic plot\n",
    "df.boxplot(column='price')\n",
    "plt.show()\n",
    "\n",
    "# # notched plot\n",
    "# axs[0, 1].boxplot(data, 1)\n",
    "# axs[0, 1].set_title('notched plot')"
   ]
  },
  {
   "cell_type": "code",
   "execution_count": 20,
   "id": "0120f923",
   "metadata": {
    "colab": {
     "base_uri": "https://localhost:8080/",
     "height": 300
    },
    "id": "0120f923",
    "outputId": "6e796680-eaba-4008-9e90-35663a7fda65"
   },
   "outputs": [
    {
     "data": {
      "text/html": [
       "<div>\n",
       "<style scoped>\n",
       "    .dataframe tbody tr th:only-of-type {\n",
       "        vertical-align: middle;\n",
       "    }\n",
       "\n",
       "    .dataframe tbody tr th {\n",
       "        vertical-align: top;\n",
       "    }\n",
       "\n",
       "    .dataframe thead th {\n",
       "        text-align: right;\n",
       "    }\n",
       "</style>\n",
       "<table border=\"1\" class=\"dataframe\">\n",
       "  <thead>\n",
       "    <tr style=\"text-align: right;\">\n",
       "      <th></th>\n",
       "      <th>price</th>\n",
       "      <th>year</th>\n",
       "      <th>month</th>\n",
       "    </tr>\n",
       "  </thead>\n",
       "  <tbody>\n",
       "    <tr>\n",
       "      <th>count</th>\n",
       "      <td>1219508.00</td>\n",
       "      <td>1219508.00</td>\n",
       "      <td>1219508.00</td>\n",
       "    </tr>\n",
       "    <tr>\n",
       "      <th>mean</th>\n",
       "      <td>350638.70</td>\n",
       "      <td>2018.45</td>\n",
       "      <td>6.71</td>\n",
       "    </tr>\n",
       "    <tr>\n",
       "      <th>std</th>\n",
       "      <td>1357550.99</td>\n",
       "      <td>2.27</td>\n",
       "      <td>3.41</td>\n",
       "    </tr>\n",
       "    <tr>\n",
       "      <th>min</th>\n",
       "      <td>100.00</td>\n",
       "      <td>2015.00</td>\n",
       "      <td>1.00</td>\n",
       "    </tr>\n",
       "    <tr>\n",
       "      <th>25%</th>\n",
       "      <td>150000.00</td>\n",
       "      <td>2016.00</td>\n",
       "      <td>4.00</td>\n",
       "    </tr>\n",
       "    <tr>\n",
       "      <th>50%</th>\n",
       "      <td>235000.00</td>\n",
       "      <td>2018.00</td>\n",
       "      <td>7.00</td>\n",
       "    </tr>\n",
       "    <tr>\n",
       "      <th>75%</th>\n",
       "      <td>370000.00</td>\n",
       "      <td>2021.00</td>\n",
       "      <td>10.00</td>\n",
       "    </tr>\n",
       "    <tr>\n",
       "      <th>max</th>\n",
       "      <td>303470000.00</td>\n",
       "      <td>2022.00</td>\n",
       "      <td>12.00</td>\n",
       "    </tr>\n",
       "  </tbody>\n",
       "</table>\n",
       "</div>"
      ],
      "text/plain": [
       "              price        year       month\n",
       "count    1219508.00  1219508.00  1219508.00\n",
       "mean      350638.70     2018.45        6.71\n",
       "std      1357550.99        2.27        3.41\n",
       "min          100.00     2015.00        1.00\n",
       "25%       150000.00     2016.00        4.00\n",
       "50%       235000.00     2018.00        7.00\n",
       "75%       370000.00     2021.00       10.00\n",
       "max    303470000.00     2022.00       12.00"
      ]
     },
     "execution_count": 20,
     "metadata": {},
     "output_type": "execute_result"
    }
   ],
   "source": [
    "df.describe().apply(lambda s: s.apply('{0:.2f}'.format))"
   ]
  },
  {
   "cell_type": "code",
   "execution_count": 21,
   "id": "9d949087",
   "metadata": {
    "colab": {
     "base_uri": "https://localhost:8080/"
    },
    "id": "9d949087",
    "outputId": "e4641925-ab09-4ad5-e9f2-a182cc91ca8d"
   },
   "outputs": [
    {
     "data": {
      "text/plain": [
       "Index(['Transaction_unique_identifier', 'price', 'Date_of_Transfer',\n",
       "       'postcode', 'Property_Type', 'Old/New', 'Duration', 'PAON', 'SAON',\n",
       "       'Street', 'Locality', 'Town/City', 'District', 'County',\n",
       "       'PPDCategory_Type', 'Record_Status - monthly_file_only', 'year',\n",
       "       'month'],\n",
       "      dtype='object')"
      ]
     },
     "execution_count": 21,
     "metadata": {},
     "output_type": "execute_result"
    }
   ],
   "source": [
    "df.Date_of_Transfer = pd.to_datetime(df.Date_of_Transfer)\n",
    "df['year'] = df.Date_of_Transfer.dt.year\n",
    "df.columns"
   ]
  },
  {
   "cell_type": "code",
   "execution_count": 22,
   "id": "c7e79639",
   "metadata": {
    "colab": {
     "base_uri": "https://localhost:8080/",
     "height": 482
    },
    "id": "c7e79639",
    "outputId": "fc36233d-3422-4b00-e468-520bff2d146e"
   },
   "outputs": [
    {
     "data": {
      "text/plain": [
       "<Axes: xlabel='year', ylabel='price'>"
      ]
     },
     "execution_count": 22,
     "metadata": {},
     "output_type": "execute_result"
    },
    {
     "data": {
      "image/png": "[encoded data removed]",
      "text/plain": [
       "<Figure size 640x480 with 1 Axes>"
      ]
     },
     "metadata": {},
     "output_type": "display_data"
    }
   ],
   "source": [
    "df.plot(y = 'price',x='year',kind='scatter')"
   ]
  },
  {
   "cell_type": "code",
   "execution_count": 23,
   "id": "99350ec6",
   "metadata": {
    "colab": {
     "base_uri": "https://localhost:8080/"
    },
    "id": "99350ec6",
    "outputId": "3b86c00a-b704-42d9-cbd5-515cbc4e8c40"
   },
   "outputs": [
    {
     "data": {
      "text/plain": [
       "(1266,)"
      ]
     },
     "execution_count": 23,
     "metadata": {},
     "output_type": "execute_result"
    }
   ],
   "source": [
    "df.price[round(df.price)<=1000].shape"
   ]
  },
  {
   "cell_type": "code",
   "execution_count": 24,
   "id": "cba7b8a6",
   "metadata": {
    "colab": {
     "base_uri": "https://localhost:8080/"
    },
    "id": "cba7b8a6",
    "outputId": "d48a1311-9689-439e-bddb-65e494a600cb"
   },
   "outputs": [
    {
     "data": {
      "text/plain": [
       "(1397,)"
      ]
     },
     "execution_count": 24,
     "metadata": {},
     "output_type": "execute_result"
    }
   ],
   "source": [
    "df.price[round(df.price)>=10000000].shape"
   ]
  },
  {
   "cell_type": "code",
   "execution_count": 25,
   "id": "99266f5a",
   "metadata": {
    "colab": {
     "base_uri": "https://localhost:8080/"
    },
    "id": "99266f5a",
    "outputId": "151a4f93-081b-4319-82ca-de93d0aea856"
   },
   "outputs": [
    {
     "data": {
      "text/plain": [
       "(1213124,)"
      ]
     },
     "execution_count": 25,
     "metadata": {},
     "output_type": "execute_result"
    }
   ],
   "source": [
    "df.price[~((round(df.price)<=10000)|(round(df.price)>=10000000))].shape"
   ]
  },
  {
   "cell_type": "code",
   "execution_count": 26,
   "id": "c5533b58",
   "metadata": {
    "colab": {
     "base_uri": "https://localhost:8080/"
    },
    "id": "c5533b58",
    "outputId": "dffebd18-785a-429b-af04-0cb9c0a24db8"
   },
   "outputs": [
    {
     "data": {
      "text/plain": [
       "5899625.8062343355"
      ]
     },
     "execution_count": 26,
     "metadata": {},
     "output_type": "execute_result"
    }
   ],
   "source": [
    "df.price[((round(df.price)<=10000)|(round(df.price)>=10000000))].mean()"
   ]
  },
  {
   "cell_type": "code",
   "execution_count": 27,
   "id": "1d68fd3e",
   "metadata": {
    "colab": {
     "base_uri": "https://localhost:8080/"
    },
    "id": "1d68fd3e",
    "outputId": "0979d5a8-6034-416b-9d09-bedb6c1d3800"
   },
   "outputs": [
    {
     "data": {
      "text/plain": [
       "350638.69975514716"
      ]
     },
     "execution_count": 27,
     "metadata": {},
     "output_type": "execute_result"
    }
   ],
   "source": [
    "df.price.mean()"
   ]
  },
  {
   "cell_type": "code",
   "execution_count": 28,
   "id": "b360b5eb",
   "metadata": {
    "colab": {
     "base_uri": "https://localhost:8080/"
    },
    "id": "b360b5eb",
    "outputId": "3d0a7d84-376d-47e4-fca9-aee2613cfdc2"
   },
   "outputs": [
    {
     "data": {
      "text/plain": [
       "321437.45265446894"
      ]
     },
     "execution_count": 28,
     "metadata": {},
     "output_type": "execute_result"
    }
   ],
   "source": [
    "df.price[~((round(df.price)<=10000)|(round(df.price)>=10000000))].mean()"
   ]
  },
  {
   "cell_type": "code",
   "execution_count": 29,
   "id": "c86590c1",
   "metadata": {},
   "outputs": [
    {
     "data": {
      "text/html": [
       "<div>\n",
       "<style scoped>\n",
       "    .dataframe tbody tr th:only-of-type {\n",
       "        vertical-align: middle;\n",
       "    }\n",
       "\n",
       "    .dataframe tbody tr th {\n",
       "        vertical-align: top;\n",
       "    }\n",
       "\n",
       "    .dataframe thead th {\n",
       "        text-align: right;\n",
       "    }\n",
       "</style>\n",
       "<table border=\"1\" class=\"dataframe\">\n",
       "  <thead>\n",
       "    <tr style=\"text-align: right;\">\n",
       "      <th></th>\n",
       "      <th>Transaction_unique_identifier</th>\n",
       "      <th>price</th>\n",
       "      <th>Date_of_Transfer</th>\n",
       "      <th>postcode</th>\n",
       "      <th>Property_Type</th>\n",
       "      <th>Old/New</th>\n",
       "      <th>Duration</th>\n",
       "      <th>PAON</th>\n",
       "      <th>SAON</th>\n",
       "      <th>Street</th>\n",
       "      <th>Locality</th>\n",
       "      <th>Town/City</th>\n",
       "      <th>District</th>\n",
       "      <th>County</th>\n",
       "      <th>PPDCategory_Type</th>\n",
       "      <th>Record_Status - monthly_file_only</th>\n",
       "      <th>year</th>\n",
       "      <th>month</th>\n",
       "    </tr>\n",
       "  </thead>\n",
       "  <tbody>\n",
       "    <tr>\n",
       "      <th>0</th>\n",
       "      <td>{C9F5B3E7-A756-4F0A-9F8D-976CF4DE4273}</td>\n",
       "      <td>285000</td>\n",
       "      <td>2015-01-09</td>\n",
       "      <td>PO5 2PR</td>\n",
       "      <td>T</td>\n",
       "      <td>N</td>\n",
       "      <td>F</td>\n",
       "      <td>66</td>\n",
       "      <td>None</td>\n",
       "      <td>WAVERLEY ROAD</td>\n",
       "      <td>None</td>\n",
       "      <td>SOUTHSEA</td>\n",
       "      <td>PORTSMOUTH</td>\n",
       "      <td>PORTSMOUTH</td>\n",
       "      <td>A</td>\n",
       "      <td>A</td>\n",
       "      <td>2015</td>\n",
       "      <td>1</td>\n",
       "    </tr>\n",
       "    <tr>\n",
       "      <th>1</th>\n",
       "      <td>{2191DFFD-12BE-4996-8374-FCFC38581EEE}</td>\n",
       "      <td>182000</td>\n",
       "      <td>2015-01-30</td>\n",
       "      <td>EX4 7BX</td>\n",
       "      <td>T</td>\n",
       "      <td>N</td>\n",
       "      <td>F</td>\n",
       "      <td>68</td>\n",
       "      <td>None</td>\n",
       "      <td>CHAUCER GROVE</td>\n",
       "      <td>None</td>\n",
       "      <td>EXETER</td>\n",
       "      <td>EXETER</td>\n",
       "      <td>DEVON</td>\n",
       "      <td>A</td>\n",
       "      <td>A</td>\n",
       "      <td>2015</td>\n",
       "      <td>1</td>\n",
       "    </tr>\n",
       "    <tr>\n",
       "      <th>2</th>\n",
       "      <td>{E73499F9-D901-4426-8C49-13CCCD8A802D}</td>\n",
       "      <td>105000</td>\n",
       "      <td>2015-01-12</td>\n",
       "      <td>NR10 3HY</td>\n",
       "      <td>F</td>\n",
       "      <td>N</td>\n",
       "      <td>L</td>\n",
       "      <td>33</td>\n",
       "      <td>None</td>\n",
       "      <td>WEAVERS CLOSE</td>\n",
       "      <td>HORSHAM ST FAITH</td>\n",
       "      <td>NORWICH</td>\n",
       "      <td>BROADLAND</td>\n",
       "      <td>NORFOLK</td>\n",
       "      <td>A</td>\n",
       "      <td>A</td>\n",
       "      <td>2015</td>\n",
       "      <td>1</td>\n",
       "    </tr>\n",
       "    <tr>\n",
       "      <th>3</th>\n",
       "      <td>{F1A49409-DE04-45B7-86B2-8ADDBAB5A5BC}</td>\n",
       "      <td>180000</td>\n",
       "      <td>2015-01-29</td>\n",
       "      <td>BN17 5PE</td>\n",
       "      <td>T</td>\n",
       "      <td>N</td>\n",
       "      <td>F</td>\n",
       "      <td>32</td>\n",
       "      <td>None</td>\n",
       "      <td>NORFOLK GARDENS</td>\n",
       "      <td>None</td>\n",
       "      <td>LITTLEHAMPTON</td>\n",
       "      <td>ARUN</td>\n",
       "      <td>WEST SUSSEX</td>\n",
       "      <td>A</td>\n",
       "      <td>A</td>\n",
       "      <td>2015</td>\n",
       "      <td>1</td>\n",
       "    </tr>\n",
       "    <tr>\n",
       "      <th>4</th>\n",
       "      <td>{27CAC963-61D0-4D2E-8515-1A1512CF4A64}</td>\n",
       "      <td>120000</td>\n",
       "      <td>2015-01-08</td>\n",
       "      <td>LA4 6DL</td>\n",
       "      <td>F</td>\n",
       "      <td>N</td>\n",
       "      <td>L</td>\n",
       "      <td>23</td>\n",
       "      <td>None</td>\n",
       "      <td>CLARENCE COURT</td>\n",
       "      <td>None</td>\n",
       "      <td>MORECAMBE</td>\n",
       "      <td>LANCASTER</td>\n",
       "      <td>LANCASHIRE</td>\n",
       "      <td>A</td>\n",
       "      <td>A</td>\n",
       "      <td>2015</td>\n",
       "      <td>1</td>\n",
       "    </tr>\n",
       "  </tbody>\n",
       "</table>\n",
       "</div>"
      ],
      "text/plain": [
       "            Transaction_unique_identifier   price Date_of_Transfer  postcode  \\\n",
       "0  {C9F5B3E7-A756-4F0A-9F8D-976CF4DE4273}  285000       2015-01-09   PO5 2PR   \n",
       "1  {2191DFFD-12BE-4996-8374-FCFC38581EEE}  182000       2015-01-30   EX4 7BX   \n",
       "2  {E73499F9-D901-4426-8C49-13CCCD8A802D}  105000       2015-01-12  NR10 3HY   \n",
       "3  {F1A49409-DE04-45B7-86B2-8ADDBAB5A5BC}  180000       2015-01-29  BN17 5PE   \n",
       "4  {27CAC963-61D0-4D2E-8515-1A1512CF4A64}  120000       2015-01-08   LA4 6DL   \n",
       "\n",
       "  Property_Type Old/New Duration PAON  SAON           Street  \\\n",
       "0             T       N        F   66  None    WAVERLEY ROAD   \n",
       "1             T       N        F   68  None    CHAUCER GROVE   \n",
       "2             F       N        L   33  None    WEAVERS CLOSE   \n",
       "3             T       N        F   32  None  NORFOLK GARDENS   \n",
       "4             F       N        L   23  None   CLARENCE COURT   \n",
       "\n",
       "           Locality      Town/City    District       County PPDCategory_Type  \\\n",
       "0              None       SOUTHSEA  PORTSMOUTH   PORTSMOUTH                A   \n",
       "1              None         EXETER      EXETER        DEVON                A   \n",
       "2  HORSHAM ST FAITH        NORWICH   BROADLAND      NORFOLK                A   \n",
       "3              None  LITTLEHAMPTON        ARUN  WEST SUSSEX                A   \n",
       "4              None      MORECAMBE   LANCASTER   LANCASHIRE                A   \n",
       "\n",
       "  Record_Status - monthly_file_only  year  month  \n",
       "0                                 A  2015      1  \n",
       "1                                 A  2015      1  \n",
       "2                                 A  2015      1  \n",
       "3                                 A  2015      1  \n",
       "4                                 A  2015      1  "
      ]
     },
     "execution_count": 29,
     "metadata": {},
     "output_type": "execute_result"
    }
   ],
   "source": [
    "df.head()"
   ]
  },
  {
   "cell_type": "code",
   "execution_count": 30,
   "id": "926ffee0",
   "metadata": {
    "colab": {
     "base_uri": "https://localhost:8080/",
     "height": 112
    },
    "id": "926ffee0",
    "outputId": "cb4246ad-eb10-48bb-82d6-e2cc8e1a5112"
   },
   "outputs": [
    {
     "data": {
      "text/html": [
       "<div>\n",
       "<style scoped>\n",
       "    .dataframe tbody tr th:only-of-type {\n",
       "        vertical-align: middle;\n",
       "    }\n",
       "\n",
       "    .dataframe tbody tr th {\n",
       "        vertical-align: top;\n",
       "    }\n",
       "\n",
       "    .dataframe thead th {\n",
       "        text-align: right;\n",
       "    }\n",
       "</style>\n",
       "<table border=\"1\" class=\"dataframe\">\n",
       "  <thead>\n",
       "    <tr style=\"text-align: right;\">\n",
       "      <th></th>\n",
       "      <th>price</th>\n",
       "    </tr>\n",
       "    <tr>\n",
       "      <th>year</th>\n",
       "      <th></th>\n",
       "    </tr>\n",
       "  </thead>\n",
       "  <tbody>\n",
       "    <tr>\n",
       "      <th>2015</th>\n",
       "      <td>279131.058467</td>\n",
       "    </tr>\n",
       "    <tr>\n",
       "      <th>2016</th>\n",
       "      <td>292826.138756</td>\n",
       "    </tr>\n",
       "    <tr>\n",
       "      <th>2017</th>\n",
       "      <td>312546.561638</td>\n",
       "    </tr>\n",
       "    <tr>\n",
       "      <th>2018</th>\n",
       "      <td>313619.127792</td>\n",
       "    </tr>\n",
       "    <tr>\n",
       "      <th>2019</th>\n",
       "      <td>314151.954493</td>\n",
       "    </tr>\n",
       "    <tr>\n",
       "      <th>2020</th>\n",
       "      <td>337288.720218</td>\n",
       "    </tr>\n",
       "    <tr>\n",
       "      <th>2021</th>\n",
       "      <td>355616.565468</td>\n",
       "    </tr>\n",
       "    <tr>\n",
       "      <th>2022</th>\n",
       "      <td>370086.803812</td>\n",
       "    </tr>\n",
       "  </tbody>\n",
       "</table>\n",
       "</div>"
      ],
      "text/plain": [
       "              price\n",
       "year               \n",
       "2015  279131.058467\n",
       "2016  292826.138756\n",
       "2017  312546.561638\n",
       "2018  313619.127792\n",
       "2019  314151.954493\n",
       "2020  337288.720218\n",
       "2021  355616.565468\n",
       "2022  370086.803812"
      ]
     },
     "execution_count": 30,
     "metadata": {},
     "output_type": "execute_result"
    }
   ],
   "source": [
    "df[~((round(df.price)<=10000)|(round(df.price)>=10000000))].groupby(['year']).agg({'price':'mean'})"
   ]
  },
  {
   "cell_type": "code",
   "execution_count": 31,
   "id": "2e5cebe9",
   "metadata": {
    "colab": {
     "base_uri": "https://localhost:8080/",
     "height": 466
    },
    "id": "2e5cebe9",
    "outputId": "0e762dd7-e40f-460f-e2f6-886201cbaf13"
   },
   "outputs": [
    {
     "data": {
      "text/plain": [
       "<Axes: xlabel='year'>"
      ]
     },
     "execution_count": 31,
     "metadata": {},
     "output_type": "execute_result"
    },
    {
     "data": {
      "image/png": "[encoded data removed]",
      "text/plain": [
       "<Figure size 640x480 with 1 Axes>"
      ]
     },
     "metadata": {},
     "output_type": "display_data"
    }
   ],
   "source": [
    "df[~((round(df.price)<=10000)|(round(df.price)>=10000000))].groupby(['year']).agg({'price':'mean'}).plot(kind='line')"
   ]
  },
  {
   "cell_type": "code",
   "execution_count": 32,
   "id": "8bb3cf9f",
   "metadata": {
    "colab": {
     "base_uri": "https://localhost:8080/"
    },
    "id": "8bb3cf9f",
    "outputId": "e3d71b54-d6d7-42a1-bb4a-523c3ceed2a0"
   },
   "outputs": [
    {
     "name": "stdout",
     "output_type": "stream",
     "text": [
      "(70576, 18)\n",
      "(230005, 18)\n",
      "(478203, 18)\n",
      "(436562, 18)\n"
     ]
    }
   ],
   "source": [
    "print(df[((round(df.price)>=5000)&(round(df.price)<80000))].shape) # Base low\n",
    "print(df[((round(df.price)>=80000)&(round(df.price)<150000))].shape) # Low\n",
    "print(df[((round(df.price)>=150000)&(round(df.price)<300000))].shape) # Moderate\n",
    "print(df[((round(df.price)>=300000)&(round(df.price)<=10000000))].shape) # High"
   ]
  },
  {
   "cell_type": "code",
   "execution_count": 33,
   "id": "9b85f33d",
   "metadata": {
    "colab": {
     "base_uri": "https://localhost:8080/"
    },
    "id": "9b85f33d",
    "outputId": "02ab87cb-3b67-4b56-f62b-d745b0907be7"
   },
   "outputs": [
    {
     "name": "stdout",
     "output_type": "stream",
     "text": [
      "5.329634617347526\n",
      "6.328946458616636\n",
      "7.484549354810032\n",
      "4.104586133436941\n"
     ]
    }
   ],
   "source": [
    "print(6474632/len(df[~((round(df.price)<=5000)|(round(df.price)>=10000000))])) #\n",
    "print(7688632/len(df[~((round(df.price)<=5000)|(round(df.price)>=10000000))]))\n",
    "print(9092500/len(df[~((round(df.price)<=5000)|(round(df.price)>=10000000))]))\n",
    "print(4986399/len(df[~((round(df.price)<=5000)|(round(df.price)>=10000000))]))"
   ]
  },
  {
   "cell_type": "code",
   "execution_count": 34,
   "id": "7092afe7",
   "metadata": {
    "colab": {
     "base_uri": "https://localhost:8080/",
     "height": 112
    },
    "id": "7092afe7",
    "outputId": "2005c7cb-4f57-496f-88b6-bc328670c413"
   },
   "outputs": [
    {
     "data": {
      "text/html": [
       "<div>\n",
       "<style scoped>\n",
       "    .dataframe tbody tr th:only-of-type {\n",
       "        vertical-align: middle;\n",
       "    }\n",
       "\n",
       "    .dataframe tbody tr th {\n",
       "        vertical-align: top;\n",
       "    }\n",
       "\n",
       "    .dataframe thead th {\n",
       "        text-align: right;\n",
       "    }\n",
       "</style>\n",
       "<table border=\"1\" class=\"dataframe\">\n",
       "  <thead>\n",
       "    <tr style=\"text-align: right;\">\n",
       "      <th></th>\n",
       "      <th>price</th>\n",
       "    </tr>\n",
       "    <tr>\n",
       "      <th>year</th>\n",
       "      <th></th>\n",
       "    </tr>\n",
       "  </thead>\n",
       "  <tbody>\n",
       "    <tr>\n",
       "      <th>2015</th>\n",
       "      <td>10500</td>\n",
       "    </tr>\n",
       "    <tr>\n",
       "      <th>2016</th>\n",
       "      <td>10039</td>\n",
       "    </tr>\n",
       "    <tr>\n",
       "      <th>2017</th>\n",
       "      <td>10202</td>\n",
       "    </tr>\n",
       "    <tr>\n",
       "      <th>2018</th>\n",
       "      <td>10101</td>\n",
       "    </tr>\n",
       "    <tr>\n",
       "      <th>2019</th>\n",
       "      <td>10125</td>\n",
       "    </tr>\n",
       "    <tr>\n",
       "      <th>2020</th>\n",
       "      <td>10200</td>\n",
       "    </tr>\n",
       "    <tr>\n",
       "      <th>2021</th>\n",
       "      <td>10250</td>\n",
       "    </tr>\n",
       "    <tr>\n",
       "      <th>2022</th>\n",
       "      <td>10100</td>\n",
       "    </tr>\n",
       "  </tbody>\n",
       "</table>\n",
       "</div>"
      ],
      "text/plain": [
       "      price\n",
       "year       \n",
       "2015  10500\n",
       "2016  10039\n",
       "2017  10202\n",
       "2018  10101\n",
       "2019  10125\n",
       "2020  10200\n",
       "2021  10250\n",
       "2022  10100"
      ]
     },
     "execution_count": 34,
     "metadata": {},
     "output_type": "execute_result"
    }
   ],
   "source": [
    "df[~((round(df.price)<=10000)|(round(df.price)>=10000000))].groupby(['year']).agg({'price':'min'})"
   ]
  },
  {
   "cell_type": "code",
   "execution_count": 35,
   "id": "e4054674",
   "metadata": {
    "colab": {
     "base_uri": "https://localhost:8080/",
     "height": 330
    },
    "id": "e4054674",
    "outputId": "64c62494-2f9b-4a3e-8cff-ef8a48b3e20d"
   },
   "outputs": [
    {
     "data": {
      "text/html": [
       "<div>\n",
       "<style scoped>\n",
       "    .dataframe tbody tr th:only-of-type {\n",
       "        vertical-align: middle;\n",
       "    }\n",
       "\n",
       "    .dataframe tbody tr th {\n",
       "        vertical-align: top;\n",
       "    }\n",
       "\n",
       "    .dataframe thead th {\n",
       "        text-align: right;\n",
       "    }\n",
       "</style>\n",
       "<table border=\"1\" class=\"dataframe\">\n",
       "  <thead>\n",
       "    <tr style=\"text-align: right;\">\n",
       "      <th></th>\n",
       "      <th>Transaction_unique_identifier</th>\n",
       "      <th>price</th>\n",
       "      <th>Date_of_Transfer</th>\n",
       "      <th>postcode</th>\n",
       "      <th>Property_Type</th>\n",
       "      <th>Old/New</th>\n",
       "      <th>Duration</th>\n",
       "      <th>PAON</th>\n",
       "      <th>SAON</th>\n",
       "      <th>Street</th>\n",
       "      <th>Locality</th>\n",
       "      <th>Town/City</th>\n",
       "      <th>District</th>\n",
       "      <th>County</th>\n",
       "      <th>PPDCategory_Type</th>\n",
       "      <th>Record_Status - monthly_file_only</th>\n",
       "      <th>year</th>\n",
       "      <th>month</th>\n",
       "    </tr>\n",
       "  </thead>\n",
       "  <tbody>\n",
       "    <tr>\n",
       "      <th>0</th>\n",
       "      <td>{C9F5B3E7-A756-4F0A-9F8D-976CF4DE4273}</td>\n",
       "      <td>285000</td>\n",
       "      <td>2015-01-09</td>\n",
       "      <td>PO5 2PR</td>\n",
       "      <td>T</td>\n",
       "      <td>N</td>\n",
       "      <td>F</td>\n",
       "      <td>66</td>\n",
       "      <td>None</td>\n",
       "      <td>WAVERLEY ROAD</td>\n",
       "      <td>None</td>\n",
       "      <td>SOUTHSEA</td>\n",
       "      <td>PORTSMOUTH</td>\n",
       "      <td>PORTSMOUTH</td>\n",
       "      <td>A</td>\n",
       "      <td>A</td>\n",
       "      <td>2015</td>\n",
       "      <td>1</td>\n",
       "    </tr>\n",
       "    <tr>\n",
       "      <th>1</th>\n",
       "      <td>{2191DFFD-12BE-4996-8374-FCFC38581EEE}</td>\n",
       "      <td>182000</td>\n",
       "      <td>2015-01-30</td>\n",
       "      <td>EX4 7BX</td>\n",
       "      <td>T</td>\n",
       "      <td>N</td>\n",
       "      <td>F</td>\n",
       "      <td>68</td>\n",
       "      <td>None</td>\n",
       "      <td>CHAUCER GROVE</td>\n",
       "      <td>None</td>\n",
       "      <td>EXETER</td>\n",
       "      <td>EXETER</td>\n",
       "      <td>DEVON</td>\n",
       "      <td>A</td>\n",
       "      <td>A</td>\n",
       "      <td>2015</td>\n",
       "      <td>1</td>\n",
       "    </tr>\n",
       "    <tr>\n",
       "      <th>2</th>\n",
       "      <td>{E73499F9-D901-4426-8C49-13CCCD8A802D}</td>\n",
       "      <td>105000</td>\n",
       "      <td>2015-01-12</td>\n",
       "      <td>NR10 3HY</td>\n",
       "      <td>F</td>\n",
       "      <td>N</td>\n",
       "      <td>L</td>\n",
       "      <td>33</td>\n",
       "      <td>None</td>\n",
       "      <td>WEAVERS CLOSE</td>\n",
       "      <td>HORSHAM ST FAITH</td>\n",
       "      <td>NORWICH</td>\n",
       "      <td>BROADLAND</td>\n",
       "      <td>NORFOLK</td>\n",
       "      <td>A</td>\n",
       "      <td>A</td>\n",
       "      <td>2015</td>\n",
       "      <td>1</td>\n",
       "    </tr>\n",
       "    <tr>\n",
       "      <th>3</th>\n",
       "      <td>{F1A49409-DE04-45B7-86B2-8ADDBAB5A5BC}</td>\n",
       "      <td>180000</td>\n",
       "      <td>2015-01-29</td>\n",
       "      <td>BN17 5PE</td>\n",
       "      <td>T</td>\n",
       "      <td>N</td>\n",
       "      <td>F</td>\n",
       "      <td>32</td>\n",
       "      <td>None</td>\n",
       "      <td>NORFOLK GARDENS</td>\n",
       "      <td>None</td>\n",
       "      <td>LITTLEHAMPTON</td>\n",
       "      <td>ARUN</td>\n",
       "      <td>WEST SUSSEX</td>\n",
       "      <td>A</td>\n",
       "      <td>A</td>\n",
       "      <td>2015</td>\n",
       "      <td>1</td>\n",
       "    </tr>\n",
       "    <tr>\n",
       "      <th>4</th>\n",
       "      <td>{27CAC963-61D0-4D2E-8515-1A1512CF4A64}</td>\n",
       "      <td>120000</td>\n",
       "      <td>2015-01-08</td>\n",
       "      <td>LA4 6DL</td>\n",
       "      <td>F</td>\n",
       "      <td>N</td>\n",
       "      <td>L</td>\n",
       "      <td>23</td>\n",
       "      <td>None</td>\n",
       "      <td>CLARENCE COURT</td>\n",
       "      <td>None</td>\n",
       "      <td>MORECAMBE</td>\n",
       "      <td>LANCASTER</td>\n",
       "      <td>LANCASHIRE</td>\n",
       "      <td>A</td>\n",
       "      <td>A</td>\n",
       "      <td>2015</td>\n",
       "      <td>1</td>\n",
       "    </tr>\n",
       "  </tbody>\n",
       "</table>\n",
       "</div>"
      ],
      "text/plain": [
       "            Transaction_unique_identifier   price Date_of_Transfer  postcode  \\\n",
       "0  {C9F5B3E7-A756-4F0A-9F8D-976CF4DE4273}  285000       2015-01-09   PO5 2PR   \n",
       "1  {2191DFFD-12BE-4996-8374-FCFC38581EEE}  182000       2015-01-30   EX4 7BX   \n",
       "2  {E73499F9-D901-4426-8C49-13CCCD8A802D}  105000       2015-01-12  NR10 3HY   \n",
       "3  {F1A49409-DE04-45B7-86B2-8ADDBAB5A5BC}  180000       2015-01-29  BN17 5PE   \n",
       "4  {27CAC963-61D0-4D2E-8515-1A1512CF4A64}  120000       2015-01-08   LA4 6DL   \n",
       "\n",
       "  Property_Type Old/New Duration PAON  SAON           Street  \\\n",
       "0             T       N        F   66  None    WAVERLEY ROAD   \n",
       "1             T       N        F   68  None    CHAUCER GROVE   \n",
       "2             F       N        L   33  None    WEAVERS CLOSE   \n",
       "3             T       N        F   32  None  NORFOLK GARDENS   \n",
       "4             F       N        L   23  None   CLARENCE COURT   \n",
       "\n",
       "           Locality      Town/City    District       County PPDCategory_Type  \\\n",
       "0              None       SOUTHSEA  PORTSMOUTH   PORTSMOUTH                A   \n",
       "1              None         EXETER      EXETER        DEVON                A   \n",
       "2  HORSHAM ST FAITH        NORWICH   BROADLAND      NORFOLK                A   \n",
       "3              None  LITTLEHAMPTON        ARUN  WEST SUSSEX                A   \n",
       "4              None      MORECAMBE   LANCASTER   LANCASHIRE                A   \n",
       "\n",
       "  Record_Status - monthly_file_only  year  month  \n",
       "0                                 A  2015      1  \n",
       "1                                 A  2015      1  \n",
       "2                                 A  2015      1  \n",
       "3                                 A  2015      1  \n",
       "4                                 A  2015      1  "
      ]
     },
     "execution_count": 35,
     "metadata": {},
     "output_type": "execute_result"
    }
   ],
   "source": [
    "df.head()"
   ]
  },
  {
   "cell_type": "code",
   "execution_count": 36,
   "id": "0504afff",
   "metadata": {
    "id": "0504afff"
   },
   "outputs": [],
   "source": [
    "df.loc[df.index[((round(df.price)>=5000)&(round(df.price)<150000))],'Flag']= 'Low'\n",
    "df.loc[df.index[((round(df.price)>=150000)&(round(df.price)<270000))],'Flag']= 'Medium' # Low\n",
    "df.loc[df.index[((round(df.price)>=270000)&(round(df.price)<400000))],'Flag']= 'High' # Moderate\n",
    "df.loc[df.index[((round(df.price)>=400000)&(round(df.price)<=10000000))],'Flag']= 'Very High' # High"
   ]
  },
  {
   "cell_type": "code",
   "execution_count": 37,
   "id": "e1b1016c",
   "metadata": {
    "colab": {
     "base_uri": "https://localhost:8080/"
    },
    "id": "e1b1016c",
    "outputId": "ce56e4cf-d615-4615-9286-e6a9dc100c88"
   },
   "outputs": [
    {
     "data": {
      "text/plain": [
       "Medium       402628\n",
       "Low          300581\n",
       "Very High    260254\n",
       "High         251883\n",
       "NaN            4162\n",
       "Name: Flag, dtype: int64"
      ]
     },
     "execution_count": 37,
     "metadata": {},
     "output_type": "execute_result"
    }
   ],
   "source": [
    "df.Flag.value_counts(dropna=False)"
   ]
  },
  {
   "cell_type": "code",
   "execution_count": 38,
   "id": "bc3d57d2",
   "metadata": {
    "colab": {
     "base_uri": "https://localhost:8080/",
     "height": 330
    },
    "id": "bc3d57d2",
    "outputId": "f934e6dd-ecbe-4070-be54-9fe75b05959b"
   },
   "outputs": [
    {
     "data": {
      "text/html": [
       "<div>\n",
       "<style scoped>\n",
       "    .dataframe tbody tr th:only-of-type {\n",
       "        vertical-align: middle;\n",
       "    }\n",
       "\n",
       "    .dataframe tbody tr th {\n",
       "        vertical-align: top;\n",
       "    }\n",
       "\n",
       "    .dataframe thead th {\n",
       "        text-align: right;\n",
       "    }\n",
       "</style>\n",
       "<table border=\"1\" class=\"dataframe\">\n",
       "  <thead>\n",
       "    <tr style=\"text-align: right;\">\n",
       "      <th></th>\n",
       "      <th>Transaction_unique_identifier</th>\n",
       "      <th>price</th>\n",
       "      <th>Date_of_Transfer</th>\n",
       "      <th>postcode</th>\n",
       "      <th>Property_Type</th>\n",
       "      <th>Old/New</th>\n",
       "      <th>Duration</th>\n",
       "      <th>PAON</th>\n",
       "      <th>SAON</th>\n",
       "      <th>Street</th>\n",
       "      <th>Locality</th>\n",
       "      <th>Town/City</th>\n",
       "      <th>District</th>\n",
       "      <th>County</th>\n",
       "      <th>PPDCategory_Type</th>\n",
       "      <th>Record_Status - monthly_file_only</th>\n",
       "      <th>year</th>\n",
       "      <th>month</th>\n",
       "      <th>Flag</th>\n",
       "    </tr>\n",
       "  </thead>\n",
       "  <tbody>\n",
       "    <tr>\n",
       "      <th>300</th>\n",
       "      <td>{21E5FEB7-1B45-2439-E050-A8C06205342E}</td>\n",
       "      <td>87459419</td>\n",
       "      <td>2015-01-09</td>\n",
       "      <td>M3 3EB</td>\n",
       "      <td>O</td>\n",
       "      <td>N</td>\n",
       "      <td>L</td>\n",
       "      <td>3</td>\n",
       "      <td>UNIT 1</td>\n",
       "      <td>HARDMAN SQUARE</td>\n",
       "      <td>None</td>\n",
       "      <td>MANCHESTER</td>\n",
       "      <td>MANCHESTER</td>\n",
       "      <td>GREATER MANCHESTER</td>\n",
       "      <td>B</td>\n",
       "      <td>A</td>\n",
       "      <td>2015</td>\n",
       "      <td>1</td>\n",
       "      <td>NaN</td>\n",
       "    </tr>\n",
       "    <tr>\n",
       "      <th>1218</th>\n",
       "      <td>{21E5FEB7-03F9-2439-E050-A8C06205342E}</td>\n",
       "      <td>19972500</td>\n",
       "      <td>2015-01-29</td>\n",
       "      <td>SO40 3ND</td>\n",
       "      <td>O</td>\n",
       "      <td>N</td>\n",
       "      <td>L</td>\n",
       "      <td>TESTWOOD HOTEL</td>\n",
       "      <td>None</td>\n",
       "      <td>SALSBURY ROAD</td>\n",
       "      <td>TOTTON</td>\n",
       "      <td>SOUTHAMPTON</td>\n",
       "      <td>NEW FOREST</td>\n",
       "      <td>HAMPSHIRE</td>\n",
       "      <td>B</td>\n",
       "      <td>A</td>\n",
       "      <td>2015</td>\n",
       "      <td>1</td>\n",
       "      <td>NaN</td>\n",
       "    </tr>\n",
       "    <tr>\n",
       "      <th>2730</th>\n",
       "      <td>{21E5FEB7-915A-2439-E050-A8C06205342E}</td>\n",
       "      <td>54900000</td>\n",
       "      <td>2015-01-19</td>\n",
       "      <td>W6 7EF</td>\n",
       "      <td>O</td>\n",
       "      <td>N</td>\n",
       "      <td>F</td>\n",
       "      <td>ELMS HOUSE, 43</td>\n",
       "      <td>None</td>\n",
       "      <td>BROOK GREEN</td>\n",
       "      <td>None</td>\n",
       "      <td>LONDON</td>\n",
       "      <td>HAMMERSMITH AND FULHAM</td>\n",
       "      <td>GREATER LONDON</td>\n",
       "      <td>B</td>\n",
       "      <td>A</td>\n",
       "      <td>2015</td>\n",
       "      <td>1</td>\n",
       "      <td>NaN</td>\n",
       "    </tr>\n",
       "    <tr>\n",
       "      <th>3561</th>\n",
       "      <td>{21E5FEB7-01BE-2439-E050-A8C06205342E}</td>\n",
       "      <td>1950</td>\n",
       "      <td>2015-01-24</td>\n",
       "      <td>LS2 7JF</td>\n",
       "      <td>O</td>\n",
       "      <td>N</td>\n",
       "      <td>L</td>\n",
       "      <td>LEEMING HOUSE</td>\n",
       "      <td>None</td>\n",
       "      <td>VICAR LANE</td>\n",
       "      <td>None</td>\n",
       "      <td>LEEDS</td>\n",
       "      <td>LEEDS</td>\n",
       "      <td>WEST YORKSHIRE</td>\n",
       "      <td>B</td>\n",
       "      <td>A</td>\n",
       "      <td>2015</td>\n",
       "      <td>1</td>\n",
       "      <td>NaN</td>\n",
       "    </tr>\n",
       "    <tr>\n",
       "      <th>4817</th>\n",
       "      <td>{21E5FEB7-6483-2439-E050-A8C06205342E}</td>\n",
       "      <td>25996999</td>\n",
       "      <td>2015-01-08</td>\n",
       "      <td>None</td>\n",
       "      <td>O</td>\n",
       "      <td>N</td>\n",
       "      <td>F</td>\n",
       "      <td>G PARK</td>\n",
       "      <td>PLOT 1</td>\n",
       "      <td>DOCKHAM WAY</td>\n",
       "      <td>CRICK</td>\n",
       "      <td>NORTHAMPTON</td>\n",
       "      <td>DAVENTRY</td>\n",
       "      <td>NORTHAMPTONSHIRE</td>\n",
       "      <td>B</td>\n",
       "      <td>A</td>\n",
       "      <td>2015</td>\n",
       "      <td>1</td>\n",
       "      <td>NaN</td>\n",
       "    </tr>\n",
       "  </tbody>\n",
       "</table>\n",
       "</div>"
      ],
      "text/plain": [
       "               Transaction_unique_identifier     price Date_of_Transfer  \\\n",
       "300   {21E5FEB7-1B45-2439-E050-A8C06205342E}  87459419       2015-01-09   \n",
       "1218  {21E5FEB7-03F9-2439-E050-A8C06205342E}  19972500       2015-01-29   \n",
       "2730  {21E5FEB7-915A-2439-E050-A8C06205342E}  54900000       2015-01-19   \n",
       "3561  {21E5FEB7-01BE-2439-E050-A8C06205342E}      1950       2015-01-24   \n",
       "4817  {21E5FEB7-6483-2439-E050-A8C06205342E}  25996999       2015-01-08   \n",
       "\n",
       "      postcode Property_Type Old/New Duration            PAON    SAON  \\\n",
       "300     M3 3EB             O       N        L               3  UNIT 1   \n",
       "1218  SO40 3ND             O       N        L  TESTWOOD HOTEL    None   \n",
       "2730    W6 7EF             O       N        F  ELMS HOUSE, 43    None   \n",
       "3561   LS2 7JF             O       N        L   LEEMING HOUSE    None   \n",
       "4817      None             O       N        F          G PARK  PLOT 1   \n",
       "\n",
       "              Street Locality    Town/City                District  \\\n",
       "300   HARDMAN SQUARE     None   MANCHESTER              MANCHESTER   \n",
       "1218   SALSBURY ROAD   TOTTON  SOUTHAMPTON              NEW FOREST   \n",
       "2730     BROOK GREEN     None       LONDON  HAMMERSMITH AND FULHAM   \n",
       "3561      VICAR LANE     None        LEEDS                   LEEDS   \n",
       "4817     DOCKHAM WAY    CRICK  NORTHAMPTON                DAVENTRY   \n",
       "\n",
       "                  County PPDCategory_Type Record_Status - monthly_file_only  \\\n",
       "300   GREATER MANCHESTER                B                                 A   \n",
       "1218           HAMPSHIRE                B                                 A   \n",
       "2730      GREATER LONDON                B                                 A   \n",
       "3561      WEST YORKSHIRE                B                                 A   \n",
       "4817    NORTHAMPTONSHIRE                B                                 A   \n",
       "\n",
       "      year  month Flag  \n",
       "300   2015      1  NaN  \n",
       "1218  2015      1  NaN  \n",
       "2730  2015      1  NaN  \n",
       "3561  2015      1  NaN  \n",
       "4817  2015      1  NaN  "
      ]
     },
     "execution_count": 38,
     "metadata": {},
     "output_type": "execute_result"
    }
   ],
   "source": [
    "df[df.Flag.isnull()].head()"
   ]
  },
  {
   "cell_type": "code",
   "execution_count": 39,
   "id": "eff35bf3",
   "metadata": {
    "id": "eff35bf3"
   },
   "outputs": [],
   "source": [
    "# print(df.shape)\n",
    "# dfwithoutNaN = df.dropna(subset=['Flag'])\n",
    "# print(dfwithoutNaN.shape)"
   ]
  },
  {
   "cell_type": "code",
   "execution_count": 40,
   "id": "1220f699",
   "metadata": {
    "id": "1220f699"
   },
   "outputs": [],
   "source": [
    "# print(dfwithoutNaN.Flag.value_counts(dropna=False))\n",
    "# del dfwithoutNaN"
   ]
  },
  {
   "cell_type": "code",
   "execution_count": 41,
   "id": "322edcc0",
   "metadata": {
    "colab": {
     "base_uri": "https://localhost:8080/",
     "height": 653
    },
    "id": "322edcc0",
    "outputId": "7dd2dc79-57e8-4bf5-bc40-4df8004e246d"
   },
   "outputs": [
    {
     "data": {
      "image/png": "[encoded data removed]",
      "text/plain": [
       "<Figure size 800x800 with 1 Axes>"
      ]
     },
     "metadata": {},
     "output_type": "display_data"
    }
   ],
   "source": [
    "\n",
    "labels = df['Flag'].astype('category').cat.categories. tolist()\n",
    "counts = df['Flag'].value_counts()\n",
    "sizes = [counts[var_cat] for var_cat in labels]\n",
    "figi, ax1 = plt. subplots (figsize = (8,8))\n",
    "ax1. pie(sizes, labels=labels, autopct='%1.1f%%', shadow=True)\n",
    "ax1. axis ('equal')\n",
    "plt. show()"
   ]
  },
  {
   "cell_type": "code",
   "execution_count": 42,
   "id": "c94ed6ed",
   "metadata": {
    "colab": {
     "base_uri": "https://localhost:8080/"
    },
    "id": "c94ed6ed",
    "outputId": "02eeb42f-9ffa-4e3b-a7e5-9ee163f67f33"
   },
   "outputs": [
    {
     "name": "stdout",
     "output_type": "stream",
     "text": [
      "Index(['Transaction_unique_identifier', 'price', 'Date_of_Transfer',\n",
      "       'postcode', 'Property_Type', 'Old/New', 'Duration', 'PAON', 'SAON',\n",
      "       'Street', 'Locality', 'Town/City', 'District', 'County',\n",
      "       'PPDCategory_Type', 'Record_Status - monthly_file_only', 'year',\n",
      "       'month', 'Flag'],\n",
      "      dtype='object')\n"
     ]
    },
    {
     "data": {
      "text/plain": [
       "Transaction_unique_identifier                object\n",
       "price                                         int64\n",
       "Date_of_Transfer                     datetime64[ns]\n",
       "postcode                                     object\n",
       "Property_Type                                object\n",
       "Old/New                                      object\n",
       "Duration                                     object\n",
       "PAON                                         object\n",
       "SAON                                         object\n",
       "Street                                       object\n",
       "Locality                                     object\n",
       "Town/City                                    object\n",
       "District                                     object\n",
       "County                                       object\n",
       "PPDCategory_Type                             object\n",
       "Record_Status - monthly_file_only            object\n",
       "year                                          int64\n",
       "month                                         int64\n",
       "Flag                                         object\n",
       "dtype: object"
      ]
     },
     "execution_count": 42,
     "metadata": {},
     "output_type": "execute_result"
    }
   ],
   "source": [
    "#from pandas_visual_analysis import VisualAnalysis\n",
    "print(df.columns)\n",
    "df.dtypes"
   ]
  },
  {
   "cell_type": "code",
   "execution_count": 43,
   "id": "9e596049",
   "metadata": {
    "colab": {
     "base_uri": "https://localhost:8080/"
    },
    "id": "9e596049",
    "outputId": "da5e07de-ca40-45e0-a611-4d903b802d9b"
   },
   "outputs": [
    {
     "data": {
      "text/plain": [
       "Transaction_unique_identifier        1219508\n",
       "price                                  38894\n",
       "Date_of_Transfer                        2820\n",
       "postcode                              628464\n",
       "Property_Type                              5\n",
       "Old/New                                    2\n",
       "Duration                                   2\n",
       "PAON                                  100742\n",
       "SAON                                   11979\n",
       "Street                                202341\n",
       "Locality                               17466\n",
       "Town/City                               1148\n",
       "District                                 361\n",
       "County                                   117\n",
       "PPDCategory_Type                           2\n",
       "Record_Status - monthly_file_only          1\n",
       "year                                       8\n",
       "month                                     12\n",
       "Flag                                       4\n",
       "dtype: int64"
      ]
     },
     "execution_count": 43,
     "metadata": {},
     "output_type": "execute_result"
    }
   ],
   "source": [
    "df.nunique()"
   ]
  },
  {
   "cell_type": "code",
   "execution_count": 44,
   "id": "f1c941bf",
   "metadata": {},
   "outputs": [
    {
     "name": "stdout",
     "output_type": "stream",
     "text": [
      "(1219508, 19)\n",
      "17466\n"
     ]
    },
    {
     "data": {
      "text/plain": [
       "None         761161\n",
       "MIDDLETON      1227\n",
       "SHIRLEY        1137\n",
       "WORSLEY        1097\n",
       "KINGSWOOD      1000\n",
       "Name: Locality, dtype: int64"
      ]
     },
     "execution_count": 44,
     "metadata": {},
     "output_type": "execute_result"
    }
   ],
   "source": [
    "print(df.shape)\n",
    "print(df.Locality.nunique())\n",
    "df.Locality.value_counts(dropna=False).head()"
   ]
  },
  {
   "cell_type": "code",
   "execution_count": 45,
   "id": "ed6b54e9",
   "metadata": {},
   "outputs": [
    {
     "data": {
      "text/plain": [
       "A    1047831\n",
       "B     171677\n",
       "Name: PPDCategory_Type, dtype: int64"
      ]
     },
     "execution_count": 45,
     "metadata": {},
     "output_type": "execute_result"
    }
   ],
   "source": [
    "df.PPDCategory_Type.value_counts(dropna=False)"
   ]
  },
  {
   "cell_type": "code",
   "execution_count": 46,
   "id": "d17971d9",
   "metadata": {
    "colab": {
     "base_uri": "https://localhost:8080/",
     "height": 330
    },
    "id": "d17971d9",
    "outputId": "995740f1-7fc0-4f54-de76-b97de1d39c77"
   },
   "outputs": [
    {
     "data": {
      "text/html": [
       "<div>\n",
       "<style scoped>\n",
       "    .dataframe tbody tr th:only-of-type {\n",
       "        vertical-align: middle;\n",
       "    }\n",
       "\n",
       "    .dataframe tbody tr th {\n",
       "        vertical-align: top;\n",
       "    }\n",
       "\n",
       "    .dataframe thead th {\n",
       "        text-align: right;\n",
       "    }\n",
       "</style>\n",
       "<table border=\"1\" class=\"dataframe\">\n",
       "  <thead>\n",
       "    <tr style=\"text-align: right;\">\n",
       "      <th></th>\n",
       "      <th>Transaction_unique_identifier</th>\n",
       "      <th>price</th>\n",
       "      <th>Date_of_Transfer</th>\n",
       "      <th>postcode</th>\n",
       "      <th>Property_Type</th>\n",
       "      <th>Old/New</th>\n",
       "      <th>Duration</th>\n",
       "      <th>PAON</th>\n",
       "      <th>SAON</th>\n",
       "      <th>Street</th>\n",
       "      <th>Locality</th>\n",
       "      <th>Town/City</th>\n",
       "      <th>District</th>\n",
       "      <th>County</th>\n",
       "      <th>PPDCategory_Type</th>\n",
       "      <th>Record_Status - monthly_file_only</th>\n",
       "      <th>year</th>\n",
       "      <th>month</th>\n",
       "      <th>Flag</th>\n",
       "    </tr>\n",
       "  </thead>\n",
       "  <tbody>\n",
       "    <tr>\n",
       "      <th>0</th>\n",
       "      <td>{C9F5B3E7-A756-4F0A-9F8D-976CF4DE4273}</td>\n",
       "      <td>285000</td>\n",
       "      <td>2015-01-09</td>\n",
       "      <td>PO5 2PR</td>\n",
       "      <td>T</td>\n",
       "      <td>N</td>\n",
       "      <td>F</td>\n",
       "      <td>66</td>\n",
       "      <td>None</td>\n",
       "      <td>WAVERLEY ROAD</td>\n",
       "      <td>None</td>\n",
       "      <td>SOUTHSEA</td>\n",
       "      <td>PORTSMOUTH</td>\n",
       "      <td>PORTSMOUTH</td>\n",
       "      <td>A</td>\n",
       "      <td>A</td>\n",
       "      <td>2015</td>\n",
       "      <td>1</td>\n",
       "      <td>High</td>\n",
       "    </tr>\n",
       "    <tr>\n",
       "      <th>1</th>\n",
       "      <td>{2191DFFD-12BE-4996-8374-FCFC38581EEE}</td>\n",
       "      <td>182000</td>\n",
       "      <td>2015-01-30</td>\n",
       "      <td>EX4 7BX</td>\n",
       "      <td>T</td>\n",
       "      <td>N</td>\n",
       "      <td>F</td>\n",
       "      <td>68</td>\n",
       "      <td>None</td>\n",
       "      <td>CHAUCER GROVE</td>\n",
       "      <td>None</td>\n",
       "      <td>EXETER</td>\n",
       "      <td>EXETER</td>\n",
       "      <td>DEVON</td>\n",
       "      <td>A</td>\n",
       "      <td>A</td>\n",
       "      <td>2015</td>\n",
       "      <td>1</td>\n",
       "      <td>Medium</td>\n",
       "    </tr>\n",
       "    <tr>\n",
       "      <th>2</th>\n",
       "      <td>{E73499F9-D901-4426-8C49-13CCCD8A802D}</td>\n",
       "      <td>105000</td>\n",
       "      <td>2015-01-12</td>\n",
       "      <td>NR10 3HY</td>\n",
       "      <td>F</td>\n",
       "      <td>N</td>\n",
       "      <td>L</td>\n",
       "      <td>33</td>\n",
       "      <td>None</td>\n",
       "      <td>WEAVERS CLOSE</td>\n",
       "      <td>HORSHAM ST FAITH</td>\n",
       "      <td>NORWICH</td>\n",
       "      <td>BROADLAND</td>\n",
       "      <td>NORFOLK</td>\n",
       "      <td>A</td>\n",
       "      <td>A</td>\n",
       "      <td>2015</td>\n",
       "      <td>1</td>\n",
       "      <td>Low</td>\n",
       "    </tr>\n",
       "    <tr>\n",
       "      <th>3</th>\n",
       "      <td>{F1A49409-DE04-45B7-86B2-8ADDBAB5A5BC}</td>\n",
       "      <td>180000</td>\n",
       "      <td>2015-01-29</td>\n",
       "      <td>BN17 5PE</td>\n",
       "      <td>T</td>\n",
       "      <td>N</td>\n",
       "      <td>F</td>\n",
       "      <td>32</td>\n",
       "      <td>None</td>\n",
       "      <td>NORFOLK GARDENS</td>\n",
       "      <td>None</td>\n",
       "      <td>LITTLEHAMPTON</td>\n",
       "      <td>ARUN</td>\n",
       "      <td>WEST SUSSEX</td>\n",
       "      <td>A</td>\n",
       "      <td>A</td>\n",
       "      <td>2015</td>\n",
       "      <td>1</td>\n",
       "      <td>Medium</td>\n",
       "    </tr>\n",
       "    <tr>\n",
       "      <th>4</th>\n",
       "      <td>{27CAC963-61D0-4D2E-8515-1A1512CF4A64}</td>\n",
       "      <td>120000</td>\n",
       "      <td>2015-01-08</td>\n",
       "      <td>LA4 6DL</td>\n",
       "      <td>F</td>\n",
       "      <td>N</td>\n",
       "      <td>L</td>\n",
       "      <td>23</td>\n",
       "      <td>None</td>\n",
       "      <td>CLARENCE COURT</td>\n",
       "      <td>None</td>\n",
       "      <td>MORECAMBE</td>\n",
       "      <td>LANCASTER</td>\n",
       "      <td>LANCASHIRE</td>\n",
       "      <td>A</td>\n",
       "      <td>A</td>\n",
       "      <td>2015</td>\n",
       "      <td>1</td>\n",
       "      <td>Low</td>\n",
       "    </tr>\n",
       "  </tbody>\n",
       "</table>\n",
       "</div>"
      ],
      "text/plain": [
       "            Transaction_unique_identifier   price Date_of_Transfer  postcode  \\\n",
       "0  {C9F5B3E7-A756-4F0A-9F8D-976CF4DE4273}  285000       2015-01-09   PO5 2PR   \n",
       "1  {2191DFFD-12BE-4996-8374-FCFC38581EEE}  182000       2015-01-30   EX4 7BX   \n",
       "2  {E73499F9-D901-4426-8C49-13CCCD8A802D}  105000       2015-01-12  NR10 3HY   \n",
       "3  {F1A49409-DE04-45B7-86B2-8ADDBAB5A5BC}  180000       2015-01-29  BN17 5PE   \n",
       "4  {27CAC963-61D0-4D2E-8515-1A1512CF4A64}  120000       2015-01-08   LA4 6DL   \n",
       "\n",
       "  Property_Type Old/New Duration PAON  SAON           Street  \\\n",
       "0             T       N        F   66  None    WAVERLEY ROAD   \n",
       "1             T       N        F   68  None    CHAUCER GROVE   \n",
       "2             F       N        L   33  None    WEAVERS CLOSE   \n",
       "3             T       N        F   32  None  NORFOLK GARDENS   \n",
       "4             F       N        L   23  None   CLARENCE COURT   \n",
       "\n",
       "           Locality      Town/City    District       County PPDCategory_Type  \\\n",
       "0              None       SOUTHSEA  PORTSMOUTH   PORTSMOUTH                A   \n",
       "1              None         EXETER      EXETER        DEVON                A   \n",
       "2  HORSHAM ST FAITH        NORWICH   BROADLAND      NORFOLK                A   \n",
       "3              None  LITTLEHAMPTON        ARUN  WEST SUSSEX                A   \n",
       "4              None      MORECAMBE   LANCASTER   LANCASHIRE                A   \n",
       "\n",
       "  Record_Status - monthly_file_only  year  month    Flag  \n",
       "0                                 A  2015      1    High  \n",
       "1                                 A  2015      1  Medium  \n",
       "2                                 A  2015      1     Low  \n",
       "3                                 A  2015      1  Medium  \n",
       "4                                 A  2015      1     Low  "
      ]
     },
     "execution_count": 46,
     "metadata": {},
     "output_type": "execute_result"
    }
   ],
   "source": [
    "df.head()"
   ]
  },
  {
   "cell_type": "code",
   "execution_count": 47,
   "id": "83406b34",
   "metadata": {
    "id": "83406b34"
   },
   "outputs": [],
   "source": [
    "from sklearn.preprocessing import LabelEncoder\n",
    "\n",
    "label_encoder = LabelEncoder()\n",
    "df['Street_encoded'] = label_encoder.fit_transform(df['Street'])\n",
    "df['Locality_encoded'] = label_encoder.fit_transform(df['Locality'])\n",
    "df['Town/City_encoded'] = label_encoder.fit_transform(df['Town/City'])\n",
    "df['District_encoded'] = label_encoder.fit_transform(df['District'])\n",
    "df['County_encoded'] = label_encoder.fit_transform(df['County'])\n",
    "\n",
    "df['postcode_encoded'] = label_encoder.fit_transform(df['postcode'])\n",
    "df['Property_Type_encoded'] = label_encoder.fit_transform(df['Property_Type'])\n",
    "df['Old/New_encoded'] = label_encoder.fit_transform(df['Old/New'])\n",
    "df['Duration_encoded'] = label_encoder.fit_transform(df['Duration'])\n",
    "df['PAON_encoded'] = label_encoder.fit_transform(df['PAON'])\n",
    "df['SAON_encoded'] = label_encoder.fit_transform(df['SAON'])\n",
    "df['PPDCategory_Type_encoded'] = label_encoder.fit_transform(df['PPDCategory_Type'])"
   ]
  },
  {
   "cell_type": "code",
   "execution_count": 48,
   "id": "99f1e014",
   "metadata": {
    "colab": {
     "base_uri": "https://localhost:8080/",
     "height": 330
    },
    "id": "99f1e014",
    "outputId": "bd07575f-9dc6-4a4e-ad69-50f6973bcb94"
   },
   "outputs": [
    {
     "data": {
      "text/html": [
       "<div>\n",
       "<style scoped>\n",
       "    .dataframe tbody tr th:only-of-type {\n",
       "        vertical-align: middle;\n",
       "    }\n",
       "\n",
       "    .dataframe tbody tr th {\n",
       "        vertical-align: top;\n",
       "    }\n",
       "\n",
       "    .dataframe thead th {\n",
       "        text-align: right;\n",
       "    }\n",
       "</style>\n",
       "<table border=\"1\" class=\"dataframe\">\n",
       "  <thead>\n",
       "    <tr style=\"text-align: right;\">\n",
       "      <th></th>\n",
       "      <th>Transaction_unique_identifier</th>\n",
       "      <th>price</th>\n",
       "      <th>Date_of_Transfer</th>\n",
       "      <th>postcode</th>\n",
       "      <th>Property_Type</th>\n",
       "      <th>Old/New</th>\n",
       "      <th>Duration</th>\n",
       "      <th>PAON</th>\n",
       "      <th>SAON</th>\n",
       "      <th>Street</th>\n",
       "      <th>Locality</th>\n",
       "      <th>Town/City</th>\n",
       "      <th>District</th>\n",
       "      <th>County</th>\n",
       "      <th>PPDCategory_Type</th>\n",
       "      <th>Record_Status - monthly_file_only</th>\n",
       "      <th>year</th>\n",
       "      <th>month</th>\n",
       "      <th>Flag</th>\n",
       "      <th>Street_encoded</th>\n",
       "      <th>Locality_encoded</th>\n",
       "      <th>Town/City_encoded</th>\n",
       "      <th>District_encoded</th>\n",
       "      <th>County_encoded</th>\n",
       "      <th>postcode_encoded</th>\n",
       "      <th>Property_Type_encoded</th>\n",
       "      <th>Old/New_encoded</th>\n",
       "      <th>Duration_encoded</th>\n",
       "      <th>PAON_encoded</th>\n",
       "      <th>SAON_encoded</th>\n",
       "      <th>PPDCategory_Type_encoded</th>\n",
       "    </tr>\n",
       "  </thead>\n",
       "  <tbody>\n",
       "    <tr>\n",
       "      <th>0</th>\n",
       "      <td>{C9F5B3E7-A756-4F0A-9F8D-976CF4DE4273}</td>\n",
       "      <td>285000</td>\n",
       "      <td>2015-01-09</td>\n",
       "      <td>PO5 2PR</td>\n",
       "      <td>T</td>\n",
       "      <td>N</td>\n",
       "      <td>F</td>\n",
       "      <td>66</td>\n",
       "      <td>None</td>\n",
       "      <td>WAVERLEY ROAD</td>\n",
       "      <td>None</td>\n",
       "      <td>SOUTHSEA</td>\n",
       "      <td>PORTSMOUTH</td>\n",
       "      <td>PORTSMOUTH</td>\n",
       "      <td>A</td>\n",
       "      <td>A</td>\n",
       "      <td>2015</td>\n",
       "      <td>1</td>\n",
       "      <td>High</td>\n",
       "      <td>190968</td>\n",
       "      <td>17466</td>\n",
       "      <td>919</td>\n",
       "      <td>225</td>\n",
       "      <td>77</td>\n",
       "      <td>424508</td>\n",
       "      <td>4</td>\n",
       "      <td>0</td>\n",
       "      <td>0</td>\n",
       "      <td>4555</td>\n",
       "      <td>11979</td>\n",
       "      <td>0</td>\n",
       "    </tr>\n",
       "    <tr>\n",
       "      <th>1</th>\n",
       "      <td>{2191DFFD-12BE-4996-8374-FCFC38581EEE}</td>\n",
       "      <td>182000</td>\n",
       "      <td>2015-01-30</td>\n",
       "      <td>EX4 7BX</td>\n",
       "      <td>T</td>\n",
       "      <td>N</td>\n",
       "      <td>F</td>\n",
       "      <td>68</td>\n",
       "      <td>None</td>\n",
       "      <td>CHAUCER GROVE</td>\n",
       "      <td>None</td>\n",
       "      <td>EXETER</td>\n",
       "      <td>EXETER</td>\n",
       "      <td>DEVON</td>\n",
       "      <td>A</td>\n",
       "      <td>A</td>\n",
       "      <td>2015</td>\n",
       "      <td>1</td>\n",
       "      <td>Medium</td>\n",
       "      <td>35699</td>\n",
       "      <td>17466</td>\n",
       "      <td>367</td>\n",
       "      <td>116</td>\n",
       "      <td>33</td>\n",
       "      <td>193088</td>\n",
       "      <td>4</td>\n",
       "      <td>0</td>\n",
       "      <td>0</td>\n",
       "      <td>4617</td>\n",
       "      <td>11979</td>\n",
       "      <td>0</td>\n",
       "    </tr>\n",
       "    <tr>\n",
       "      <th>2</th>\n",
       "      <td>{E73499F9-D901-4426-8C49-13CCCD8A802D}</td>\n",
       "      <td>105000</td>\n",
       "      <td>2015-01-12</td>\n",
       "      <td>NR10 3HY</td>\n",
       "      <td>F</td>\n",
       "      <td>N</td>\n",
       "      <td>L</td>\n",
       "      <td>33</td>\n",
       "      <td>None</td>\n",
       "      <td>WEAVERS CLOSE</td>\n",
       "      <td>HORSHAM ST FAITH</td>\n",
       "      <td>NORWICH</td>\n",
       "      <td>BROADLAND</td>\n",
       "      <td>NORFOLK</td>\n",
       "      <td>A</td>\n",
       "      <td>A</td>\n",
       "      <td>2015</td>\n",
       "      <td>1</td>\n",
       "      <td>Low</td>\n",
       "      <td>191261</td>\n",
       "      <td>7533</td>\n",
       "      <td>733</td>\n",
       "      <td>36</td>\n",
       "      <td>65</td>\n",
       "      <td>372884</td>\n",
       "      <td>1</td>\n",
       "      <td>0</td>\n",
       "      <td>1</td>\n",
       "      <td>2938</td>\n",
       "      <td>11979</td>\n",
       "      <td>0</td>\n",
       "    </tr>\n",
       "    <tr>\n",
       "      <th>3</th>\n",
       "      <td>{F1A49409-DE04-45B7-86B2-8ADDBAB5A5BC}</td>\n",
       "      <td>180000</td>\n",
       "      <td>2015-01-29</td>\n",
       "      <td>BN17 5PE</td>\n",
       "      <td>T</td>\n",
       "      <td>N</td>\n",
       "      <td>F</td>\n",
       "      <td>32</td>\n",
       "      <td>None</td>\n",
       "      <td>NORFOLK GARDENS</td>\n",
       "      <td>None</td>\n",
       "      <td>LITTLEHAMPTON</td>\n",
       "      <td>ARUN</td>\n",
       "      <td>WEST SUSSEX</td>\n",
       "      <td>A</td>\n",
       "      <td>A</td>\n",
       "      <td>2015</td>\n",
       "      <td>1</td>\n",
       "      <td>Medium</td>\n",
       "      <td>129013</td>\n",
       "      <td>17466</td>\n",
       "      <td>575</td>\n",
       "      <td>3</td>\n",
       "      <td>107</td>\n",
       "      <td>53069</td>\n",
       "      <td>4</td>\n",
       "      <td>0</td>\n",
       "      <td>0</td>\n",
       "      <td>2883</td>\n",
       "      <td>11979</td>\n",
       "      <td>0</td>\n",
       "    </tr>\n",
       "    <tr>\n",
       "      <th>4</th>\n",
       "      <td>{27CAC963-61D0-4D2E-8515-1A1512CF4A64}</td>\n",
       "      <td>120000</td>\n",
       "      <td>2015-01-08</td>\n",
       "      <td>LA4 6DL</td>\n",
       "      <td>F</td>\n",
       "      <td>N</td>\n",
       "      <td>L</td>\n",
       "      <td>23</td>\n",
       "      <td>None</td>\n",
       "      <td>CLARENCE COURT</td>\n",
       "      <td>None</td>\n",
       "      <td>MORECAMBE</td>\n",
       "      <td>LANCASTER</td>\n",
       "      <td>LANCASHIRE</td>\n",
       "      <td>A</td>\n",
       "      <td>A</td>\n",
       "      <td>2015</td>\n",
       "      <td>1</td>\n",
       "      <td>Low</td>\n",
       "      <td>38386</td>\n",
       "      <td>17466</td>\n",
       "      <td>689</td>\n",
       "      <td>168</td>\n",
       "      <td>52</td>\n",
       "      <td>266793</td>\n",
       "      <td>1</td>\n",
       "      <td>0</td>\n",
       "      <td>1</td>\n",
       "      <td>2140</td>\n",
       "      <td>11979</td>\n",
       "      <td>0</td>\n",
       "    </tr>\n",
       "  </tbody>\n",
       "</table>\n",
       "</div>"
      ],
      "text/plain": [
       "            Transaction_unique_identifier   price Date_of_Transfer  postcode  \\\n",
       "0  {C9F5B3E7-A756-4F0A-9F8D-976CF4DE4273}  285000       2015-01-09   PO5 2PR   \n",
       "1  {2191DFFD-12BE-4996-8374-FCFC38581EEE}  182000       2015-01-30   EX4 7BX   \n",
       "2  {E73499F9-D901-4426-8C49-13CCCD8A802D}  105000       2015-01-12  NR10 3HY   \n",
       "3  {F1A49409-DE04-45B7-86B2-8ADDBAB5A5BC}  180000       2015-01-29  BN17 5PE   \n",
       "4  {27CAC963-61D0-4D2E-8515-1A1512CF4A64}  120000       2015-01-08   LA4 6DL   \n",
       "\n",
       "  Property_Type Old/New Duration PAON  SAON           Street  \\\n",
       "0             T       N        F   66  None    WAVERLEY ROAD   \n",
       "1             T       N        F   68  None    CHAUCER GROVE   \n",
       "2             F       N        L   33  None    WEAVERS CLOSE   \n",
       "3             T       N        F   32  None  NORFOLK GARDENS   \n",
       "4             F       N        L   23  None   CLARENCE COURT   \n",
       "\n",
       "           Locality      Town/City    District       County PPDCategory_Type  \\\n",
       "0              None       SOUTHSEA  PORTSMOUTH   PORTSMOUTH                A   \n",
       "1              None         EXETER      EXETER        DEVON                A   \n",
       "2  HORSHAM ST FAITH        NORWICH   BROADLAND      NORFOLK                A   \n",
       "3              None  LITTLEHAMPTON        ARUN  WEST SUSSEX                A   \n",
       "4              None      MORECAMBE   LANCASTER   LANCASHIRE                A   \n",
       "\n",
       "  Record_Status - monthly_file_only  year  month    Flag  Street_encoded  \\\n",
       "0                                 A  2015      1    High          190968   \n",
       "1                                 A  2015      1  Medium           35699   \n",
       "2                                 A  2015      1     Low          191261   \n",
       "3                                 A  2015      1  Medium          129013   \n",
       "4                                 A  2015      1     Low           38386   \n",
       "\n",
       "   Locality_encoded  Town/City_encoded  District_encoded  County_encoded  \\\n",
       "0             17466                919               225              77   \n",
       "1             17466                367               116              33   \n",
       "2              7533                733                36              65   \n",
       "3             17466                575                 3             107   \n",
       "4             17466                689               168              52   \n",
       "\n",
       "   postcode_encoded  Property_Type_encoded  Old/New_encoded  Duration_encoded  \\\n",
       "0            424508                      4                0                 0   \n",
       "1            193088                      4                0                 0   \n",
       "2            372884                      1                0                 1   \n",
       "3             53069                      4                0                 0   \n",
       "4            266793                      1                0                 1   \n",
       "\n",
       "   PAON_encoded  SAON_encoded  PPDCategory_Type_encoded  \n",
       "0          4555         11979                         0  \n",
       "1          4617         11979                         0  \n",
       "2          2938         11979                         0  \n",
       "3          2883         11979                         0  \n",
       "4          2140         11979                         0  "
      ]
     },
     "execution_count": 48,
     "metadata": {},
     "output_type": "execute_result"
    }
   ],
   "source": [
    "df.head()"
   ]
  },
  {
   "cell_type": "code",
   "execution_count": 49,
   "id": "0da8931d",
   "metadata": {
    "colab": {
     "base_uri": "https://localhost:8080/"
    },
    "id": "0da8931d",
    "outputId": "8e0164a1-cab9-4969-bbdd-cb481294fde0"
   },
   "outputs": [
    {
     "data": {
      "text/plain": [
       "array(['66', '68', '33', ..., 'REAR VIEW', 'ROSE COTTAGE, 131',\n",
       "       'PLOT 1200'], dtype=object)"
      ]
     },
     "execution_count": 49,
     "metadata": {},
     "output_type": "execute_result"
    }
   ],
   "source": [
    "df.PAON.unique()[:]"
   ]
  },
  {
   "cell_type": "code",
   "execution_count": 50,
   "id": "b8d67efb",
   "metadata": {
    "colab": {
     "base_uri": "https://localhost:8080/"
    },
    "id": "b8d67efb",
    "outputId": "2a7d68c6-46bf-448c-a4ab-4d40100699c1"
   },
   "outputs": [
    {
     "data": {
      "text/plain": [
       "Index(['Transaction_unique_identifier', 'price', 'Date_of_Transfer',\n",
       "       'postcode', 'Property_Type', 'Old/New', 'Duration', 'PAON', 'SAON',\n",
       "       'Street', 'Locality', 'Town/City', 'District', 'County',\n",
       "       'PPDCategory_Type', 'Record_Status - monthly_file_only', 'year',\n",
       "       'month', 'Flag', 'Street_encoded', 'Locality_encoded',\n",
       "       'Town/City_encoded', 'District_encoded', 'County_encoded',\n",
       "       'postcode_encoded', 'Property_Type_encoded', 'Old/New_encoded',\n",
       "       'Duration_encoded', 'PAON_encoded', 'SAON_encoded',\n",
       "       'PPDCategory_Type_encoded'],\n",
       "      dtype='object')"
      ]
     },
     "execution_count": 50,
     "metadata": {},
     "output_type": "execute_result"
    }
   ],
   "source": [
    "df.columns"
   ]
  },
  {
   "cell_type": "code",
   "execution_count": 51,
   "id": "ee1e1ada",
   "metadata": {
    "colab": {
     "base_uri": "https://localhost:8080/"
    },
    "id": "ee1e1ada",
    "outputId": "6d13d2e2-3c15-43fc-8ecf-8885c5123120"
   },
   "outputs": [
    {
     "data": {
      "text/plain": [
       "Transaction_unique_identifier                object\n",
       "price                                         int64\n",
       "Date_of_Transfer                     datetime64[ns]\n",
       "postcode                                     object\n",
       "Property_Type                                object\n",
       "Old/New                                      object\n",
       "Duration                                     object\n",
       "PAON                                         object\n",
       "SAON                                         object\n",
       "Street                                       object\n",
       "Locality                                     object\n",
       "Town/City                                    object\n",
       "District                                     object\n",
       "County                                       object\n",
       "PPDCategory_Type                             object\n",
       "Record_Status - monthly_file_only            object\n",
       "year                                          int64\n",
       "month                                         int64\n",
       "Flag                                         object\n",
       "Street_encoded                                int64\n",
       "Locality_encoded                              int64\n",
       "Town/City_encoded                             int64\n",
       "District_encoded                              int64\n",
       "County_encoded                                int64\n",
       "postcode_encoded                              int64\n",
       "Property_Type_encoded                         int64\n",
       "Old/New_encoded                               int64\n",
       "Duration_encoded                              int64\n",
       "PAON_encoded                                  int64\n",
       "SAON_encoded                                  int64\n",
       "PPDCategory_Type_encoded                      int64\n",
       "dtype: object"
      ]
     },
     "execution_count": 51,
     "metadata": {},
     "output_type": "execute_result"
    }
   ],
   "source": [
    "df.dtypes"
   ]
  },
  {
   "cell_type": "code",
   "execution_count": 52,
   "id": "fa0ddb10",
   "metadata": {
    "colab": {
     "base_uri": "https://localhost:8080/"
    },
    "id": "fa0ddb10",
    "outputId": "7ea3ac12-95d8-4f4d-92ef-44ba15c0d52d"
   },
   "outputs": [
    {
     "data": {
      "text/plain": [
       "array(['A'], dtype=object)"
      ]
     },
     "execution_count": 52,
     "metadata": {},
     "output_type": "execute_result"
    }
   ],
   "source": [
    "df['Record_Status - monthly_file_only'].unique()"
   ]
  },
  {
   "cell_type": "code",
   "execution_count": 53,
   "id": "ff9005f4",
   "metadata": {
    "id": "ff9005f4"
   },
   "outputs": [],
   "source": [
    "# from sklearn.preprocessing import LabelEncoder\n",
    "\n",
    "# label_encoder = LabelEncoder()\n",
    "# df['PAON'] = df['PAON'].apply(lambda x: label_encoder.fit_transform([x]) if isinstance(x, str) else x)\n",
    "# df['SAON'] = df['SAON'].apply(lambda x: label_encoder.fit_transform([x]) if isinstance(x, str) else x)\n",
    "# # 'Property_Type', 'Old/New', 'Duration', 'PPDCategory_Type'\n",
    "# df['Property_Type'] = df['Property_Type'].apply(lambda x: label_encoder.fit_transform([x]) if isinstance(x, str) else x)\n",
    "# df['Old/New'] = df['Old/New'].apply(lambda x: label_encoder.fit_transform([x]) if isinstance(x, str) else x)\n",
    "# df['Duration'] = df['Duration'].apply(lambda x: label_encoder.fit_transform([x]) if isinstance(x, str) else x)\n",
    "# df['PPDCategory_Type'] = df['PPDCategory_Type'].apply(lambda x: label_encoder.fit_transform([x]) if isinstance(x, str) else x)"
   ]
  },
  {
   "cell_type": "code",
   "execution_count": 54,
   "id": "c7318d4c",
   "metadata": {
    "colab": {
     "base_uri": "https://localhost:8080/",
     "height": 330
    },
    "id": "c7318d4c",
    "outputId": "8f1bb8fe-2b04-4de5-b21a-e0ea53460b37"
   },
   "outputs": [
    {
     "data": {
      "text/html": [
       "<div>\n",
       "<style scoped>\n",
       "    .dataframe tbody tr th:only-of-type {\n",
       "        vertical-align: middle;\n",
       "    }\n",
       "\n",
       "    .dataframe tbody tr th {\n",
       "        vertical-align: top;\n",
       "    }\n",
       "\n",
       "    .dataframe thead th {\n",
       "        text-align: right;\n",
       "    }\n",
       "</style>\n",
       "<table border=\"1\" class=\"dataframe\">\n",
       "  <thead>\n",
       "    <tr style=\"text-align: right;\">\n",
       "      <th></th>\n",
       "      <th>Transaction_unique_identifier</th>\n",
       "      <th>price</th>\n",
       "      <th>Date_of_Transfer</th>\n",
       "      <th>postcode</th>\n",
       "      <th>Property_Type</th>\n",
       "      <th>Old/New</th>\n",
       "      <th>Duration</th>\n",
       "      <th>PAON</th>\n",
       "      <th>SAON</th>\n",
       "      <th>Street</th>\n",
       "      <th>Locality</th>\n",
       "      <th>Town/City</th>\n",
       "      <th>District</th>\n",
       "      <th>County</th>\n",
       "      <th>PPDCategory_Type</th>\n",
       "      <th>Record_Status - monthly_file_only</th>\n",
       "      <th>year</th>\n",
       "      <th>month</th>\n",
       "      <th>Flag</th>\n",
       "      <th>Street_encoded</th>\n",
       "      <th>Locality_encoded</th>\n",
       "      <th>Town/City_encoded</th>\n",
       "      <th>District_encoded</th>\n",
       "      <th>County_encoded</th>\n",
       "      <th>postcode_encoded</th>\n",
       "      <th>Property_Type_encoded</th>\n",
       "      <th>Old/New_encoded</th>\n",
       "      <th>Duration_encoded</th>\n",
       "      <th>PAON_encoded</th>\n",
       "      <th>SAON_encoded</th>\n",
       "      <th>PPDCategory_Type_encoded</th>\n",
       "    </tr>\n",
       "  </thead>\n",
       "  <tbody>\n",
       "    <tr>\n",
       "      <th>0</th>\n",
       "      <td>{C9F5B3E7-A756-4F0A-9F8D-976CF4DE4273}</td>\n",
       "      <td>285000</td>\n",
       "      <td>2015-01-09</td>\n",
       "      <td>PO5 2PR</td>\n",
       "      <td>T</td>\n",
       "      <td>N</td>\n",
       "      <td>F</td>\n",
       "      <td>66</td>\n",
       "      <td>None</td>\n",
       "      <td>WAVERLEY ROAD</td>\n",
       "      <td>None</td>\n",
       "      <td>SOUTHSEA</td>\n",
       "      <td>PORTSMOUTH</td>\n",
       "      <td>PORTSMOUTH</td>\n",
       "      <td>A</td>\n",
       "      <td>A</td>\n",
       "      <td>2015</td>\n",
       "      <td>1</td>\n",
       "      <td>High</td>\n",
       "      <td>190968</td>\n",
       "      <td>17466</td>\n",
       "      <td>919</td>\n",
       "      <td>225</td>\n",
       "      <td>77</td>\n",
       "      <td>424508</td>\n",
       "      <td>4</td>\n",
       "      <td>0</td>\n",
       "      <td>0</td>\n",
       "      <td>4555</td>\n",
       "      <td>11979</td>\n",
       "      <td>0</td>\n",
       "    </tr>\n",
       "    <tr>\n",
       "      <th>1</th>\n",
       "      <td>{2191DFFD-12BE-4996-8374-FCFC38581EEE}</td>\n",
       "      <td>182000</td>\n",
       "      <td>2015-01-30</td>\n",
       "      <td>EX4 7BX</td>\n",
       "      <td>T</td>\n",
       "      <td>N</td>\n",
       "      <td>F</td>\n",
       "      <td>68</td>\n",
       "      <td>None</td>\n",
       "      <td>CHAUCER GROVE</td>\n",
       "      <td>None</td>\n",
       "      <td>EXETER</td>\n",
       "      <td>EXETER</td>\n",
       "      <td>DEVON</td>\n",
       "      <td>A</td>\n",
       "      <td>A</td>\n",
       "      <td>2015</td>\n",
       "      <td>1</td>\n",
       "      <td>Medium</td>\n",
       "      <td>35699</td>\n",
       "      <td>17466</td>\n",
       "      <td>367</td>\n",
       "      <td>116</td>\n",
       "      <td>33</td>\n",
       "      <td>193088</td>\n",
       "      <td>4</td>\n",
       "      <td>0</td>\n",
       "      <td>0</td>\n",
       "      <td>4617</td>\n",
       "      <td>11979</td>\n",
       "      <td>0</td>\n",
       "    </tr>\n",
       "    <tr>\n",
       "      <th>2</th>\n",
       "      <td>{E73499F9-D901-4426-8C49-13CCCD8A802D}</td>\n",
       "      <td>105000</td>\n",
       "      <td>2015-01-12</td>\n",
       "      <td>NR10 3HY</td>\n",
       "      <td>F</td>\n",
       "      <td>N</td>\n",
       "      <td>L</td>\n",
       "      <td>33</td>\n",
       "      <td>None</td>\n",
       "      <td>WEAVERS CLOSE</td>\n",
       "      <td>HORSHAM ST FAITH</td>\n",
       "      <td>NORWICH</td>\n",
       "      <td>BROADLAND</td>\n",
       "      <td>NORFOLK</td>\n",
       "      <td>A</td>\n",
       "      <td>A</td>\n",
       "      <td>2015</td>\n",
       "      <td>1</td>\n",
       "      <td>Low</td>\n",
       "      <td>191261</td>\n",
       "      <td>7533</td>\n",
       "      <td>733</td>\n",
       "      <td>36</td>\n",
       "      <td>65</td>\n",
       "      <td>372884</td>\n",
       "      <td>1</td>\n",
       "      <td>0</td>\n",
       "      <td>1</td>\n",
       "      <td>2938</td>\n",
       "      <td>11979</td>\n",
       "      <td>0</td>\n",
       "    </tr>\n",
       "    <tr>\n",
       "      <th>3</th>\n",
       "      <td>{F1A49409-DE04-45B7-86B2-8ADDBAB5A5BC}</td>\n",
       "      <td>180000</td>\n",
       "      <td>2015-01-29</td>\n",
       "      <td>BN17 5PE</td>\n",
       "      <td>T</td>\n",
       "      <td>N</td>\n",
       "      <td>F</td>\n",
       "      <td>32</td>\n",
       "      <td>None</td>\n",
       "      <td>NORFOLK GARDENS</td>\n",
       "      <td>None</td>\n",
       "      <td>LITTLEHAMPTON</td>\n",
       "      <td>ARUN</td>\n",
       "      <td>WEST SUSSEX</td>\n",
       "      <td>A</td>\n",
       "      <td>A</td>\n",
       "      <td>2015</td>\n",
       "      <td>1</td>\n",
       "      <td>Medium</td>\n",
       "      <td>129013</td>\n",
       "      <td>17466</td>\n",
       "      <td>575</td>\n",
       "      <td>3</td>\n",
       "      <td>107</td>\n",
       "      <td>53069</td>\n",
       "      <td>4</td>\n",
       "      <td>0</td>\n",
       "      <td>0</td>\n",
       "      <td>2883</td>\n",
       "      <td>11979</td>\n",
       "      <td>0</td>\n",
       "    </tr>\n",
       "    <tr>\n",
       "      <th>4</th>\n",
       "      <td>{27CAC963-61D0-4D2E-8515-1A1512CF4A64}</td>\n",
       "      <td>120000</td>\n",
       "      <td>2015-01-08</td>\n",
       "      <td>LA4 6DL</td>\n",
       "      <td>F</td>\n",
       "      <td>N</td>\n",
       "      <td>L</td>\n",
       "      <td>23</td>\n",
       "      <td>None</td>\n",
       "      <td>CLARENCE COURT</td>\n",
       "      <td>None</td>\n",
       "      <td>MORECAMBE</td>\n",
       "      <td>LANCASTER</td>\n",
       "      <td>LANCASHIRE</td>\n",
       "      <td>A</td>\n",
       "      <td>A</td>\n",
       "      <td>2015</td>\n",
       "      <td>1</td>\n",
       "      <td>Low</td>\n",
       "      <td>38386</td>\n",
       "      <td>17466</td>\n",
       "      <td>689</td>\n",
       "      <td>168</td>\n",
       "      <td>52</td>\n",
       "      <td>266793</td>\n",
       "      <td>1</td>\n",
       "      <td>0</td>\n",
       "      <td>1</td>\n",
       "      <td>2140</td>\n",
       "      <td>11979</td>\n",
       "      <td>0</td>\n",
       "    </tr>\n",
       "  </tbody>\n",
       "</table>\n",
       "</div>"
      ],
      "text/plain": [
       "            Transaction_unique_identifier   price Date_of_Transfer  postcode  \\\n",
       "0  {C9F5B3E7-A756-4F0A-9F8D-976CF4DE4273}  285000       2015-01-09   PO5 2PR   \n",
       "1  {2191DFFD-12BE-4996-8374-FCFC38581EEE}  182000       2015-01-30   EX4 7BX   \n",
       "2  {E73499F9-D901-4426-8C49-13CCCD8A802D}  105000       2015-01-12  NR10 3HY   \n",
       "3  {F1A49409-DE04-45B7-86B2-8ADDBAB5A5BC}  180000       2015-01-29  BN17 5PE   \n",
       "4  {27CAC963-61D0-4D2E-8515-1A1512CF4A64}  120000       2015-01-08   LA4 6DL   \n",
       "\n",
       "  Property_Type Old/New Duration PAON  SAON           Street  \\\n",
       "0             T       N        F   66  None    WAVERLEY ROAD   \n",
       "1             T       N        F   68  None    CHAUCER GROVE   \n",
       "2             F       N        L   33  None    WEAVERS CLOSE   \n",
       "3             T       N        F   32  None  NORFOLK GARDENS   \n",
       "4             F       N        L   23  None   CLARENCE COURT   \n",
       "\n",
       "           Locality      Town/City    District       County PPDCategory_Type  \\\n",
       "0              None       SOUTHSEA  PORTSMOUTH   PORTSMOUTH                A   \n",
       "1              None         EXETER      EXETER        DEVON                A   \n",
       "2  HORSHAM ST FAITH        NORWICH   BROADLAND      NORFOLK                A   \n",
       "3              None  LITTLEHAMPTON        ARUN  WEST SUSSEX                A   \n",
       "4              None      MORECAMBE   LANCASTER   LANCASHIRE                A   \n",
       "\n",
       "  Record_Status - monthly_file_only  year  month    Flag  Street_encoded  \\\n",
       "0                                 A  2015      1    High          190968   \n",
       "1                                 A  2015      1  Medium           35699   \n",
       "2                                 A  2015      1     Low          191261   \n",
       "3                                 A  2015      1  Medium          129013   \n",
       "4                                 A  2015      1     Low           38386   \n",
       "\n",
       "   Locality_encoded  Town/City_encoded  District_encoded  County_encoded  \\\n",
       "0             17466                919               225              77   \n",
       "1             17466                367               116              33   \n",
       "2              7533                733                36              65   \n",
       "3             17466                575                 3             107   \n",
       "4             17466                689               168              52   \n",
       "\n",
       "   postcode_encoded  Property_Type_encoded  Old/New_encoded  Duration_encoded  \\\n",
       "0            424508                      4                0                 0   \n",
       "1            193088                      4                0                 0   \n",
       "2            372884                      1                0                 1   \n",
       "3             53069                      4                0                 0   \n",
       "4            266793                      1                0                 1   \n",
       "\n",
       "   PAON_encoded  SAON_encoded  PPDCategory_Type_encoded  \n",
       "0          4555         11979                         0  \n",
       "1          4617         11979                         0  \n",
       "2          2938         11979                         0  \n",
       "3          2883         11979                         0  \n",
       "4          2140         11979                         0  "
      ]
     },
     "execution_count": 54,
     "metadata": {},
     "output_type": "execute_result"
    }
   ],
   "source": [
    "df.head()"
   ]
  },
  {
   "cell_type": "code",
   "execution_count": 55,
   "id": "bb87fa34",
   "metadata": {
    "id": "bb87fa34"
   },
   "outputs": [],
   "source": [
    "# Transaction_unique_identifier                object --> Not required for modelling\n",
    "# price                                         int64 --> Price is not required as we are trying to predict the category without knowing the actual price\n",
    "# Date_of_Transfer                     datetime64[ns] --> Year is required\n",
    "# postcode                                     object --> post code is also required\n",
    "# PAON                                         object --> Primary Addressable Object Name, as of now checking on this if this is required for modelling\n",
    "# SAON                                         object --> Secondary Addressable Object Name seems to be not required but will check with this.\n",
    "# Street                                       object --> Street is required as it may have some waitage.\n",
    "# Locality                                     object --> May be this is a required column\n",
    "# Town/City                                    object --> This is required columns\n",
    "# District                                     object --> This is also a required field\n",
    "# County                                       object --> required\n",
    "# Record_Status - monthly_file_only            object --> It has only one value which would not give any information.\n",
    "# year                                          int64 --> Derived from Date of transfer\n",
    "# Flag                                         object --> Derived from Price field.\n",
    "# Street_encoded                                int64 --> R\n",
    "# Locality_encoded                              int64 --> R as of now\n",
    "# Town/City_encoded                             int64 --> R\n",
    "# District_encoded                              int64 --> R\n",
    "# County_encoded                                int64 --> R\n",
    "# Property_Type_D                               uint8 --> R\n",
    "# Property_Type_F                               uint8 --> R\n",
    "# Property_Type_O                               uint8 --> R\n",
    "# Property_Type_S                               uint8 --> R\n",
    "# Property_Type_T                               uint8 --> R\n",
    "# Old/New_N                                     uint8 --> R\n",
    "# Old/New_Y                                     uint8 --> R\n",
    "# Duration_F                                    uint8 --> R\n",
    "# Duration_L                                    uint8 --> R\n",
    "# Duration_U                                    uint8 --> R\n",
    "# PPDCategory_Type_A                            uint8 --> R\n",
    "# PPDCategory_Type_B                            uint8 --> R\n",
    "\n",
    "## we are going to take the columns [year,Flag,Street_encoded,Locality_encoded,Town/City_encoded,District_encoded,\n",
    "##                                   County_encoded,Property_Type_D,Property_Type_F,Property_Type_O,Property_Type_S,\n",
    "##                                   Property_Type_T,Old/New_N,Old/New_Y,Duration_F,Duration_L,Duration_U,\n",
    "##                                   PPDCategory_Type_A,PPDCategory_Type_B]\n",
    "\n"
   ]
  },
  {
   "cell_type": "code",
   "execution_count": 56,
   "id": "9aa36421",
   "metadata": {
    "colab": {
     "base_uri": "https://localhost:8080/",
     "height": 653
    },
    "id": "9aa36421",
    "outputId": "968ae358-b949-4386-e260-667ce1127e51"
   },
   "outputs": [
    {
     "data": {
      "image/png": "[encoded data removed]",
      "text/plain": [
       "<Figure size 800x800 with 1 Axes>"
      ]
     },
     "metadata": {},
     "output_type": "display_data"
    }
   ],
   "source": [
    "# manual ordinal encoding the target variable\n",
    "df.loc[df.index[(df.Flag=='Low')],'Target_Flag']= 0\n",
    "df.loc[df.index[(df.Flag=='Medium')],'Target_Flag']= 1\n",
    "df.loc[df.index[(df.Flag=='High')],'Target_Flag']= 2\n",
    "df.loc[df.index[(df.Flag=='Very High')],'Target_Flag']= 3\n",
    "\n",
    "labels = df['Target_Flag'].astype('category').cat.categories. tolist()\n",
    "counts = df['Target_Flag'].value_counts()\n",
    "sizes = [counts[var_cat] for var_cat in labels]\n",
    "figi, ax1 = plt. subplots (figsize = (8,8))\n",
    "ax1. pie(sizes, labels=labels, autopct='%1.1f%%', shadow=True)\n",
    "ax1. axis ('equal')\n",
    "plt. show()"
   ]
  },
  {
   "cell_type": "code",
   "execution_count": 57,
   "id": "ca7ace72",
   "metadata": {
    "colab": {
     "base_uri": "https://localhost:8080/"
    },
    "id": "ca7ace72",
    "outputId": "49a58d51-21d3-4923-8d2f-a18b591eafdb"
   },
   "outputs": [],
   "source": [
    "#df.columns"
   ]
  },
  {
   "cell_type": "code",
   "execution_count": 58,
   "id": "190fe096",
   "metadata": {
    "id": "190fe096"
   },
   "outputs": [],
   "source": [
    "df1 = df[['Transaction_unique_identifier', 'year','month',                      #df.loc[df.index[(df.year>=2018)&(df.year<=2018)]]\n",
    "       'Street_encoded', 'Locality_encoded', 'Town/City_encoded',\n",
    "       'District_encoded', 'County_encoded','postcode_encoded', 'Property_Type_encoded',\n",
    "       'Old/New_encoded', 'Duration_encoded','PAON_encoded','SAON_encoded','PPDCategory_Type_encoded',\n",
    "       'Target_Flag']].copy()\n",
    "\n",
    "del df"
   ]
  },
  {
   "cell_type": "code",
   "execution_count": 59,
   "id": "9d9f4a05",
   "metadata": {},
   "outputs": [
    {
     "data": {
      "text/html": [
       "<div>\n",
       "<style scoped>\n",
       "    .dataframe tbody tr th:only-of-type {\n",
       "        vertical-align: middle;\n",
       "    }\n",
       "\n",
       "    .dataframe tbody tr th {\n",
       "        vertical-align: top;\n",
       "    }\n",
       "\n",
       "    .dataframe thead th {\n",
       "        text-align: right;\n",
       "    }\n",
       "</style>\n",
       "<table border=\"1\" class=\"dataframe\">\n",
       "  <thead>\n",
       "    <tr style=\"text-align: right;\">\n",
       "      <th></th>\n",
       "      <th>Transaction_unique_identifier</th>\n",
       "      <th>year</th>\n",
       "      <th>month</th>\n",
       "      <th>Street_encoded</th>\n",
       "      <th>Locality_encoded</th>\n",
       "      <th>Town/City_encoded</th>\n",
       "      <th>District_encoded</th>\n",
       "      <th>County_encoded</th>\n",
       "      <th>postcode_encoded</th>\n",
       "      <th>Property_Type_encoded</th>\n",
       "      <th>Old/New_encoded</th>\n",
       "      <th>Duration_encoded</th>\n",
       "      <th>PAON_encoded</th>\n",
       "      <th>SAON_encoded</th>\n",
       "      <th>PPDCategory_Type_encoded</th>\n",
       "      <th>Target_Flag</th>\n",
       "    </tr>\n",
       "  </thead>\n",
       "  <tbody>\n",
       "    <tr>\n",
       "      <th>0</th>\n",
       "      <td>{C9F5B3E7-A756-4F0A-9F8D-976CF4DE4273}</td>\n",
       "      <td>2015</td>\n",
       "      <td>1</td>\n",
       "      <td>190968</td>\n",
       "      <td>17466</td>\n",
       "      <td>919</td>\n",
       "      <td>225</td>\n",
       "      <td>77</td>\n",
       "      <td>424508</td>\n",
       "      <td>4</td>\n",
       "      <td>0</td>\n",
       "      <td>0</td>\n",
       "      <td>4555</td>\n",
       "      <td>11979</td>\n",
       "      <td>0</td>\n",
       "      <td>2.0</td>\n",
       "    </tr>\n",
       "    <tr>\n",
       "      <th>1</th>\n",
       "      <td>{2191DFFD-12BE-4996-8374-FCFC38581EEE}</td>\n",
       "      <td>2015</td>\n",
       "      <td>1</td>\n",
       "      <td>35699</td>\n",
       "      <td>17466</td>\n",
       "      <td>367</td>\n",
       "      <td>116</td>\n",
       "      <td>33</td>\n",
       "      <td>193088</td>\n",
       "      <td>4</td>\n",
       "      <td>0</td>\n",
       "      <td>0</td>\n",
       "      <td>4617</td>\n",
       "      <td>11979</td>\n",
       "      <td>0</td>\n",
       "      <td>1.0</td>\n",
       "    </tr>\n",
       "    <tr>\n",
       "      <th>2</th>\n",
       "      <td>{E73499F9-D901-4426-8C49-13CCCD8A802D}</td>\n",
       "      <td>2015</td>\n",
       "      <td>1</td>\n",
       "      <td>191261</td>\n",
       "      <td>7533</td>\n",
       "      <td>733</td>\n",
       "      <td>36</td>\n",
       "      <td>65</td>\n",
       "      <td>372884</td>\n",
       "      <td>1</td>\n",
       "      <td>0</td>\n",
       "      <td>1</td>\n",
       "      <td>2938</td>\n",
       "      <td>11979</td>\n",
       "      <td>0</td>\n",
       "      <td>0.0</td>\n",
       "    </tr>\n",
       "    <tr>\n",
       "      <th>3</th>\n",
       "      <td>{F1A49409-DE04-45B7-86B2-8ADDBAB5A5BC}</td>\n",
       "      <td>2015</td>\n",
       "      <td>1</td>\n",
       "      <td>129013</td>\n",
       "      <td>17466</td>\n",
       "      <td>575</td>\n",
       "      <td>3</td>\n",
       "      <td>107</td>\n",
       "      <td>53069</td>\n",
       "      <td>4</td>\n",
       "      <td>0</td>\n",
       "      <td>0</td>\n",
       "      <td>2883</td>\n",
       "      <td>11979</td>\n",
       "      <td>0</td>\n",
       "      <td>1.0</td>\n",
       "    </tr>\n",
       "    <tr>\n",
       "      <th>4</th>\n",
       "      <td>{27CAC963-61D0-4D2E-8515-1A1512CF4A64}</td>\n",
       "      <td>2015</td>\n",
       "      <td>1</td>\n",
       "      <td>38386</td>\n",
       "      <td>17466</td>\n",
       "      <td>689</td>\n",
       "      <td>168</td>\n",
       "      <td>52</td>\n",
       "      <td>266793</td>\n",
       "      <td>1</td>\n",
       "      <td>0</td>\n",
       "      <td>1</td>\n",
       "      <td>2140</td>\n",
       "      <td>11979</td>\n",
       "      <td>0</td>\n",
       "      <td>0.0</td>\n",
       "    </tr>\n",
       "  </tbody>\n",
       "</table>\n",
       "</div>"
      ],
      "text/plain": [
       "            Transaction_unique_identifier  year  month  Street_encoded  \\\n",
       "0  {C9F5B3E7-A756-4F0A-9F8D-976CF4DE4273}  2015      1          190968   \n",
       "1  {2191DFFD-12BE-4996-8374-FCFC38581EEE}  2015      1           35699   \n",
       "2  {E73499F9-D901-4426-8C49-13CCCD8A802D}  2015      1          191261   \n",
       "3  {F1A49409-DE04-45B7-86B2-8ADDBAB5A5BC}  2015      1          129013   \n",
       "4  {27CAC963-61D0-4D2E-8515-1A1512CF4A64}  2015      1           38386   \n",
       "\n",
       "   Locality_encoded  Town/City_encoded  District_encoded  County_encoded  \\\n",
       "0             17466                919               225              77   \n",
       "1             17466                367               116              33   \n",
       "2              7533                733                36              65   \n",
       "3             17466                575                 3             107   \n",
       "4             17466                689               168              52   \n",
       "\n",
       "   postcode_encoded  Property_Type_encoded  Old/New_encoded  Duration_encoded  \\\n",
       "0            424508                      4                0                 0   \n",
       "1            193088                      4                0                 0   \n",
       "2            372884                      1                0                 1   \n",
       "3             53069                      4                0                 0   \n",
       "4            266793                      1                0                 1   \n",
       "\n",
       "   PAON_encoded  SAON_encoded  PPDCategory_Type_encoded  Target_Flag  \n",
       "0          4555         11979                         0          2.0  \n",
       "1          4617         11979                         0          1.0  \n",
       "2          2938         11979                         0          0.0  \n",
       "3          2883         11979                         0          1.0  \n",
       "4          2140         11979                         0          0.0  "
      ]
     },
     "execution_count": 59,
     "metadata": {},
     "output_type": "execute_result"
    }
   ],
   "source": [
    "df1.head()"
   ]
  },
  {
   "cell_type": "code",
   "execution_count": 60,
   "id": "49016036",
   "metadata": {
    "colab": {
     "base_uri": "https://localhost:8080/",
     "height": 653
    },
    "id": "49016036",
    "outputId": "57ad3072-b7e4-42e8-c60f-fe4cb1a054d0"
   },
   "outputs": [
    {
     "data": {
      "image/png": "[encoded data removed]",
      "text/plain": [
       "<Figure size 800x800 with 1 Axes>"
      ]
     },
     "metadata": {},
     "output_type": "display_data"
    }
   ],
   "source": [
    "labels = df1['Target_Flag'].astype('category').cat.categories.tolist()\n",
    "counts = df1['Target_Flag'].value_counts()\n",
    "sizes = [counts[var_cat] for var_cat in labels]\n",
    "figi, ax1 = plt. subplots (figsize = (8,8))\n",
    "ax1. pie(sizes, labels=labels, autopct='%1.1f%%', shadow=True)\n",
    "ax1. axis ('equal')\n",
    "plt. show()"
   ]
  },
  {
   "cell_type": "code",
   "execution_count": 61,
   "id": "cc07b723",
   "metadata": {
    "colab": {
     "base_uri": "https://localhost:8080/",
     "height": 313
    },
    "id": "cc07b723",
    "outputId": "9ee5cd0a-61a4-4039-a219-a23f5c4deac7"
   },
   "outputs": [
    {
     "data": {
      "text/html": [
       "<div>\n",
       "<style scoped>\n",
       "    .dataframe tbody tr th:only-of-type {\n",
       "        vertical-align: middle;\n",
       "    }\n",
       "\n",
       "    .dataframe tbody tr th {\n",
       "        vertical-align: top;\n",
       "    }\n",
       "\n",
       "    .dataframe thead th {\n",
       "        text-align: right;\n",
       "    }\n",
       "</style>\n",
       "<table border=\"1\" class=\"dataframe\">\n",
       "  <thead>\n",
       "    <tr style=\"text-align: right;\">\n",
       "      <th></th>\n",
       "      <th>Transaction_unique_identifier</th>\n",
       "      <th>year</th>\n",
       "      <th>month</th>\n",
       "      <th>Street_encoded</th>\n",
       "      <th>Locality_encoded</th>\n",
       "      <th>Town/City_encoded</th>\n",
       "      <th>District_encoded</th>\n",
       "      <th>County_encoded</th>\n",
       "      <th>postcode_encoded</th>\n",
       "      <th>Property_Type_encoded</th>\n",
       "      <th>Old/New_encoded</th>\n",
       "      <th>Duration_encoded</th>\n",
       "      <th>PAON_encoded</th>\n",
       "      <th>SAON_encoded</th>\n",
       "      <th>PPDCategory_Type_encoded</th>\n",
       "      <th>Target_Flag</th>\n",
       "    </tr>\n",
       "  </thead>\n",
       "  <tbody>\n",
       "    <tr>\n",
       "      <th>0</th>\n",
       "      <td>{C9F5B3E7-A756-4F0A-9F8D-976CF4DE4273}</td>\n",
       "      <td>2015</td>\n",
       "      <td>1</td>\n",
       "      <td>190968</td>\n",
       "      <td>17466</td>\n",
       "      <td>919</td>\n",
       "      <td>225</td>\n",
       "      <td>77</td>\n",
       "      <td>424508</td>\n",
       "      <td>4</td>\n",
       "      <td>0</td>\n",
       "      <td>0</td>\n",
       "      <td>4555</td>\n",
       "      <td>11979</td>\n",
       "      <td>0</td>\n",
       "      <td>2.0</td>\n",
       "    </tr>\n",
       "    <tr>\n",
       "      <th>1</th>\n",
       "      <td>{2191DFFD-12BE-4996-8374-FCFC38581EEE}</td>\n",
       "      <td>2015</td>\n",
       "      <td>1</td>\n",
       "      <td>35699</td>\n",
       "      <td>17466</td>\n",
       "      <td>367</td>\n",
       "      <td>116</td>\n",
       "      <td>33</td>\n",
       "      <td>193088</td>\n",
       "      <td>4</td>\n",
       "      <td>0</td>\n",
       "      <td>0</td>\n",
       "      <td>4617</td>\n",
       "      <td>11979</td>\n",
       "      <td>0</td>\n",
       "      <td>1.0</td>\n",
       "    </tr>\n",
       "    <tr>\n",
       "      <th>2</th>\n",
       "      <td>{E73499F9-D901-4426-8C49-13CCCD8A802D}</td>\n",
       "      <td>2015</td>\n",
       "      <td>1</td>\n",
       "      <td>191261</td>\n",
       "      <td>7533</td>\n",
       "      <td>733</td>\n",
       "      <td>36</td>\n",
       "      <td>65</td>\n",
       "      <td>372884</td>\n",
       "      <td>1</td>\n",
       "      <td>0</td>\n",
       "      <td>1</td>\n",
       "      <td>2938</td>\n",
       "      <td>11979</td>\n",
       "      <td>0</td>\n",
       "      <td>0.0</td>\n",
       "    </tr>\n",
       "    <tr>\n",
       "      <th>3</th>\n",
       "      <td>{F1A49409-DE04-45B7-86B2-8ADDBAB5A5BC}</td>\n",
       "      <td>2015</td>\n",
       "      <td>1</td>\n",
       "      <td>129013</td>\n",
       "      <td>17466</td>\n",
       "      <td>575</td>\n",
       "      <td>3</td>\n",
       "      <td>107</td>\n",
       "      <td>53069</td>\n",
       "      <td>4</td>\n",
       "      <td>0</td>\n",
       "      <td>0</td>\n",
       "      <td>2883</td>\n",
       "      <td>11979</td>\n",
       "      <td>0</td>\n",
       "      <td>1.0</td>\n",
       "    </tr>\n",
       "    <tr>\n",
       "      <th>4</th>\n",
       "      <td>{27CAC963-61D0-4D2E-8515-1A1512CF4A64}</td>\n",
       "      <td>2015</td>\n",
       "      <td>1</td>\n",
       "      <td>38386</td>\n",
       "      <td>17466</td>\n",
       "      <td>689</td>\n",
       "      <td>168</td>\n",
       "      <td>52</td>\n",
       "      <td>266793</td>\n",
       "      <td>1</td>\n",
       "      <td>0</td>\n",
       "      <td>1</td>\n",
       "      <td>2140</td>\n",
       "      <td>11979</td>\n",
       "      <td>0</td>\n",
       "      <td>0.0</td>\n",
       "    </tr>\n",
       "  </tbody>\n",
       "</table>\n",
       "</div>"
      ],
      "text/plain": [
       "            Transaction_unique_identifier  year  month  Street_encoded  \\\n",
       "0  {C9F5B3E7-A756-4F0A-9F8D-976CF4DE4273}  2015      1          190968   \n",
       "1  {2191DFFD-12BE-4996-8374-FCFC38581EEE}  2015      1           35699   \n",
       "2  {E73499F9-D901-4426-8C49-13CCCD8A802D}  2015      1          191261   \n",
       "3  {F1A49409-DE04-45B7-86B2-8ADDBAB5A5BC}  2015      1          129013   \n",
       "4  {27CAC963-61D0-4D2E-8515-1A1512CF4A64}  2015      1           38386   \n",
       "\n",
       "   Locality_encoded  Town/City_encoded  District_encoded  County_encoded  \\\n",
       "0             17466                919               225              77   \n",
       "1             17466                367               116              33   \n",
       "2              7533                733                36              65   \n",
       "3             17466                575                 3             107   \n",
       "4             17466                689               168              52   \n",
       "\n",
       "   postcode_encoded  Property_Type_encoded  Old/New_encoded  Duration_encoded  \\\n",
       "0            424508                      4                0                 0   \n",
       "1            193088                      4                0                 0   \n",
       "2            372884                      1                0                 1   \n",
       "3             53069                      4                0                 0   \n",
       "4            266793                      1                0                 1   \n",
       "\n",
       "   PAON_encoded  SAON_encoded  PPDCategory_Type_encoded  Target_Flag  \n",
       "0          4555         11979                         0          2.0  \n",
       "1          4617         11979                         0          1.0  \n",
       "2          2938         11979                         0          0.0  \n",
       "3          2883         11979                         0          1.0  \n",
       "4          2140         11979                         0          0.0  "
      ]
     },
     "execution_count": 61,
     "metadata": {},
     "output_type": "execute_result"
    }
   ],
   "source": [
    "df1.head()"
   ]
  },
  {
   "cell_type": "code",
   "execution_count": 62,
   "id": "4adc34e3",
   "metadata": {
    "colab": {
     "base_uri": "https://localhost:8080/"
    },
    "id": "4adc34e3",
    "outputId": "6cfdfd58-0cce-46b6-ebe3-8732f5c861f5"
   },
   "outputs": [
    {
     "data": {
      "text/plain": [
       "Transaction_unique_identifier     object\n",
       "year                               int64\n",
       "month                              int64\n",
       "Street_encoded                     int64\n",
       "Locality_encoded                   int64\n",
       "Town/City_encoded                  int64\n",
       "District_encoded                   int64\n",
       "County_encoded                     int64\n",
       "postcode_encoded                   int64\n",
       "Property_Type_encoded              int64\n",
       "Old/New_encoded                    int64\n",
       "Duration_encoded                   int64\n",
       "PAON_encoded                       int64\n",
       "SAON_encoded                       int64\n",
       "PPDCategory_Type_encoded           int64\n",
       "Target_Flag                      float64\n",
       "dtype: object"
      ]
     },
     "execution_count": 62,
     "metadata": {},
     "output_type": "execute_result"
    }
   ],
   "source": [
    "df1.dtypes"
   ]
  },
  {
   "cell_type": "code",
   "execution_count": 63,
   "id": "cd2bd350",
   "metadata": {
    "colab": {
     "base_uri": "https://localhost:8080/"
    },
    "id": "cd2bd350",
    "outputId": "b89585be-ebe5-4489-d119-d281bce61061"
   },
   "outputs": [
    {
     "name": "stdout",
     "output_type": "stream",
     "text": [
      "1219508\n",
      "1219508\n"
     ]
    }
   ],
   "source": [
    "print(len(df1))\n",
    "print(df1.Transaction_unique_identifier.nunique())"
   ]
  },
  {
   "cell_type": "code",
   "execution_count": 64,
   "id": "upI_tid1gOh3",
   "metadata": {
    "colab": {
     "base_uri": "https://localhost:8080/"
    },
    "id": "upI_tid1gOh3",
    "outputId": "1edff712-4f2b-4a13-9a8d-5db7f4492802"
   },
   "outputs": [
    {
     "data": {
      "text/plain": [
       "2021    183023\n",
       "2017    159877\n",
       "2016    156809\n",
       "2018    155300\n",
       "2015    151560\n",
       "2019    151165\n",
       "2020    132410\n",
       "2022    129364\n",
       "Name: year, dtype: int64"
      ]
     },
     "execution_count": 64,
     "metadata": {},
     "output_type": "execute_result"
    }
   ],
   "source": [
    "df1.year.value_counts(dropna=False)"
   ]
  },
  {
   "cell_type": "code",
   "execution_count": 65,
   "id": "72d7e12a",
   "metadata": {
    "colab": {
     "base_uri": "https://localhost:8080/"
    },
    "id": "72d7e12a",
    "outputId": "933476bc-07f3-49fa-acf5-95017cb378af"
   },
   "outputs": [
    {
     "data": {
      "text/plain": [
       "Transaction_unique_identifier       0\n",
       "year                                0\n",
       "month                               0\n",
       "Street_encoded                      0\n",
       "Locality_encoded                    0\n",
       "Town/City_encoded                   0\n",
       "District_encoded                    0\n",
       "County_encoded                      0\n",
       "postcode_encoded                    0\n",
       "Property_Type_encoded               0\n",
       "Old/New_encoded                     0\n",
       "Duration_encoded                    0\n",
       "PAON_encoded                        0\n",
       "SAON_encoded                        0\n",
       "PPDCategory_Type_encoded            0\n",
       "Target_Flag                      4162\n",
       "dtype: int64"
      ]
     },
     "execution_count": 65,
     "metadata": {},
     "output_type": "execute_result"
    }
   ],
   "source": [
    "df1.isnull().sum()"
   ]
  },
  {
   "cell_type": "code",
   "execution_count": 66,
   "id": "16f782dc",
   "metadata": {
    "id": "16f782dc"
   },
   "outputs": [],
   "source": [
    "#print(df[df1.Target_Flag.isnull()].price.max())\n",
    "#print(df[df1.Target_Flag.isnull()].price.min())"
   ]
  },
  {
   "cell_type": "code",
   "execution_count": 67,
   "id": "51cd94cd",
   "metadata": {
    "colab": {
     "base_uri": "https://localhost:8080/"
    },
    "id": "51cd94cd",
    "outputId": "d35b624e-e989-474e-f540-b4be33365628"
   },
   "outputs": [
    {
     "name": "stdout",
     "output_type": "stream",
     "text": [
      "(1219508, 16)\n",
      "(1215346, 16)\n"
     ]
    }
   ],
   "source": [
    "print(df1.shape)\n",
    "df1.drop(df1.index[(df1.Target_Flag.isnull())],inplace=True)\n",
    "print(df1.shape)"
   ]
  },
  {
   "cell_type": "code",
   "execution_count": 68,
   "id": "7e497aa2",
   "metadata": {
    "colab": {
     "base_uri": "https://localhost:8080/"
    },
    "id": "7e497aa2",
    "outputId": "4d58033c-8da5-4f75-a26d-48191d1866fa"
   },
   "outputs": [
    {
     "name": "stdout",
     "output_type": "stream",
     "text": [
      "1215346\n"
     ]
    }
   ],
   "source": [
    "print(df1.Transaction_unique_identifier.nunique())\n"
   ]
  },
  {
   "cell_type": "code",
   "execution_count": 69,
   "id": "c7261aa1",
   "metadata": {
    "colab": {
     "base_uri": "https://localhost:8080/"
    },
    "id": "c7261aa1",
    "outputId": "c7793793-efdb-4fd1-c164-96de598dd0fd"
   },
   "outputs": [
    {
     "data": {
      "text/plain": [
       "1.0    402628\n",
       "0.0    300581\n",
       "3.0    260254\n",
       "2.0    251883\n",
       "Name: Target_Flag, dtype: int64"
      ]
     },
     "execution_count": 69,
     "metadata": {},
     "output_type": "execute_result"
    }
   ],
   "source": [
    "df1.Target_Flag.value_counts(dropna=False)"
   ]
  },
  {
   "cell_type": "code",
   "execution_count": 70,
   "id": "03a2bbcc",
   "metadata": {
    "id": "03a2bbcc"
   },
   "outputs": [],
   "source": [
    "from sklearn.model_selection import train_test_split\n",
    "\n",
    "X = df1[['year','month','Street_encoded', 'Locality_encoded', 'Town/City_encoded',\n",
    "       'District_encoded', 'County_encoded','postcode_encoded', 'Property_Type_encoded',\n",
    "       'Old/New_encoded', 'Duration_encoded','PAON_encoded','SAON_encoded','PPDCategory_Type_encoded']]\n",
    "\n",
    "Y = df1['Target_Flag']\n",
    "\n",
    "X_train, X_test, Y_train, Y_test = train_test_split(X,Y, test_size=0.25, random_state=121)\n",
    "\n",
    "del df1"
   ]
  },
  {
   "cell_type": "code",
   "execution_count": 71,
   "id": "528f0694",
   "metadata": {
    "id": "528f0694"
   },
   "outputs": [],
   "source": [
    "from sklearn.ensemble import RandomForestClassifier\n",
    "\n",
    "clf = RandomForestClassifier(n_estimators=923,criterion='gini',n_jobs=-1,oob_score=True)\n",
    "\n",
    "clf.fit(X_train,Y_train)\n",
    "\n",
    "x_prediction = clf.predict(X_test)"
   ]
  },
  {
   "cell_type": "code",
   "execution_count": 72,
   "id": "1959d84b",
   "metadata": {
    "colab": {
     "base_uri": "https://localhost:8080/"
    },
    "id": "1959d84b",
    "outputId": "d0636941-fbe6-42d7-f1c0-2c0cda7f5adc"
   },
   "outputs": [
    {
     "name": "stdout",
     "output_type": "stream",
     "text": [
      "Accuracy :  0.6827575311762557\n"
     ]
    }
   ],
   "source": [
    "from sklearn.model_selection import cross_val_score\n",
    "from sklearn.metrics import classification_report, confusion_matrix\n",
    "#Import scikit-learn metrics module for accuracy calculation\n",
    "from sklearn import metrics\n",
    "\n",
    "print('Accuracy : ', metrics.accuracy_score(Y_test,x_prediction))"
   ]
  },
  {
   "cell_type": "code",
   "execution_count": 73,
   "id": "RMn6MjOQ4Pz5",
   "metadata": {
    "colab": {
     "base_uri": "https://localhost:8080/",
     "height": 955
    },
    "id": "RMn6MjOQ4Pz5",
    "outputId": "c6d7aa41-9130-41c9-ce80-4598d6e95037"
   },
   "outputs": [
    {
     "name": "stdout",
     "output_type": "stream",
     "text": [
      "postcode_encoded            0.194668\n",
      "PAON_encoded                0.121510\n",
      "Street_encoded              0.116355\n",
      "County_encoded              0.106422\n",
      "Town/City_encoded           0.084406\n",
      "month                       0.076739\n",
      "District_encoded            0.076646\n",
      "Property_Type_encoded       0.063575\n",
      "year                        0.057816\n",
      "Locality_encoded            0.048322\n",
      "SAON_encoded                0.022165\n",
      "Duration_encoded            0.012744\n",
      "PPDCategory_Type_encoded    0.009662\n",
      "Old/New_encoded             0.008971\n",
      "dtype: float64\n"
     ]
    },
    {
     "name": "stderr",
     "output_type": "stream",
     "text": [
      "No artists with labels found to put in legend.  Note that artists whose label start with an underscore are ignored when legend() is called with no argument.\n"
     ]
    },
    {
     "data": {
      "image/png": "[encoded data removed]",
      "text/plain": [
       "<Figure size 800x800 with 1 Axes>"
      ]
     },
     "metadata": {},
     "output_type": "display_data"
    }
   ],
   "source": [
    "import seaborn as sns\n",
    "import matplotlib.pyplot as plt\n",
    "\n",
    "# feature\n",
    "feature_imp = pd.Series (clf.feature_importances_, index=X.columns). sort_values (ascending=False)\n",
    "print (feature_imp)\n",
    "sns.set(rc={'figure.figsize': (8,8)})\n",
    "# Creating a bar plot\n",
    "sns.barplot (x=feature_imp, y=feature_imp.index)\n",
    "# Add Labels to your graph\n",
    "plt.xlabel('Feature Importance Score')\n",
    "plt.ylabel('Features')\n",
    "plt.title(\"Visualizing Important Features\")\n",
    "plt.legend ()\n",
    "plt.show()"
   ]
  },
  {
   "cell_type": "code",
   "execution_count": 74,
   "id": "nqOH4kAM76Kq",
   "metadata": {
    "colab": {
     "base_uri": "https://localhost:8080/",
     "height": 408
    },
    "id": "nqOH4kAM76Kq",
    "outputId": "6204fd23-5724-4ea1-e87b-b5db19442ce7"
   },
   "outputs": [
    {
     "name": "stdout",
     "output_type": "stream",
     "text": [
      "Classification Report:\n",
      "               precision    recall  f1-score   support\n",
      "\n",
      "         0.0       0.76      0.77      0.77     75083\n",
      "         1.0       0.65      0.70      0.68    100794\n",
      "         2.0       0.57      0.48      0.52     62960\n",
      "         3.0       0.73      0.75      0.74     65000\n",
      "\n",
      "    accuracy                           0.68    303837\n",
      "   macro avg       0.68      0.68      0.68    303837\n",
      "weighted avg       0.68      0.68      0.68    303837\n",
      "\n"
     ]
    }
   ],
   "source": [
    "# print(\"=== Confusion Matrix ===\")\n",
    "# print(pd.DataFrame(confusion_matrix(X_test, x_prediction)))\n",
    "# print('\\n')\n",
    "# print(\"=== Classification Report ===\")\n",
    "# print(classification_report(X_test, x_prediction))\n",
    "\n",
    "\n",
    "# Generate the classification report for multiclass classification\n",
    "report = classification_report(Y_test, x_prediction)\n",
    "\n",
    "# Print the classification report\n",
    "print(\"Classification Report:\\n\", report)"
   ]
  },
  {
   "cell_type": "code",
   "execution_count": 75,
   "id": "2643744e",
   "metadata": {},
   "outputs": [],
   "source": [
    "del clf"
   ]
  },
  {
   "cell_type": "code",
   "execution_count": 76,
   "id": "YCdfMl5lqQWJ",
   "metadata": {
    "id": "YCdfMl5lqQWJ"
   },
   "outputs": [
    {
     "name": "stdout",
     "output_type": "stream",
     "text": [
      "0    2\n",
      "1    1\n",
      "2    0\n",
      "3    1\n",
      "4    0\n",
      "Name: Target_Flag, dtype: int64\n"
     ]
    }
   ],
   "source": [
    "from xgboost import XGBClassifier\n",
    "# Initialize the XGBoost classifier\n",
    "\n",
    "Y = Y.astype(int)\n",
    "print(Y.head())\n",
    "\n",
    "Y_train = Y_train.astype(int)\n",
    "\n",
    "\n",
    "xgb_classifier = XGBClassifier(n_estimators=1004, learning_rate=0.1, max_depth=3, random_state=121, n_jobs=-1)\n",
    "\n",
    "# Fit the model to the training data\n",
    "xgb_classifier.fit(X_train, Y_train)\n",
    "\n",
    "xgb_prediction = xgb_classifier.predict(X_test)"
   ]
  },
  {
   "cell_type": "code",
   "execution_count": 77,
   "id": "d28b94d7",
   "metadata": {},
   "outputs": [
    {
     "name": "stdout",
     "output_type": "stream",
     "text": [
      "Accuracy :  0.6266188778851819\n"
     ]
    }
   ],
   "source": [
    "print('Accuracy : ', metrics.accuracy_score(Y_test,xgb_prediction))"
   ]
  },
  {
   "cell_type": "code",
   "execution_count": 78,
   "id": "42ad68a7",
   "metadata": {},
   "outputs": [
    {
     "name": "stdout",
     "output_type": "stream",
     "text": [
      "Classification Report:\n",
      "               precision    recall  f1-score   support\n",
      "\n",
      "         0.0       0.71      0.70      0.70     75083\n",
      "         1.0       0.58      0.69      0.63    100794\n",
      "         2.0       0.53      0.36      0.42     62960\n",
      "         3.0       0.69      0.71      0.70     65000\n",
      "\n",
      "    accuracy                           0.63    303837\n",
      "   macro avg       0.62      0.61      0.61    303837\n",
      "weighted avg       0.62      0.63      0.62    303837\n",
      "\n"
     ]
    }
   ],
   "source": [
    "# Generate the classification report\n",
    "report = classification_report(Y_test, xgb_prediction)\n",
    "\n",
    "# Print the classification report\n",
    "print(\"Classification Report:\\n\", report)"
   ]
  },
  {
   "cell_type": "code",
   "execution_count": 79,
   "id": "621f52d8",
   "metadata": {},
   "outputs": [
    {
     "name": "stdout",
     "output_type": "stream",
     "text": [
      "Feature Importances:\n",
      " Property_Type_encoded       0.170592\n",
      "County_encoded              0.163036\n",
      "Duration_encoded            0.144857\n",
      "PAON_encoded                0.083925\n",
      "PPDCategory_Type_encoded    0.083243\n",
      "postcode_encoded            0.074826\n",
      "year                        0.068076\n",
      "Old/New_encoded             0.061103\n",
      "Town/City_encoded           0.047540\n",
      "District_encoded            0.042541\n",
      "SAON_encoded                0.029647\n",
      "month                       0.013285\n",
      "Locality_encoded            0.010941\n",
      "Street_encoded              0.006390\n",
      "dtype: float32\n"
     ]
    },
    {
     "data": {
      "image/png": "[encoded data removed]",
      "text/plain": [
       "<Figure size 800x800 with 1 Axes>"
      ]
     },
     "metadata": {},
     "output_type": "display_data"
    }
   ],
   "source": [
    "feature_imp = pd.Series(xgb_classifier.feature_importances_, index=X.columns).sort_values(ascending=False)\n",
    "\n",
    "# Print feature importances\n",
    "print(\"Feature Importances:\\n\", feature_imp)\n",
    "\n",
    "# Plotting the feature importances\n",
    "sns.set(rc={'figure.figsize': (8, 8)})\n",
    "sns.barplot(x=feature_imp, y=feature_imp.index)\n",
    "plt.xlabel('Feature Importance Score')\n",
    "plt.ylabel('Features')\n",
    "plt.title(\"Visualizing Important Features for XGBoost\")\n",
    "plt.show()"
   ]
  },
  {
   "cell_type": "code",
   "execution_count": 80,
   "id": "34788c3d",
   "metadata": {},
   "outputs": [],
   "source": [
    "del xgb_classifier"
   ]
  },
  {
   "cell_type": "code",
   "execution_count": 81,
   "id": "e487e1b8",
   "metadata": {},
   "outputs": [
    {
     "name": "stderr",
     "output_type": "stream",
     "text": [
      "/Users/ironfeast/anaconda3/lib/python3.11/site-packages/sklearn/linear_model/_logistic.py:460: ConvergenceWarning: lbfgs failed to converge (status=1):\n",
      "STOP: TOTAL NO. of ITERATIONS REACHED LIMIT.\n",
      "\n",
      "Increase the number of iterations (max_iter) or scale the data as shown in:\n",
      "    https://scikit-learn.org/stable/modules/preprocessing.html\n",
      "Please also refer to the documentation for alternative solver options:\n",
      "    https://scikit-learn.org/stable/modules/linear_model.html#logistic-regression\n",
      "  n_iter_i = _check_optimize_result(\n"
     ]
    }
   ],
   "source": [
    "from sklearn.linear_model import LogisticRegression\n",
    "\n",
    "logreg_model = LogisticRegression(random_state=164)\n",
    "\n",
    "# Fit the model to the training data\n",
    "logreg_model.fit(X_train, Y_train)\n",
    "\n",
    "# Make predictions on the test set\n",
    "Y_pred = logreg_model.predict(X_test)\n"
   ]
  },
  {
   "cell_type": "code",
   "execution_count": 82,
   "id": "fea6fc8e",
   "metadata": {},
   "outputs": [
    {
     "name": "stdout",
     "output_type": "stream",
     "text": [
      "Accuracy: 0.33893172984198766\n"
     ]
    }
   ],
   "source": [
    "# Measure accuracy\n",
    "accuracy = metrics.accuracy_score(Y_test, Y_pred)\n",
    "print(\"Accuracy:\", accuracy)"
   ]
  },
  {
   "cell_type": "code",
   "execution_count": 83,
   "id": "eb297b59",
   "metadata": {},
   "outputs": [
    {
     "name": "stderr",
     "output_type": "stream",
     "text": [
      "/Users/ironfeast/anaconda3/lib/python3.11/site-packages/sklearn/metrics/_classification.py:1469: UndefinedMetricWarning: Precision and F-score are ill-defined and being set to 0.0 in labels with no predicted samples. Use `zero_division` parameter to control this behavior.\n",
      "  _warn_prf(average, modifier, msg_start, len(result))\n",
      "/Users/ironfeast/anaconda3/lib/python3.11/site-packages/sklearn/metrics/_classification.py:1469: UndefinedMetricWarning: Precision and F-score are ill-defined and being set to 0.0 in labels with no predicted samples. Use `zero_division` parameter to control this behavior.\n",
      "  _warn_prf(average, modifier, msg_start, len(result))\n"
     ]
    },
    {
     "name": "stdout",
     "output_type": "stream",
     "text": [
      "Classification Report:\n",
      "               precision    recall  f1-score   support\n",
      "\n",
      "         0.0       0.28      0.02      0.04     75083\n",
      "         1.0       0.34      0.90      0.49    100794\n",
      "         2.0       0.00      0.00      0.00     62960\n",
      "         3.0       0.33      0.17      0.22     65000\n",
      "\n",
      "    accuracy                           0.34    303837\n",
      "   macro avg       0.24      0.27      0.19    303837\n",
      "weighted avg       0.25      0.34      0.22    303837\n",
      "\n"
     ]
    },
    {
     "name": "stderr",
     "output_type": "stream",
     "text": [
      "/Users/ironfeast/anaconda3/lib/python3.11/site-packages/sklearn/metrics/_classification.py:1469: UndefinedMetricWarning: Precision and F-score are ill-defined and being set to 0.0 in labels with no predicted samples. Use `zero_division` parameter to control this behavior.\n",
      "  _warn_prf(average, modifier, msg_start, len(result))\n"
     ]
    }
   ],
   "source": [
    "# Generate the classification report\n",
    "report = classification_report(Y_test, Y_pred)\n",
    "print(\"Classification Report:\\n\", report)"
   ]
  },
  {
   "cell_type": "code",
   "execution_count": 84,
   "id": "b4db5645",
   "metadata": {},
   "outputs": [
    {
     "name": "stdout",
     "output_type": "stream",
     "text": [
      "Locality_encoded            1.516263e-05\n",
      "County_encoded              4.501111e-07\n",
      "year                        1.886312e-07\n",
      "Town/City_encoded           1.036069e-07\n",
      "Property_Type_encoded       7.351029e-08\n",
      "Duration_encoded            1.174007e-08\n",
      "PPDCategory_Type_encoded    1.009718e-08\n",
      "postcode_encoded            3.339733e-09\n",
      "Old/New_encoded            -5.406279e-09\n",
      "month                      -1.202968e-08\n",
      "Street_encoded             -1.844536e-08\n",
      "District_encoded           -4.907101e-07\n",
      "PAON_encoded               -4.124691e-06\n",
      "SAON_encoded               -1.504605e-05\n",
      "dtype: float64\n"
     ]
    },
    {
     "data": {
      "image/png": "[encoded data removed]",
      "text/plain": [
       "<Figure size 800x800 with 1 Axes>"
      ]
     },
     "metadata": {},
     "output_type": "display_data"
    }
   ],
   "source": [
    "# Visualize feature importance\n",
    "feature_imp = pd.Series(logreg_model.coef_[0], index=X.columns).sort_values(ascending=False)\n",
    "print(feature_imp)\n",
    "sns.set(rc={'figure.figsize': (8, 8)})\n",
    "sns.barplot(x=feature_imp, y=feature_imp.index)\n",
    "plt.xlabel('Feature Importance Score')\n",
    "plt.ylabel('Features')\n",
    "plt.title(\"Visualizing Feature Importance for Logistic Regression\")\n",
    "plt.show()"
   ]
  },
  {
   "cell_type": "code",
   "execution_count": 85,
   "id": "121047c2",
   "metadata": {},
   "outputs": [],
   "source": [
    "# del logreg_model"
   ]
  },
  {
   "cell_type": "code",
   "execution_count": null,
   "id": "b85c41ab",
   "metadata": {},
   "outputs": [],
   "source": [
    "# import lightgbm as lgb\n",
    "# lgb_classifier = lgb.LGBMClassifier(n_estimators=891, learning_rate=0.01, max_depth=3, random_state=121)\n",
    "\n",
    "# # Fit the model to the training data\n",
    "# lgb_classifier.fit(X_train, Y_train)\n",
    "\n",
    "# # Make predictions on the test set\n",
    "# Y_pred = lgb_classifier.predict(X_test)"
   ]
  },
  {
   "cell_type": "code",
   "execution_count": null,
   "id": "cc7407fb",
   "metadata": {},
   "outputs": [],
   "source": [
    "# # Measure accuracy\n",
    "# accuracy = accuracy_score(Y_test, Y_pred)\n",
    "# print(\"Accuracy:\", accuracy)"
   ]
  },
  {
   "cell_type": "code",
   "execution_count": null,
   "id": "f6051d50",
   "metadata": {},
   "outputs": [],
   "source": [
    "# # Generate the classification report\n",
    "# report = classification_report(Y_test, Y_pred)\n",
    "# print(\"Classification Report:\\n\", report)\n"
   ]
  },
  {
   "cell_type": "code",
   "execution_count": null,
   "id": "6d28ebf8",
   "metadata": {},
   "outputs": [],
   "source": [
    "# # Visualize feature importance\n",
    "# feature_imp = pd.Series(lgb_classifier.feature_importances_, index=X.columns).sort_values(ascending=False)\n",
    "\n",
    "# sns.set(rc={'figure.figsize': (8, 8)})\n",
    "# sns.barplot(x=feature_imp, y=feature_imp.index)\n",
    "# plt.xlabel('Feature Importance Score')\n",
    "# plt.ylabel('Features')\n",
    "# plt.title(\"Visualizing Feature Importance for LightGBM\")\n",
    "# plt.show()"
   ]
  },
  {
   "cell_type": "code",
   "execution_count": null,
   "id": "cda66ceb",
   "metadata": {},
   "outputs": [],
   "source": []
  },
  {
   "cell_type": "code",
   "execution_count": null,
   "id": "abed4e67",
   "metadata": {},
   "outputs": [],
   "source": []
  }
 ],
 "metadata": {
  "accelerator": "GPU",
  "colab": {
   "gpuType": "T4",
   "machine_shape": "hm",
   "provenance": []
  },
  "kernelspec": {
   "display_name": "Python 3 (ipykernel)",
   "language": "python",
   "name": "python3"
  },
  "language_info": {
   "codemirror_mode": {
    "name": "ipython",
    "version": 3
   },
   "file_extension": ".py",
   "mimetype": "text/x-python",
   "name": "python",
   "nbconvert_exporter": "python",
   "pygments_lexer": "ipython3",
   "version": "3.11.4"
  }
 },
 "nbformat": 4,
 "nbformat_minor": 5
}
