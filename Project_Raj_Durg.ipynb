{
 "cells": [
  {
   "cell_type": "code",
   "execution_count": 38,
   "id": "864e490a-2bd3-4a93-83ec-811b6a509bd3",
   "metadata": {},
   "outputs": [],
   "source": [
    "import pandas as pd\n",
    "import numpy as np\n",
    "\n",
    "import matplotlib.pyplot as plt\n",
    "%matplotlib inline\n",
    "\n",
    "pd.set_option('display.max_columns', None)\n",
    "pd.set_option('display.max_rows', None)"
   ]
  },
  {
   "cell_type": "code",
   "execution_count": 2,
   "id": "823d255e-7a2c-4ef7-bd41-7cecbcb8294d",
   "metadata": {},
   "outputs": [
    {
     "data": {
      "text/html": [
       "<div>\n",
       "<style scoped>\n",
       "    .dataframe tbody tr th:only-of-type {\n",
       "        vertical-align: middle;\n",
       "    }\n",
       "\n",
       "    .dataframe tbody tr th {\n",
       "        vertical-align: top;\n",
       "    }\n",
       "\n",
       "    .dataframe thead th {\n",
       "        text-align: right;\n",
       "    }\n",
       "</style>\n",
       "<table border=\"1\" class=\"dataframe\">\n",
       "  <thead>\n",
       "    <tr style=\"text-align: right;\">\n",
       "      <th></th>\n",
       "      <th>Transaction_unique_identifier</th>\n",
       "      <th>price</th>\n",
       "      <th>Date_of_Transfer</th>\n",
       "      <th>postcode</th>\n",
       "      <th>Property_Type</th>\n",
       "      <th>Old/New</th>\n",
       "      <th>Duration</th>\n",
       "      <th>PAON</th>\n",
       "      <th>SAON</th>\n",
       "      <th>Street</th>\n",
       "      <th>Locality</th>\n",
       "      <th>Town/City</th>\n",
       "      <th>District</th>\n",
       "      <th>County</th>\n",
       "      <th>PPDCategory_Type</th>\n",
       "      <th>Record_Status - monthly_file_only</th>\n",
       "    </tr>\n",
       "  </thead>\n",
       "  <tbody>\n",
       "    <tr>\n",
       "      <th>0</th>\n",
       "      <td>{40FD4DF2-5362-407C-92BC-566E2CCE89E9}</td>\n",
       "      <td>44500</td>\n",
       "      <td>1995-02-03 00:00</td>\n",
       "      <td>SR6 0AQ</td>\n",
       "      <td>T</td>\n",
       "      <td>N</td>\n",
       "      <td>F</td>\n",
       "      <td>50</td>\n",
       "      <td>None</td>\n",
       "      <td>HOWICK PARK</td>\n",
       "      <td>SUNDERLAND</td>\n",
       "      <td>SUNDERLAND</td>\n",
       "      <td>SUNDERLAND</td>\n",
       "      <td>TYNE AND WEAR</td>\n",
       "      <td>A</td>\n",
       "      <td>A</td>\n",
       "    </tr>\n",
       "    <tr>\n",
       "      <th>1</th>\n",
       "      <td>{7A99F89E-7D81-4E45-ABD5-566E49A045EA}</td>\n",
       "      <td>56500</td>\n",
       "      <td>1995-01-13 00:00</td>\n",
       "      <td>CO6 1SQ</td>\n",
       "      <td>T</td>\n",
       "      <td>N</td>\n",
       "      <td>F</td>\n",
       "      <td>19</td>\n",
       "      <td>None</td>\n",
       "      <td>BRICK KILN CLOSE</td>\n",
       "      <td>COGGESHALL</td>\n",
       "      <td>COLCHESTER</td>\n",
       "      <td>BRAINTREE</td>\n",
       "      <td>ESSEX</td>\n",
       "      <td>A</td>\n",
       "      <td>A</td>\n",
       "    </tr>\n",
       "    <tr>\n",
       "      <th>2</th>\n",
       "      <td>{28225260-E61C-4E57-8B56-566E5285B1C1}</td>\n",
       "      <td>58000</td>\n",
       "      <td>1995-07-28 00:00</td>\n",
       "      <td>B90 4TG</td>\n",
       "      <td>T</td>\n",
       "      <td>N</td>\n",
       "      <td>F</td>\n",
       "      <td>37</td>\n",
       "      <td>None</td>\n",
       "      <td>RAINSBROOK DRIVE</td>\n",
       "      <td>SHIRLEY</td>\n",
       "      <td>SOLIHULL</td>\n",
       "      <td>SOLIHULL</td>\n",
       "      <td>WEST MIDLANDS</td>\n",
       "      <td>A</td>\n",
       "      <td>A</td>\n",
       "    </tr>\n",
       "    <tr>\n",
       "      <th>3</th>\n",
       "      <td>{444D34D7-9BA6-43A7-B695-4F48980E0176}</td>\n",
       "      <td>51000</td>\n",
       "      <td>1995-06-28 00:00</td>\n",
       "      <td>DY5 1SA</td>\n",
       "      <td>S</td>\n",
       "      <td>N</td>\n",
       "      <td>F</td>\n",
       "      <td>59</td>\n",
       "      <td>None</td>\n",
       "      <td>MERRY HILL</td>\n",
       "      <td>BRIERLEY HILL</td>\n",
       "      <td>BRIERLEY HILL</td>\n",
       "      <td>DUDLEY</td>\n",
       "      <td>WEST MIDLANDS</td>\n",
       "      <td>A</td>\n",
       "      <td>A</td>\n",
       "    </tr>\n",
       "    <tr>\n",
       "      <th>4</th>\n",
       "      <td>{AE76CAF1-F8CC-43F9-8F63-4F48A2857D41}</td>\n",
       "      <td>17000</td>\n",
       "      <td>1995-03-10 00:00</td>\n",
       "      <td>S65 1QJ</td>\n",
       "      <td>T</td>\n",
       "      <td>N</td>\n",
       "      <td>L</td>\n",
       "      <td>22</td>\n",
       "      <td>None</td>\n",
       "      <td>DENMAN STREET</td>\n",
       "      <td>ROTHERHAM</td>\n",
       "      <td>ROTHERHAM</td>\n",
       "      <td>ROTHERHAM</td>\n",
       "      <td>SOUTH YORKSHIRE</td>\n",
       "      <td>A</td>\n",
       "      <td>A</td>\n",
       "    </tr>\n",
       "  </tbody>\n",
       "</table>\n",
       "</div>"
      ],
      "text/plain": [
       "            Transaction_unique_identifier  price  Date_of_Transfer postcode  \\\n",
       "0  {40FD4DF2-5362-407C-92BC-566E2CCE89E9}  44500  1995-02-03 00:00  SR6 0AQ   \n",
       "1  {7A99F89E-7D81-4E45-ABD5-566E49A045EA}  56500  1995-01-13 00:00  CO6 1SQ   \n",
       "2  {28225260-E61C-4E57-8B56-566E5285B1C1}  58000  1995-07-28 00:00  B90 4TG   \n",
       "3  {444D34D7-9BA6-43A7-B695-4F48980E0176}  51000  1995-06-28 00:00  DY5 1SA   \n",
       "4  {AE76CAF1-F8CC-43F9-8F63-4F48A2857D41}  17000  1995-03-10 00:00  S65 1QJ   \n",
       "\n",
       "  Property_Type Old/New Duration PAON  SAON            Street       Locality  \\\n",
       "0             T       N        F   50  None       HOWICK PARK     SUNDERLAND   \n",
       "1             T       N        F   19  None  BRICK KILN CLOSE     COGGESHALL   \n",
       "2             T       N        F   37  None  RAINSBROOK DRIVE        SHIRLEY   \n",
       "3             S       N        F   59  None        MERRY HILL  BRIERLEY HILL   \n",
       "4             T       N        L   22  None     DENMAN STREET      ROTHERHAM   \n",
       "\n",
       "       Town/City    District           County PPDCategory_Type  \\\n",
       "0     SUNDERLAND  SUNDERLAND    TYNE AND WEAR                A   \n",
       "1     COLCHESTER   BRAINTREE            ESSEX                A   \n",
       "2       SOLIHULL    SOLIHULL    WEST MIDLANDS                A   \n",
       "3  BRIERLEY HILL      DUDLEY    WEST MIDLANDS                A   \n",
       "4      ROTHERHAM   ROTHERHAM  SOUTH YORKSHIRE                A   \n",
       "\n",
       "  Record_Status - monthly_file_only  \n",
       "0                                 A  \n",
       "1                                 A  \n",
       "2                                 A  \n",
       "3                                 A  \n",
       "4                                 A  "
      ]
     },
     "execution_count": 2,
     "metadata": {},
     "output_type": "execute_result"
    }
   ],
   "source": [
    "df = pd.read_parquet(r'C:\\Users\\kumra\\OneDrive\\Desktop\\Data Mining\\Project 2023\\202304.parquet')\n",
    "df.head()"
   ]
  },
  {
   "cell_type": "code",
   "execution_count": 3,
   "id": "8959f183",
   "metadata": {},
   "outputs": [
    {
     "data": {
      "text/plain": [
       "(28276227, 16)"
      ]
     },
     "execution_count": 3,
     "metadata": {},
     "output_type": "execute_result"
    }
   ],
   "source": [
    "df.shape"
   ]
  },
  {
   "cell_type": "code",
   "execution_count": 4,
   "id": "02a2215d",
   "metadata": {},
   "outputs": [
    {
     "data": {
      "text/html": [
       "<div>\n",
       "<style scoped>\n",
       "    .dataframe tbody tr th:only-of-type {\n",
       "        vertical-align: middle;\n",
       "    }\n",
       "\n",
       "    .dataframe tbody tr th {\n",
       "        vertical-align: top;\n",
       "    }\n",
       "\n",
       "    .dataframe thead th {\n",
       "        text-align: right;\n",
       "    }\n",
       "</style>\n",
       "<table border=\"1\" class=\"dataframe\">\n",
       "  <thead>\n",
       "    <tr style=\"text-align: right;\">\n",
       "      <th></th>\n",
       "      <th>price</th>\n",
       "    </tr>\n",
       "  </thead>\n",
       "  <tbody>\n",
       "    <tr>\n",
       "      <th>count</th>\n",
       "      <td>2.827623e+07</td>\n",
       "    </tr>\n",
       "    <tr>\n",
       "      <th>mean</th>\n",
       "      <td>2.181305e+05</td>\n",
       "    </tr>\n",
       "    <tr>\n",
       "      <th>std</th>\n",
       "      <td>8.688525e+05</td>\n",
       "    </tr>\n",
       "    <tr>\n",
       "      <th>min</th>\n",
       "      <td>1.000000e+00</td>\n",
       "    </tr>\n",
       "    <tr>\n",
       "      <th>25%</th>\n",
       "      <td>8.495000e+04</td>\n",
       "    </tr>\n",
       "    <tr>\n",
       "      <th>50%</th>\n",
       "      <td>1.499500e+05</td>\n",
       "    </tr>\n",
       "    <tr>\n",
       "      <th>75%</th>\n",
       "      <td>2.475000e+05</td>\n",
       "    </tr>\n",
       "    <tr>\n",
       "      <th>max</th>\n",
       "      <td>5.943000e+08</td>\n",
       "    </tr>\n",
       "  </tbody>\n",
       "</table>\n",
       "</div>"
      ],
      "text/plain": [
       "              price\n",
       "count  2.827623e+07\n",
       "mean   2.181305e+05\n",
       "std    8.688525e+05\n",
       "min    1.000000e+00\n",
       "25%    8.495000e+04\n",
       "50%    1.499500e+05\n",
       "75%    2.475000e+05\n",
       "max    5.943000e+08"
      ]
     },
     "execution_count": 4,
     "metadata": {},
     "output_type": "execute_result"
    }
   ],
   "source": [
    "df.describe()"
   ]
  },
  {
   "cell_type": "code",
   "execution_count": 5,
   "id": "71ea5809",
   "metadata": {},
   "outputs": [
    {
     "data": {
      "text/plain": [
       "1"
      ]
     },
     "execution_count": 5,
     "metadata": {},
     "output_type": "execute_result"
    }
   ],
   "source": [
    "df.price.min()"
   ]
  },
  {
   "cell_type": "code",
   "execution_count": 6,
   "id": "699dd274",
   "metadata": {},
   "outputs": [
    {
     "data": {
      "text/plain": [
       "594300000"
      ]
     },
     "execution_count": 6,
     "metadata": {},
     "output_type": "execute_result"
    }
   ],
   "source": [
    "df.price.max()"
   ]
  },
  {
   "cell_type": "code",
   "execution_count": 7,
   "id": "45a4c4d2",
   "metadata": {},
   "outputs": [
    {
     "data": {
      "text/plain": [
       "count    2.827623e+07\n",
       "mean     2.181305e+05\n",
       "std      8.688525e+05\n",
       "min      1.000000e+00\n",
       "25%      8.495000e+04\n",
       "50%      1.499500e+05\n",
       "75%      2.475000e+05\n",
       "max      5.943000e+08\n",
       "Name: price, dtype: float64"
      ]
     },
     "execution_count": 7,
     "metadata": {},
     "output_type": "execute_result"
    }
   ],
   "source": [
    "df.price.describe()"
   ]
  },
  {
   "cell_type": "code",
   "execution_count": 8,
   "id": "e24d764c",
   "metadata": {},
   "outputs": [
    {
     "data": {
      "text/html": [
       "<div>\n",
       "<style scoped>\n",
       "    .dataframe tbody tr th:only-of-type {\n",
       "        vertical-align: middle;\n",
       "    }\n",
       "\n",
       "    .dataframe tbody tr th {\n",
       "        vertical-align: top;\n",
       "    }\n",
       "\n",
       "    .dataframe thead th {\n",
       "        text-align: right;\n",
       "    }\n",
       "</style>\n",
       "<table border=\"1\" class=\"dataframe\">\n",
       "  <thead>\n",
       "    <tr style=\"text-align: right;\">\n",
       "      <th></th>\n",
       "      <th>price</th>\n",
       "    </tr>\n",
       "  </thead>\n",
       "  <tbody>\n",
       "    <tr>\n",
       "      <th>count</th>\n",
       "      <td>28276227.00</td>\n",
       "    </tr>\n",
       "    <tr>\n",
       "      <th>mean</th>\n",
       "      <td>218130.50</td>\n",
       "    </tr>\n",
       "    <tr>\n",
       "      <th>std</th>\n",
       "      <td>868852.46</td>\n",
       "    </tr>\n",
       "    <tr>\n",
       "      <th>min</th>\n",
       "      <td>1.00</td>\n",
       "    </tr>\n",
       "    <tr>\n",
       "      <th>25%</th>\n",
       "      <td>84950.00</td>\n",
       "    </tr>\n",
       "    <tr>\n",
       "      <th>50%</th>\n",
       "      <td>149950.00</td>\n",
       "    </tr>\n",
       "    <tr>\n",
       "      <th>75%</th>\n",
       "      <td>247500.00</td>\n",
       "    </tr>\n",
       "    <tr>\n",
       "      <th>max</th>\n",
       "      <td>594300000.00</td>\n",
       "    </tr>\n",
       "  </tbody>\n",
       "</table>\n",
       "</div>"
      ],
      "text/plain": [
       "              price\n",
       "count   28276227.00\n",
       "mean      218130.50\n",
       "std       868852.46\n",
       "min            1.00\n",
       "25%        84950.00\n",
       "50%       149950.00\n",
       "75%       247500.00\n",
       "max    594300000.00"
      ]
     },
     "execution_count": 8,
     "metadata": {},
     "output_type": "execute_result"
    }
   ],
   "source": [
    "df.describe().apply(lambda s: s.apply('{0:.2f}'.format))"
   ]
  },
  {
   "cell_type": "code",
   "execution_count": 9,
   "id": "fbdb7a6c",
   "metadata": {},
   "outputs": [
    {
     "data": {
      "text/plain": [
       "(9,)"
      ]
     },
     "execution_count": 9,
     "metadata": {},
     "output_type": "execute_result"
    }
   ],
   "source": [
    "df.price[round(df.price)==1].shape"
   ]
  },
  {
   "cell_type": "code",
   "execution_count": 10,
   "id": "cb8d69a7",
   "metadata": {},
   "outputs": [
    {
     "data": {
      "text/plain": [
       "(28276218, 16)"
      ]
     },
     "execution_count": 10,
     "metadata": {},
     "output_type": "execute_result"
    }
   ],
   "source": [
    "df.drop(df.index[(round(df.price)==1)],inplace=True)#.price.describe()#.apply(lambda s: s.apply('{0:.2f}'.format))\n",
    "df.shape"
   ]
  },
  {
   "cell_type": "code",
   "execution_count": 11,
   "id": "0120f923",
   "metadata": {},
   "outputs": [
    {
     "data": {
      "text/html": [
       "<div>\n",
       "<style scoped>\n",
       "    .dataframe tbody tr th:only-of-type {\n",
       "        vertical-align: middle;\n",
       "    }\n",
       "\n",
       "    .dataframe tbody tr th {\n",
       "        vertical-align: top;\n",
       "    }\n",
       "\n",
       "    .dataframe thead th {\n",
       "        text-align: right;\n",
       "    }\n",
       "</style>\n",
       "<table border=\"1\" class=\"dataframe\">\n",
       "  <thead>\n",
       "    <tr style=\"text-align: right;\">\n",
       "      <th></th>\n",
       "      <th>price</th>\n",
       "    </tr>\n",
       "  </thead>\n",
       "  <tbody>\n",
       "    <tr>\n",
       "      <th>count</th>\n",
       "      <td>28276218.00</td>\n",
       "    </tr>\n",
       "    <tr>\n",
       "      <th>mean</th>\n",
       "      <td>218130.56</td>\n",
       "    </tr>\n",
       "    <tr>\n",
       "      <th>std</th>\n",
       "      <td>868852.59</td>\n",
       "    </tr>\n",
       "    <tr>\n",
       "      <th>min</th>\n",
       "      <td>49.00</td>\n",
       "    </tr>\n",
       "    <tr>\n",
       "      <th>25%</th>\n",
       "      <td>84950.00</td>\n",
       "    </tr>\n",
       "    <tr>\n",
       "      <th>50%</th>\n",
       "      <td>149950.00</td>\n",
       "    </tr>\n",
       "    <tr>\n",
       "      <th>75%</th>\n",
       "      <td>247500.00</td>\n",
       "    </tr>\n",
       "    <tr>\n",
       "      <th>max</th>\n",
       "      <td>594300000.00</td>\n",
       "    </tr>\n",
       "  </tbody>\n",
       "</table>\n",
       "</div>"
      ],
      "text/plain": [
       "              price\n",
       "count   28276218.00\n",
       "mean      218130.56\n",
       "std       868852.59\n",
       "min           49.00\n",
       "25%        84950.00\n",
       "50%       149950.00\n",
       "75%       247500.00\n",
       "max    594300000.00"
      ]
     },
     "execution_count": 11,
     "metadata": {},
     "output_type": "execute_result"
    }
   ],
   "source": [
    "df.describe().apply(lambda s: s.apply('{0:.2f}'.format))"
   ]
  },
  {
   "cell_type": "code",
   "execution_count": 12,
   "id": "9d949087",
   "metadata": {},
   "outputs": [
    {
     "data": {
      "text/plain": [
       "Index(['Transaction_unique_identifier', 'price', 'Date_of_Transfer',\n",
       "       'postcode', 'Property_Type', 'Old/New', 'Duration', 'PAON', 'SAON',\n",
       "       'Street', 'Locality', 'Town/City', 'District', 'County',\n",
       "       'PPDCategory_Type', 'Record_Status - monthly_file_only', 'year'],\n",
       "      dtype='object')"
      ]
     },
     "execution_count": 12,
     "metadata": {},
     "output_type": "execute_result"
    }
   ],
   "source": [
    "df.Date_of_Transfer = pd.to_datetime(df.Date_of_Transfer)\n",
    "df['year'] = df.Date_of_Transfer.dt.year\n",
    "df.columns"
   ]
  },
  {
   "cell_type": "code",
   "execution_count": 13,
   "id": "c7e79639",
   "metadata": {},
   "outputs": [
    {
     "data": {
      "text/plain": [
       "<Axes: xlabel='year', ylabel='price'>"
      ]
     },
     "execution_count": 13,
     "metadata": {},
     "output_type": "execute_result"
    },
    {
     "data": {
      "image/png": "[encoded data removed]",
      "text/plain": [
       "<Figure size 640x480 with 1 Axes>"
      ]
     },
     "metadata": {},
     "output_type": "display_data"
    }
   ],
   "source": [
    "df.plot(y = 'price',x='year',kind='scatter')"
   ]
  },
  {
   "cell_type": "code",
   "execution_count": 14,
   "id": "99350ec6",
   "metadata": {},
   "outputs": [
    {
     "data": {
      "text/plain": [
       "(9859,)"
      ]
     },
     "execution_count": 14,
     "metadata": {},
     "output_type": "execute_result"
    }
   ],
   "source": [
    "df.price[round(df.price)<=1000].shape"
   ]
  },
  {
   "cell_type": "code",
   "execution_count": 15,
   "id": "cba7b8a6",
   "metadata": {},
   "outputs": [
    {
     "data": {
      "text/plain": [
       "(10352,)"
      ]
     },
     "execution_count": 15,
     "metadata": {},
     "output_type": "execute_result"
    }
   ],
   "source": [
    "df.price[round(df.price)>=10000000].shape"
   ]
  },
  {
   "cell_type": "code",
   "execution_count": 16,
   "id": "99266f5a",
   "metadata": {},
   "outputs": [
    {
     "data": {
      "text/plain": [
       "(28195966,)"
      ]
     },
     "execution_count": 16,
     "metadata": {},
     "output_type": "execute_result"
    }
   ],
   "source": [
    "df.price[~((round(df.price)<=10000)|(round(df.price)>=10000000))].shape"
   ]
  },
  {
   "cell_type": "code",
   "execution_count": 17,
   "id": "c5533b58",
   "metadata": {},
   "outputs": [
    {
     "data": {
      "text/plain": [
       "3594445.621915965"
      ]
     },
     "execution_count": 17,
     "metadata": {},
     "output_type": "execute_result"
    }
   ],
   "source": [
    "df.price[((round(df.price)<=10000)|(round(df.price)>=10000000))].mean()"
   ]
  },
  {
   "cell_type": "code",
   "execution_count": 18,
   "id": "1d68fd3e",
   "metadata": {},
   "outputs": [
    {
     "data": {
      "text/plain": [
       "218130.564765875"
      ]
     },
     "execution_count": 18,
     "metadata": {},
     "output_type": "execute_result"
    }
   ],
   "source": [
    "df.price.mean()"
   ]
  },
  {
   "cell_type": "code",
   "execution_count": 19,
   "id": "b360b5eb",
   "metadata": {},
   "outputs": [
    {
     "data": {
      "text/plain": [
       "208520.8200255668"
      ]
     },
     "execution_count": 19,
     "metadata": {},
     "output_type": "execute_result"
    }
   ],
   "source": [
    "df.price[~((round(df.price)<=10000)|(round(df.price)>=10000000))].mean()"
   ]
  },
  {
   "cell_type": "code",
   "execution_count": 20,
   "id": "926ffee0",
   "metadata": {},
   "outputs": [
    {
     "data": {
      "text/html": [
       "<div>\n",
       "<style scoped>\n",
       "    .dataframe tbody tr th:only-of-type {\n",
       "        vertical-align: middle;\n",
       "    }\n",
       "\n",
       "    .dataframe tbody tr th {\n",
       "        vertical-align: top;\n",
       "    }\n",
       "\n",
       "    .dataframe thead th {\n",
       "        text-align: right;\n",
       "    }\n",
       "</style>\n",
       "<table border=\"1\" class=\"dataframe\">\n",
       "  <thead>\n",
       "    <tr style=\"text-align: right;\">\n",
       "      <th></th>\n",
       "      <th>price</th>\n",
       "    </tr>\n",
       "    <tr>\n",
       "      <th>year</th>\n",
       "      <th></th>\n",
       "    </tr>\n",
       "  </thead>\n",
       "  <tbody>\n",
       "    <tr>\n",
       "      <th>1995</th>\n",
       "      <td>68336.267859</td>\n",
       "    </tr>\n",
       "    <tr>\n",
       "      <th>1996</th>\n",
       "      <td>71923.786623</td>\n",
       "    </tr>\n",
       "    <tr>\n",
       "      <th>1997</th>\n",
       "      <td>78900.077698</td>\n",
       "    </tr>\n",
       "    <tr>\n",
       "      <th>1998</th>\n",
       "      <td>85600.953177</td>\n",
       "    </tr>\n",
       "    <tr>\n",
       "      <th>1999</th>\n",
       "      <td>96246.399423</td>\n",
       "    </tr>\n",
       "    <tr>\n",
       "      <th>2000</th>\n",
       "      <td>107768.774617</td>\n",
       "    </tr>\n",
       "    <tr>\n",
       "      <th>2001</th>\n",
       "      <td>119150.624796</td>\n",
       "    </tr>\n",
       "    <tr>\n",
       "      <th>2002</th>\n",
       "      <td>138220.464606</td>\n",
       "    </tr>\n",
       "    <tr>\n",
       "      <th>2003</th>\n",
       "      <td>156031.008289</td>\n",
       "    </tr>\n",
       "    <tr>\n",
       "      <th>2004</th>\n",
       "      <td>178874.453303</td>\n",
       "    </tr>\n",
       "    <tr>\n",
       "      <th>2005</th>\n",
       "      <td>189340.625574</td>\n",
       "    </tr>\n",
       "    <tr>\n",
       "      <th>2006</th>\n",
       "      <td>203517.568087</td>\n",
       "    </tr>\n",
       "    <tr>\n",
       "      <th>2007</th>\n",
       "      <td>219264.616092</td>\n",
       "    </tr>\n",
       "    <tr>\n",
       "      <th>2008</th>\n",
       "      <td>216667.669102</td>\n",
       "    </tr>\n",
       "    <tr>\n",
       "      <th>2009</th>\n",
       "      <td>213274.988185</td>\n",
       "    </tr>\n",
       "    <tr>\n",
       "      <th>2010</th>\n",
       "      <td>235658.182692</td>\n",
       "    </tr>\n",
       "    <tr>\n",
       "      <th>2011</th>\n",
       "      <td>232301.820956</td>\n",
       "    </tr>\n",
       "    <tr>\n",
       "      <th>2012</th>\n",
       "      <td>237190.841801</td>\n",
       "    </tr>\n",
       "    <tr>\n",
       "      <th>2013</th>\n",
       "      <td>248656.489709</td>\n",
       "    </tr>\n",
       "    <tr>\n",
       "      <th>2014</th>\n",
       "      <td>264373.348433</td>\n",
       "    </tr>\n",
       "    <tr>\n",
       "      <th>2015</th>\n",
       "      <td>278943.596248</td>\n",
       "    </tr>\n",
       "    <tr>\n",
       "      <th>2016</th>\n",
       "      <td>293530.762127</td>\n",
       "    </tr>\n",
       "    <tr>\n",
       "      <th>2017</th>\n",
       "      <td>311452.471704</td>\n",
       "    </tr>\n",
       "    <tr>\n",
       "      <th>2018</th>\n",
       "      <td>312574.391399</td>\n",
       "    </tr>\n",
       "    <tr>\n",
       "      <th>2019</th>\n",
       "      <td>314694.474624</td>\n",
       "    </tr>\n",
       "    <tr>\n",
       "      <th>2020</th>\n",
       "      <td>337685.943449</td>\n",
       "    </tr>\n",
       "    <tr>\n",
       "      <th>2021</th>\n",
       "      <td>355061.123900</td>\n",
       "    </tr>\n",
       "    <tr>\n",
       "      <th>2022</th>\n",
       "      <td>370824.366793</td>\n",
       "    </tr>\n",
       "    <tr>\n",
       "      <th>2023</th>\n",
       "      <td>352009.330278</td>\n",
       "    </tr>\n",
       "  </tbody>\n",
       "</table>\n",
       "</div>"
      ],
      "text/plain": [
       "              price\n",
       "year               \n",
       "1995   68336.267859\n",
       "1996   71923.786623\n",
       "1997   78900.077698\n",
       "1998   85600.953177\n",
       "1999   96246.399423\n",
       "2000  107768.774617\n",
       "2001  119150.624796\n",
       "2002  138220.464606\n",
       "2003  156031.008289\n",
       "2004  178874.453303\n",
       "2005  189340.625574\n",
       "2006  203517.568087\n",
       "2007  219264.616092\n",
       "2008  216667.669102\n",
       "2009  213274.988185\n",
       "2010  235658.182692\n",
       "2011  232301.820956\n",
       "2012  237190.841801\n",
       "2013  248656.489709\n",
       "2014  264373.348433\n",
       "2015  278943.596248\n",
       "2016  293530.762127\n",
       "2017  311452.471704\n",
       "2018  312574.391399\n",
       "2019  314694.474624\n",
       "2020  337685.943449\n",
       "2021  355061.123900\n",
       "2022  370824.366793\n",
       "2023  352009.330278"
      ]
     },
     "execution_count": 20,
     "metadata": {},
     "output_type": "execute_result"
    }
   ],
   "source": [
    "df[~((round(df.price)<=10000)|(round(df.price)>=10000000))].groupby(['year']).agg({'price':'mean'})"
   ]
  },
  {
   "cell_type": "code",
   "execution_count": 21,
   "id": "2e5cebe9",
   "metadata": {},
   "outputs": [
    {
     "data": {
      "text/plain": [
       "<Axes: xlabel='year'>"
      ]
     },
     "execution_count": 21,
     "metadata": {},
     "output_type": "execute_result"
    },
    {
     "data": {
      "image/png": "[encoded data removed]",
      "text/plain": [
       "<Figure size 640x480 with 1 Axes>"
      ]
     },
     "metadata": {},
     "output_type": "display_data"
    }
   ],
   "source": [
    "df[~((round(df.price)<=10000)|(round(df.price)>=10000000))].groupby(['year']).agg({'price':'mean'}).plot(kind='line')"
   ]
  },
  {
   "cell_type": "code",
   "execution_count": 22,
   "id": "8bb3cf9f",
   "metadata": {},
   "outputs": [
    {
     "name": "stdout",
     "output_type": "stream",
     "text": [
      "(6474632, 17)\n",
      "(7688632, 17)\n",
      "(9092500, 17)\n",
      "(4986399, 17)\n"
     ]
    }
   ],
   "source": [
    "print(df[((round(df.price)>=5000)&(round(df.price)<80000))].shape) # Base low\n",
    "print(df[((round(df.price)>=80000)&(round(df.price)<150000))].shape) # Low\n",
    "print(df[((round(df.price)>=150000)&(round(df.price)<300000))].shape) # Moderate\n",
    "print(df[((round(df.price)>=300000)&(round(df.price)<=10000000))].shape) # High"
   ]
  },
  {
   "cell_type": "code",
   "execution_count": 23,
   "id": "9b85f33d",
   "metadata": {},
   "outputs": [
    {
     "name": "stdout",
     "output_type": "stream",
     "text": [
      "0.22929627364409141\n",
      "0.27228955514702885\n",
      "0.3220069292137223\n",
      "0.17659114982946117\n"
     ]
    }
   ],
   "source": [
    "print(6474632/len(df[~((round(df.price)<=5000)|(round(df.price)>=10000000))])) # \n",
    "print(7688632/len(df[~((round(df.price)<=5000)|(round(df.price)>=10000000))]))\n",
    "print(9092500/len(df[~((round(df.price)<=5000)|(round(df.price)>=10000000))]))\n",
    "print(4986399/len(df[~((round(df.price)<=5000)|(round(df.price)>=10000000))]))"
   ]
  },
  {
   "cell_type": "code",
   "execution_count": 24,
   "id": "7092afe7",
   "metadata": {},
   "outputs": [
    {
     "data": {
      "text/html": [
       "<div>\n",
       "<style scoped>\n",
       "    .dataframe tbody tr th:only-of-type {\n",
       "        vertical-align: middle;\n",
       "    }\n",
       "\n",
       "    .dataframe tbody tr th {\n",
       "        vertical-align: top;\n",
       "    }\n",
       "\n",
       "    .dataframe thead th {\n",
       "        text-align: right;\n",
       "    }\n",
       "</style>\n",
       "<table border=\"1\" class=\"dataframe\">\n",
       "  <thead>\n",
       "    <tr style=\"text-align: right;\">\n",
       "      <th></th>\n",
       "      <th>price</th>\n",
       "    </tr>\n",
       "    <tr>\n",
       "      <th>year</th>\n",
       "      <th></th>\n",
       "    </tr>\n",
       "  </thead>\n",
       "  <tbody>\n",
       "    <tr>\n",
       "      <th>1995</th>\n",
       "      <td>10001</td>\n",
       "    </tr>\n",
       "    <tr>\n",
       "      <th>1996</th>\n",
       "      <td>10025</td>\n",
       "    </tr>\n",
       "    <tr>\n",
       "      <th>1997</th>\n",
       "      <td>10001</td>\n",
       "    </tr>\n",
       "    <tr>\n",
       "      <th>1998</th>\n",
       "      <td>10025</td>\n",
       "    </tr>\n",
       "    <tr>\n",
       "      <th>1999</th>\n",
       "      <td>10001</td>\n",
       "    </tr>\n",
       "    <tr>\n",
       "      <th>2000</th>\n",
       "      <td>10001</td>\n",
       "    </tr>\n",
       "    <tr>\n",
       "      <th>2001</th>\n",
       "      <td>10030</td>\n",
       "    </tr>\n",
       "    <tr>\n",
       "      <th>2002</th>\n",
       "      <td>10001</td>\n",
       "    </tr>\n",
       "    <tr>\n",
       "      <th>2003</th>\n",
       "      <td>10080</td>\n",
       "    </tr>\n",
       "    <tr>\n",
       "      <th>2004</th>\n",
       "      <td>10013</td>\n",
       "    </tr>\n",
       "    <tr>\n",
       "      <th>2005</th>\n",
       "      <td>10040</td>\n",
       "    </tr>\n",
       "    <tr>\n",
       "      <th>2006</th>\n",
       "      <td>10090</td>\n",
       "    </tr>\n",
       "    <tr>\n",
       "      <th>2007</th>\n",
       "      <td>10100</td>\n",
       "    </tr>\n",
       "    <tr>\n",
       "      <th>2008</th>\n",
       "      <td>10055</td>\n",
       "    </tr>\n",
       "    <tr>\n",
       "      <th>2009</th>\n",
       "      <td>10300</td>\n",
       "    </tr>\n",
       "    <tr>\n",
       "      <th>2010</th>\n",
       "      <td>10500</td>\n",
       "    </tr>\n",
       "    <tr>\n",
       "      <th>2011</th>\n",
       "      <td>10050</td>\n",
       "    </tr>\n",
       "    <tr>\n",
       "      <th>2012</th>\n",
       "      <td>10200</td>\n",
       "    </tr>\n",
       "    <tr>\n",
       "      <th>2013</th>\n",
       "      <td>10250</td>\n",
       "    </tr>\n",
       "    <tr>\n",
       "      <th>2014</th>\n",
       "      <td>10234</td>\n",
       "    </tr>\n",
       "    <tr>\n",
       "      <th>2015</th>\n",
       "      <td>10039</td>\n",
       "    </tr>\n",
       "    <tr>\n",
       "      <th>2016</th>\n",
       "      <td>10039</td>\n",
       "    </tr>\n",
       "    <tr>\n",
       "      <th>2017</th>\n",
       "      <td>10001</td>\n",
       "    </tr>\n",
       "    <tr>\n",
       "      <th>2018</th>\n",
       "      <td>10011</td>\n",
       "    </tr>\n",
       "    <tr>\n",
       "      <th>2019</th>\n",
       "      <td>10100</td>\n",
       "    </tr>\n",
       "    <tr>\n",
       "      <th>2020</th>\n",
       "      <td>10125</td>\n",
       "    </tr>\n",
       "    <tr>\n",
       "      <th>2021</th>\n",
       "      <td>10001</td>\n",
       "    </tr>\n",
       "    <tr>\n",
       "      <th>2022</th>\n",
       "      <td>10075</td>\n",
       "    </tr>\n",
       "    <tr>\n",
       "      <th>2023</th>\n",
       "      <td>10500</td>\n",
       "    </tr>\n",
       "  </tbody>\n",
       "</table>\n",
       "</div>"
      ],
      "text/plain": [
       "      price\n",
       "year       \n",
       "1995  10001\n",
       "1996  10025\n",
       "1997  10001\n",
       "1998  10025\n",
       "1999  10001\n",
       "2000  10001\n",
       "2001  10030\n",
       "2002  10001\n",
       "2003  10080\n",
       "2004  10013\n",
       "2005  10040\n",
       "2006  10090\n",
       "2007  10100\n",
       "2008  10055\n",
       "2009  10300\n",
       "2010  10500\n",
       "2011  10050\n",
       "2012  10200\n",
       "2013  10250\n",
       "2014  10234\n",
       "2015  10039\n",
       "2016  10039\n",
       "2017  10001\n",
       "2018  10011\n",
       "2019  10100\n",
       "2020  10125\n",
       "2021  10001\n",
       "2022  10075\n",
       "2023  10500"
      ]
     },
     "execution_count": 24,
     "metadata": {},
     "output_type": "execute_result"
    }
   ],
   "source": [
    "df[~((round(df.price)<=10000)|(round(df.price)>=10000000))].groupby(['year']).agg({'price':'min'})"
   ]
  },
  {
   "cell_type": "code",
   "execution_count": 27,
   "id": "e4054674",
   "metadata": {},
   "outputs": [
    {
     "data": {
      "text/html": [
       "<div>\n",
       "<style scoped>\n",
       "    .dataframe tbody tr th:only-of-type {\n",
       "        vertical-align: middle;\n",
       "    }\n",
       "\n",
       "    .dataframe tbody tr th {\n",
       "        vertical-align: top;\n",
       "    }\n",
       "\n",
       "    .dataframe thead th {\n",
       "        text-align: right;\n",
       "    }\n",
       "</style>\n",
       "<table border=\"1\" class=\"dataframe\">\n",
       "  <thead>\n",
       "    <tr style=\"text-align: right;\">\n",
       "      <th></th>\n",
       "      <th>Transaction_unique_identifier</th>\n",
       "      <th>price</th>\n",
       "      <th>Date_of_Transfer</th>\n",
       "      <th>postcode</th>\n",
       "      <th>Property_Type</th>\n",
       "      <th>Old/New</th>\n",
       "      <th>Duration</th>\n",
       "      <th>PAON</th>\n",
       "      <th>SAON</th>\n",
       "      <th>Street</th>\n",
       "      <th>Locality</th>\n",
       "      <th>Town/City</th>\n",
       "      <th>District</th>\n",
       "      <th>County</th>\n",
       "      <th>PPDCategory_Type</th>\n",
       "      <th>Record_Status - monthly_file_only</th>\n",
       "      <th>year</th>\n",
       "    </tr>\n",
       "  </thead>\n",
       "  <tbody>\n",
       "    <tr>\n",
       "      <th>0</th>\n",
       "      <td>{40FD4DF2-5362-407C-92BC-566E2CCE89E9}</td>\n",
       "      <td>44500</td>\n",
       "      <td>1995-02-03</td>\n",
       "      <td>SR6 0AQ</td>\n",
       "      <td>T</td>\n",
       "      <td>N</td>\n",
       "      <td>F</td>\n",
       "      <td>50</td>\n",
       "      <td>None</td>\n",
       "      <td>HOWICK PARK</td>\n",
       "      <td>SUNDERLAND</td>\n",
       "      <td>SUNDERLAND</td>\n",
       "      <td>SUNDERLAND</td>\n",
       "      <td>TYNE AND WEAR</td>\n",
       "      <td>A</td>\n",
       "      <td>A</td>\n",
       "      <td>1995</td>\n",
       "    </tr>\n",
       "    <tr>\n",
       "      <th>1</th>\n",
       "      <td>{7A99F89E-7D81-4E45-ABD5-566E49A045EA}</td>\n",
       "      <td>56500</td>\n",
       "      <td>1995-01-13</td>\n",
       "      <td>CO6 1SQ</td>\n",
       "      <td>T</td>\n",
       "      <td>N</td>\n",
       "      <td>F</td>\n",
       "      <td>19</td>\n",
       "      <td>None</td>\n",
       "      <td>BRICK KILN CLOSE</td>\n",
       "      <td>COGGESHALL</td>\n",
       "      <td>COLCHESTER</td>\n",
       "      <td>BRAINTREE</td>\n",
       "      <td>ESSEX</td>\n",
       "      <td>A</td>\n",
       "      <td>A</td>\n",
       "      <td>1995</td>\n",
       "    </tr>\n",
       "    <tr>\n",
       "      <th>2</th>\n",
       "      <td>{28225260-E61C-4E57-8B56-566E5285B1C1}</td>\n",
       "      <td>58000</td>\n",
       "      <td>1995-07-28</td>\n",
       "      <td>B90 4TG</td>\n",
       "      <td>T</td>\n",
       "      <td>N</td>\n",
       "      <td>F</td>\n",
       "      <td>37</td>\n",
       "      <td>None</td>\n",
       "      <td>RAINSBROOK DRIVE</td>\n",
       "      <td>SHIRLEY</td>\n",
       "      <td>SOLIHULL</td>\n",
       "      <td>SOLIHULL</td>\n",
       "      <td>WEST MIDLANDS</td>\n",
       "      <td>A</td>\n",
       "      <td>A</td>\n",
       "      <td>1995</td>\n",
       "    </tr>\n",
       "    <tr>\n",
       "      <th>3</th>\n",
       "      <td>{444D34D7-9BA6-43A7-B695-4F48980E0176}</td>\n",
       "      <td>51000</td>\n",
       "      <td>1995-06-28</td>\n",
       "      <td>DY5 1SA</td>\n",
       "      <td>S</td>\n",
       "      <td>N</td>\n",
       "      <td>F</td>\n",
       "      <td>59</td>\n",
       "      <td>None</td>\n",
       "      <td>MERRY HILL</td>\n",
       "      <td>BRIERLEY HILL</td>\n",
       "      <td>BRIERLEY HILL</td>\n",
       "      <td>DUDLEY</td>\n",
       "      <td>WEST MIDLANDS</td>\n",
       "      <td>A</td>\n",
       "      <td>A</td>\n",
       "      <td>1995</td>\n",
       "    </tr>\n",
       "    <tr>\n",
       "      <th>4</th>\n",
       "      <td>{AE76CAF1-F8CC-43F9-8F63-4F48A2857D41}</td>\n",
       "      <td>17000</td>\n",
       "      <td>1995-03-10</td>\n",
       "      <td>S65 1QJ</td>\n",
       "      <td>T</td>\n",
       "      <td>N</td>\n",
       "      <td>L</td>\n",
       "      <td>22</td>\n",
       "      <td>None</td>\n",
       "      <td>DENMAN STREET</td>\n",
       "      <td>ROTHERHAM</td>\n",
       "      <td>ROTHERHAM</td>\n",
       "      <td>ROTHERHAM</td>\n",
       "      <td>SOUTH YORKSHIRE</td>\n",
       "      <td>A</td>\n",
       "      <td>A</td>\n",
       "      <td>1995</td>\n",
       "    </tr>\n",
       "  </tbody>\n",
       "</table>\n",
       "</div>"
      ],
      "text/plain": [
       "            Transaction_unique_identifier  price Date_of_Transfer postcode  \\\n",
       "0  {40FD4DF2-5362-407C-92BC-566E2CCE89E9}  44500       1995-02-03  SR6 0AQ   \n",
       "1  {7A99F89E-7D81-4E45-ABD5-566E49A045EA}  56500       1995-01-13  CO6 1SQ   \n",
       "2  {28225260-E61C-4E57-8B56-566E5285B1C1}  58000       1995-07-28  B90 4TG   \n",
       "3  {444D34D7-9BA6-43A7-B695-4F48980E0176}  51000       1995-06-28  DY5 1SA   \n",
       "4  {AE76CAF1-F8CC-43F9-8F63-4F48A2857D41}  17000       1995-03-10  S65 1QJ   \n",
       "\n",
       "  Property_Type Old/New Duration PAON  SAON            Street       Locality  \\\n",
       "0             T       N        F   50  None       HOWICK PARK     SUNDERLAND   \n",
       "1             T       N        F   19  None  BRICK KILN CLOSE     COGGESHALL   \n",
       "2             T       N        F   37  None  RAINSBROOK DRIVE        SHIRLEY   \n",
       "3             S       N        F   59  None        MERRY HILL  BRIERLEY HILL   \n",
       "4             T       N        L   22  None     DENMAN STREET      ROTHERHAM   \n",
       "\n",
       "       Town/City    District           County PPDCategory_Type  \\\n",
       "0     SUNDERLAND  SUNDERLAND    TYNE AND WEAR                A   \n",
       "1     COLCHESTER   BRAINTREE            ESSEX                A   \n",
       "2       SOLIHULL    SOLIHULL    WEST MIDLANDS                A   \n",
       "3  BRIERLEY HILL      DUDLEY    WEST MIDLANDS                A   \n",
       "4      ROTHERHAM   ROTHERHAM  SOUTH YORKSHIRE                A   \n",
       "\n",
       "  Record_Status - monthly_file_only  year  \n",
       "0                                 A  1995  \n",
       "1                                 A  1995  \n",
       "2                                 A  1995  \n",
       "3                                 A  1995  \n",
       "4                                 A  1995  "
      ]
     },
     "execution_count": 27,
     "metadata": {},
     "output_type": "execute_result"
    }
   ],
   "source": [
    "df.head()"
   ]
  },
  {
   "cell_type": "code",
   "execution_count": 28,
   "id": "0504afff",
   "metadata": {},
   "outputs": [],
   "source": [
    "df.loc[df.index[((round(df.price)>=5000)&(round(df.price)<80000))],'Flag']= 'Base'\n",
    "df.loc[ddff.index[((round(df.price)>=80000)&(round(df.price)<150000))],'Flag']= 'Low' # Low\n",
    "df.loc[df.index[((round(df.price)>=150000)&(round(df.price)<300000))],'Flag']= 'Moderate' # Moderate\n",
    "df.loc[df.index[((round(df.price)>=300000)&(round(df.price)<=10000000))],'Flag']= 'High' # High"
   ]
  },
  {
   "cell_type": "code",
   "execution_count": 30,
   "id": "e1b1016c",
   "metadata": {},
   "outputs": [
    {
     "data": {
      "text/plain": [
       "Moderate    9092500\n",
       "Low         7688632\n",
       "Base        6474632\n",
       "High        4986399\n",
       "NaN           34055\n",
       "Name: Flag, dtype: int64"
      ]
     },
     "execution_count": 30,
     "metadata": {},
     "output_type": "execute_result"
    }
   ],
   "source": [
    "df.Flag.value_counts(dropna=False)"
   ]
  },
  {
   "cell_type": "code",
   "execution_count": 31,
   "id": "bc3d57d2",
   "metadata": {},
   "outputs": [
    {
     "data": {
      "text/html": [
       "<div>\n",
       "<style scoped>\n",
       "    .dataframe tbody tr th:only-of-type {\n",
       "        vertical-align: middle;\n",
       "    }\n",
       "\n",
       "    .dataframe tbody tr th {\n",
       "        vertical-align: top;\n",
       "    }\n",
       "\n",
       "    .dataframe thead th {\n",
       "        text-align: right;\n",
       "    }\n",
       "</style>\n",
       "<table border=\"1\" class=\"dataframe\">\n",
       "  <thead>\n",
       "    <tr style=\"text-align: right;\">\n",
       "      <th></th>\n",
       "      <th>Transaction_unique_identifier</th>\n",
       "      <th>price</th>\n",
       "      <th>Date_of_Transfer</th>\n",
       "      <th>postcode</th>\n",
       "      <th>Property_Type</th>\n",
       "      <th>Old/New</th>\n",
       "      <th>Duration</th>\n",
       "      <th>PAON</th>\n",
       "      <th>SAON</th>\n",
       "      <th>Street</th>\n",
       "      <th>Locality</th>\n",
       "      <th>Town/City</th>\n",
       "      <th>District</th>\n",
       "      <th>County</th>\n",
       "      <th>PPDCategory_Type</th>\n",
       "      <th>Record_Status - monthly_file_only</th>\n",
       "      <th>year</th>\n",
       "      <th>Flag</th>\n",
       "    </tr>\n",
       "  </thead>\n",
       "  <tbody>\n",
       "    <tr>\n",
       "      <th>249</th>\n",
       "      <td>{2A289E9F-91C4-CDC8-E050-A8C063054829}</td>\n",
       "      <td>1700</td>\n",
       "      <td>1995-01-10</td>\n",
       "      <td>CT6 6BP</td>\n",
       "      <td>T</td>\n",
       "      <td>N</td>\n",
       "      <td>F</td>\n",
       "      <td>16</td>\n",
       "      <td>None</td>\n",
       "      <td>TYNDALE PARK</td>\n",
       "      <td>None</td>\n",
       "      <td>HERNE BAY</td>\n",
       "      <td>CANTERBURY</td>\n",
       "      <td>KENT</td>\n",
       "      <td>A</td>\n",
       "      <td>A</td>\n",
       "      <td>1995</td>\n",
       "      <td>NaN</td>\n",
       "    </tr>\n",
       "    <tr>\n",
       "      <th>280</th>\n",
       "      <td>{2A289E9F-A531-CDC8-E050-A8C063054829}</td>\n",
       "      <td>4000</td>\n",
       "      <td>1995-12-12</td>\n",
       "      <td>GL50 4JU</td>\n",
       "      <td>T</td>\n",
       "      <td>N</td>\n",
       "      <td>F</td>\n",
       "      <td>11</td>\n",
       "      <td>None</td>\n",
       "      <td>WELLINGTON SQUARE</td>\n",
       "      <td>None</td>\n",
       "      <td>CHELTENHAM</td>\n",
       "      <td>CHELTENHAM</td>\n",
       "      <td>GLOUCESTERSHIRE</td>\n",
       "      <td>A</td>\n",
       "      <td>A</td>\n",
       "      <td>1995</td>\n",
       "      <td>NaN</td>\n",
       "    </tr>\n",
       "    <tr>\n",
       "      <th>634</th>\n",
       "      <td>{2A289E9F-CA36-CDC8-E050-A8C063054829}</td>\n",
       "      <td>800</td>\n",
       "      <td>1995-12-29</td>\n",
       "      <td>W5 3NY</td>\n",
       "      <td>S</td>\n",
       "      <td>N</td>\n",
       "      <td>F</td>\n",
       "      <td>28</td>\n",
       "      <td>None</td>\n",
       "      <td>WOODGRANGE AVENUE</td>\n",
       "      <td>None</td>\n",
       "      <td>LONDON</td>\n",
       "      <td>EALING</td>\n",
       "      <td>GREATER LONDON</td>\n",
       "      <td>A</td>\n",
       "      <td>A</td>\n",
       "      <td>1995</td>\n",
       "      <td>NaN</td>\n",
       "    </tr>\n",
       "    <tr>\n",
       "      <th>657</th>\n",
       "      <td>{2A289E9F-DC99-CDC8-E050-A8C063054829}</td>\n",
       "      <td>2750</td>\n",
       "      <td>1995-12-20</td>\n",
       "      <td>IG3 8XB</td>\n",
       "      <td>F</td>\n",
       "      <td>N</td>\n",
       "      <td>F</td>\n",
       "      <td>6</td>\n",
       "      <td>None</td>\n",
       "      <td>EASTWOOD ROAD</td>\n",
       "      <td>None</td>\n",
       "      <td>ILFORD</td>\n",
       "      <td>REDBRIDGE</td>\n",
       "      <td>GREATER LONDON</td>\n",
       "      <td>A</td>\n",
       "      <td>A</td>\n",
       "      <td>1995</td>\n",
       "      <td>NaN</td>\n",
       "    </tr>\n",
       "    <tr>\n",
       "      <th>662</th>\n",
       "      <td>{2A289E9F-DCD5-CDC8-E050-A8C063054829}</td>\n",
       "      <td>800</td>\n",
       "      <td>1995-10-20</td>\n",
       "      <td>L12 0JX</td>\n",
       "      <td>T</td>\n",
       "      <td>N</td>\n",
       "      <td>F</td>\n",
       "      <td>26</td>\n",
       "      <td>None</td>\n",
       "      <td>CROMPTON DRIVE</td>\n",
       "      <td>None</td>\n",
       "      <td>LIVERPOOL</td>\n",
       "      <td>LIVERPOOL</td>\n",
       "      <td>MERSEYSIDE</td>\n",
       "      <td>A</td>\n",
       "      <td>A</td>\n",
       "      <td>1995</td>\n",
       "      <td>NaN</td>\n",
       "    </tr>\n",
       "  </tbody>\n",
       "</table>\n",
       "</div>"
      ],
      "text/plain": [
       "              Transaction_unique_identifier  price Date_of_Transfer  postcode  \\\n",
       "249  {2A289E9F-91C4-CDC8-E050-A8C063054829}   1700       1995-01-10   CT6 6BP   \n",
       "280  {2A289E9F-A531-CDC8-E050-A8C063054829}   4000       1995-12-12  GL50 4JU   \n",
       "634  {2A289E9F-CA36-CDC8-E050-A8C063054829}    800       1995-12-29    W5 3NY   \n",
       "657  {2A289E9F-DC99-CDC8-E050-A8C063054829}   2750       1995-12-20   IG3 8XB   \n",
       "662  {2A289E9F-DCD5-CDC8-E050-A8C063054829}    800       1995-10-20   L12 0JX   \n",
       "\n",
       "    Property_Type Old/New Duration PAON  SAON             Street Locality  \\\n",
       "249             T       N        F   16  None       TYNDALE PARK     None   \n",
       "280             T       N        F   11  None  WELLINGTON SQUARE     None   \n",
       "634             S       N        F   28  None  WOODGRANGE AVENUE     None   \n",
       "657             F       N        F    6  None      EASTWOOD ROAD     None   \n",
       "662             T       N        F   26  None     CROMPTON DRIVE     None   \n",
       "\n",
       "      Town/City    District           County PPDCategory_Type  \\\n",
       "249   HERNE BAY  CANTERBURY             KENT                A   \n",
       "280  CHELTENHAM  CHELTENHAM  GLOUCESTERSHIRE                A   \n",
       "634      LONDON      EALING   GREATER LONDON                A   \n",
       "657      ILFORD   REDBRIDGE   GREATER LONDON                A   \n",
       "662   LIVERPOOL   LIVERPOOL       MERSEYSIDE                A   \n",
       "\n",
       "    Record_Status - monthly_file_only  year Flag  \n",
       "249                                 A  1995  NaN  \n",
       "280                                 A  1995  NaN  \n",
       "634                                 A  1995  NaN  \n",
       "657                                 A  1995  NaN  \n",
       "662                                 A  1995  NaN  "
      ]
     },
     "execution_count": 31,
     "metadata": {},
     "output_type": "execute_result"
    }
   ],
   "source": [
    "df[df.Flag.isnull()].head()"
   ]
  },
  {
   "cell_type": "code",
   "execution_count": 32,
   "id": "eff35bf3",
   "metadata": {},
   "outputs": [
    {
     "name": "stdout",
     "output_type": "stream",
     "text": [
      "(28276218, 18)\n",
      "(28242163, 18)\n"
     ]
    }
   ],
   "source": [
    "print(df.shape)\n",
    "dfwithoutNaN = df.dropna(subset=['Flag'])\n",
    "print(dfwithoutNaN.shape)"
   ]
  },
  {
   "cell_type": "code",
   "execution_count": 34,
   "id": "1220f699",
   "metadata": {},
   "outputs": [
    {
     "data": {
      "text/plain": [
       "Moderate    9092500\n",
       "Low         7688632\n",
       "Base        6474632\n",
       "High        4986399\n",
       "Name: Flag, dtype: int64"
      ]
     },
     "execution_count": 34,
     "metadata": {},
     "output_type": "execute_result"
    }
   ],
   "source": [
    "dfwithoutNaN.Flag.value_counts(dropna=False)"
   ]
  },
  {
   "cell_type": "code",
   "execution_count": 39,
   "id": "322edcc0",
   "metadata": {},
   "outputs": [
    {
     "data": {
      "image/png": "[encoded data removed]",
      "text/plain": [
       "<Figure size 800x800 with 1 Axes>"
      ]
     },
     "metadata": {},
     "output_type": "display_data"
    }
   ],
   "source": [
    "\n",
    "labels = df['Flag']. astype('category').cat.categories. tolist()\n",
    "counts = df['Flag']. value_counts()\n",
    "sizes = [counts[var_cat] for var_cat in labels]\n",
    "figi, ax1 = plt. subplots (figsize = (8,8))\n",
    "ax1. pie(sizes, labels=labels, autopct='%1.1f%%', shadow=True)\n",
    "ax1. axis ('equal')\n",
    "plt. show()"
   ]
  },
  {
   "cell_type": "code",
   "execution_count": null,
   "id": "9e596049",
   "metadata": {},
   "outputs": [],
   "source": []
  }
 ],
 "metadata": {
  "kernelspec": {
   "display_name": "Python 3 (ipykernel)",
   "language": "python",
   "name": "python3"
  },
  "language_info": {
   "codemirror_mode": {
    "name": "ipython",
    "version": 3
   },
   "file_extension": ".py",
   "mimetype": "text/x-python",
   "name": "python",
   "nbconvert_exporter": "python",
   "pygments_lexer": "ipython3",
   "version": "3.11.4"
  }
 },
 "nbformat": 4,
 "nbformat_minor": 5
}
