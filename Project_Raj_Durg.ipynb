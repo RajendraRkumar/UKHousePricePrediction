{
 "cells": [
  {
   "cell_type": "code",
   "execution_count": 1,
   "id": "864e490a-2bd3-4a93-83ec-811b6a509bd3",
   "metadata": {
    "id": "864e490a-2bd3-4a93-83ec-811b6a509bd3"
   },
   "outputs": [],
   "source": [
    "import pandas as pd\n",
    "import numpy as np\n",
    "\n",
    "import matplotlib.pyplot as plt\n",
    "from matplotlib.patches import Polygon\n",
    "%matplotlib inline\n",
    "\n",
    "pd.set_option('display.max_columns', None)\n",
    "pd.set_option('display.max_rows', None)"
   ]
  },
  {
   "cell_type": "code",
   "execution_count": 2,
   "id": "SgPTaNQ6vJiR",
   "metadata": {
    "colab": {
     "base_uri": "https://localhost:8080/"
    },
    "id": "SgPTaNQ6vJiR",
    "outputId": "960d02a6-46a4-48ba-b41d-06e1a3eb2940"
   },
   "outputs": [],
   "source": [
    "from google.colab import drive\n",
    "drive.mount('/content/drive')"
   ]
  },
  {
   "cell_type": "code",
   "execution_count": 3,
   "id": "T5KklZ-CvaAQ",
   "metadata": {
    "colab": {
     "base_uri": "https://localhost:8080/"
    },
    "id": "T5KklZ-CvaAQ",
    "outputId": "a8bf44a2-b816-48f3-8354-66589bba0def"
   },
   "outputs": [],
   "source": [
    "%cd /content/drive/My Drive/Colab Notebooks/"
   ]
  },
  {
   "cell_type": "code",
   "execution_count": 5,
   "id": "823d255e-7a2c-4ef7-bd41-7cecbcb8294d",
   "metadata": {
    "colab": {
     "base_uri": "https://localhost:8080/",
     "height": 330
    },
    "id": "823d255e-7a2c-4ef7-bd41-7cecbcb8294d",
    "outputId": "e60c2fca-ddcf-45fa-c719-f5ee104e910f"
   },
   "outputs": [
    {
     "data": {
      "text/html": [
       "<div>\n",
       "<style scoped>\n",
       "    .dataframe tbody tr th:only-of-type {\n",
       "        vertical-align: middle;\n",
       "    }\n",
       "\n",
       "    .dataframe tbody tr th {\n",
       "        vertical-align: top;\n",
       "    }\n",
       "\n",
       "    .dataframe thead th {\n",
       "        text-align: right;\n",
       "    }\n",
       "</style>\n",
       "<table border=\"1\" class=\"dataframe\">\n",
       "  <thead>\n",
       "    <tr style=\"text-align: right;\">\n",
       "      <th></th>\n",
       "      <th>Transaction_unique_identifier</th>\n",
       "      <th>price</th>\n",
       "      <th>Date_of_Transfer</th>\n",
       "      <th>postcode</th>\n",
       "      <th>Property_Type</th>\n",
       "      <th>Old/New</th>\n",
       "      <th>Duration</th>\n",
       "      <th>PAON</th>\n",
       "      <th>SAON</th>\n",
       "      <th>Street</th>\n",
       "      <th>Locality</th>\n",
       "      <th>Town/City</th>\n",
       "      <th>District</th>\n",
       "      <th>County</th>\n",
       "      <th>PPDCategory_Type</th>\n",
       "      <th>Record_Status - monthly_file_only</th>\n",
       "    </tr>\n",
       "  </thead>\n",
       "  <tbody>\n",
       "    <tr>\n",
       "      <th>0</th>\n",
       "      <td>{40FD4DF2-5362-407C-92BC-566E2CCE89E9}</td>\n",
       "      <td>44500</td>\n",
       "      <td>1995-02-03 00:00</td>\n",
       "      <td>SR6 0AQ</td>\n",
       "      <td>T</td>\n",
       "      <td>N</td>\n",
       "      <td>F</td>\n",
       "      <td>50</td>\n",
       "      <td>None</td>\n",
       "      <td>HOWICK PARK</td>\n",
       "      <td>SUNDERLAND</td>\n",
       "      <td>SUNDERLAND</td>\n",
       "      <td>SUNDERLAND</td>\n",
       "      <td>TYNE AND WEAR</td>\n",
       "      <td>A</td>\n",
       "      <td>A</td>\n",
       "    </tr>\n",
       "    <tr>\n",
       "      <th>1</th>\n",
       "      <td>{7A99F89E-7D81-4E45-ABD5-566E49A045EA}</td>\n",
       "      <td>56500</td>\n",
       "      <td>1995-01-13 00:00</td>\n",
       "      <td>CO6 1SQ</td>\n",
       "      <td>T</td>\n",
       "      <td>N</td>\n",
       "      <td>F</td>\n",
       "      <td>19</td>\n",
       "      <td>None</td>\n",
       "      <td>BRICK KILN CLOSE</td>\n",
       "      <td>COGGESHALL</td>\n",
       "      <td>COLCHESTER</td>\n",
       "      <td>BRAINTREE</td>\n",
       "      <td>ESSEX</td>\n",
       "      <td>A</td>\n",
       "      <td>A</td>\n",
       "    </tr>\n",
       "    <tr>\n",
       "      <th>2</th>\n",
       "      <td>{28225260-E61C-4E57-8B56-566E5285B1C1}</td>\n",
       "      <td>58000</td>\n",
       "      <td>1995-07-28 00:00</td>\n",
       "      <td>B90 4TG</td>\n",
       "      <td>T</td>\n",
       "      <td>N</td>\n",
       "      <td>F</td>\n",
       "      <td>37</td>\n",
       "      <td>None</td>\n",
       "      <td>RAINSBROOK DRIVE</td>\n",
       "      <td>SHIRLEY</td>\n",
       "      <td>SOLIHULL</td>\n",
       "      <td>SOLIHULL</td>\n",
       "      <td>WEST MIDLANDS</td>\n",
       "      <td>A</td>\n",
       "      <td>A</td>\n",
       "    </tr>\n",
       "    <tr>\n",
       "      <th>3</th>\n",
       "      <td>{444D34D7-9BA6-43A7-B695-4F48980E0176}</td>\n",
       "      <td>51000</td>\n",
       "      <td>1995-06-28 00:00</td>\n",
       "      <td>DY5 1SA</td>\n",
       "      <td>S</td>\n",
       "      <td>N</td>\n",
       "      <td>F</td>\n",
       "      <td>59</td>\n",
       "      <td>None</td>\n",
       "      <td>MERRY HILL</td>\n",
       "      <td>BRIERLEY HILL</td>\n",
       "      <td>BRIERLEY HILL</td>\n",
       "      <td>DUDLEY</td>\n",
       "      <td>WEST MIDLANDS</td>\n",
       "      <td>A</td>\n",
       "      <td>A</td>\n",
       "    </tr>\n",
       "    <tr>\n",
       "      <th>4</th>\n",
       "      <td>{AE76CAF1-F8CC-43F9-8F63-4F48A2857D41}</td>\n",
       "      <td>17000</td>\n",
       "      <td>1995-03-10 00:00</td>\n",
       "      <td>S65 1QJ</td>\n",
       "      <td>T</td>\n",
       "      <td>N</td>\n",
       "      <td>L</td>\n",
       "      <td>22</td>\n",
       "      <td>None</td>\n",
       "      <td>DENMAN STREET</td>\n",
       "      <td>ROTHERHAM</td>\n",
       "      <td>ROTHERHAM</td>\n",
       "      <td>ROTHERHAM</td>\n",
       "      <td>SOUTH YORKSHIRE</td>\n",
       "      <td>A</td>\n",
       "      <td>A</td>\n",
       "    </tr>\n",
       "  </tbody>\n",
       "</table>\n",
       "</div>"
      ],
      "text/plain": [
       "            Transaction_unique_identifier  price  Date_of_Transfer postcode  \\\n",
       "0  {40FD4DF2-5362-407C-92BC-566E2CCE89E9}  44500  1995-02-03 00:00  SR6 0AQ   \n",
       "1  {7A99F89E-7D81-4E45-ABD5-566E49A045EA}  56500  1995-01-13 00:00  CO6 1SQ   \n",
       "2  {28225260-E61C-4E57-8B56-566E5285B1C1}  58000  1995-07-28 00:00  B90 4TG   \n",
       "3  {444D34D7-9BA6-43A7-B695-4F48980E0176}  51000  1995-06-28 00:00  DY5 1SA   \n",
       "4  {AE76CAF1-F8CC-43F9-8F63-4F48A2857D41}  17000  1995-03-10 00:00  S65 1QJ   \n",
       "\n",
       "  Property_Type Old/New Duration PAON  SAON            Street       Locality  \\\n",
       "0             T       N        F   50  None       HOWICK PARK     SUNDERLAND   \n",
       "1             T       N        F   19  None  BRICK KILN CLOSE     COGGESHALL   \n",
       "2             T       N        F   37  None  RAINSBROOK DRIVE        SHIRLEY   \n",
       "3             S       N        F   59  None        MERRY HILL  BRIERLEY HILL   \n",
       "4             T       N        L   22  None     DENMAN STREET      ROTHERHAM   \n",
       "\n",
       "       Town/City    District           County PPDCategory_Type  \\\n",
       "0     SUNDERLAND  SUNDERLAND    TYNE AND WEAR                A   \n",
       "1     COLCHESTER   BRAINTREE            ESSEX                A   \n",
       "2       SOLIHULL    SOLIHULL    WEST MIDLANDS                A   \n",
       "3  BRIERLEY HILL      DUDLEY    WEST MIDLANDS                A   \n",
       "4      ROTHERHAM   ROTHERHAM  SOUTH YORKSHIRE                A   \n",
       "\n",
       "  Record_Status - monthly_file_only  \n",
       "0                                 A  \n",
       "1                                 A  \n",
       "2                                 A  \n",
       "3                                 A  \n",
       "4                                 A  "
      ]
     },
     "execution_count": 5,
     "metadata": {},
     "output_type": "execute_result"
    }
   ],
   "source": [
    "#df = pd.read_parquet(r'/Users/ironfeast/Desktop/project/data/202304.parquet')\n",
    "df.head()"
   ]
  },
  {
   "cell_type": "code",
   "execution_count": 6,
   "id": "68b3d849",
   "metadata": {},
   "outputs": [],
   "source": [
    "df.Date_of_Transfer = pd.to_datetime(df.Date_of_Transfer)\n",
    "df = df.loc[df.index[(df.Date_of_Transfer.dt.year>=2015)&(df.Date_of_Transfer.dt.year<=2022)]].copy()\n",
    "df['year'] = df['Date_of_Transfer'].dt.year\n",
    "df['month'] = df['Date_of_Transfer'].dt.month"
   ]
  },
  {
   "cell_type": "code",
   "execution_count": 7,
   "id": "69f0682f",
   "metadata": {},
   "outputs": [],
   "source": [
    "def sample_data(data, fraction=0.15):\n",
    "    sampled_data = data.groupby(['year', 'month']).apply(lambda x: x.sample(frac=fraction))\n",
    "    return sampled_data\n",
    "sampling_fraction = 0.15"
   ]
  },
  {
   "cell_type": "code",
   "execution_count": 8,
   "id": "13743a88",
   "metadata": {},
   "outputs": [
    {
     "data": {
      "text/plain": [
       "(1219509, 18)"
      ]
     },
     "execution_count": 8,
     "metadata": {},
     "output_type": "execute_result"
    }
   ],
   "source": [
    "sampled_df = sample_data(df, fraction=sampling_fraction)\n",
    "sampled_df.shape"
   ]
  },
  {
   "cell_type": "code",
   "execution_count": 9,
   "id": "404ab350",
   "metadata": {},
   "outputs": [],
   "source": [
    "sampled_df.reset_index(drop=True,inplace=True)"
   ]
  },
  {
   "cell_type": "code",
   "execution_count": 10,
   "id": "4e2a4c96",
   "metadata": {},
   "outputs": [
    {
     "data": {
      "text/html": [
       "<div>\n",
       "<style scoped>\n",
       "    .dataframe tbody tr th:only-of-type {\n",
       "        vertical-align: middle;\n",
       "    }\n",
       "\n",
       "    .dataframe tbody tr th {\n",
       "        vertical-align: top;\n",
       "    }\n",
       "\n",
       "    .dataframe thead th {\n",
       "        text-align: right;\n",
       "    }\n",
       "</style>\n",
       "<table border=\"1\" class=\"dataframe\">\n",
       "  <thead>\n",
       "    <tr style=\"text-align: right;\">\n",
       "      <th></th>\n",
       "      <th>Transaction_unique_identifier</th>\n",
       "      <th>price</th>\n",
       "      <th>Date_of_Transfer</th>\n",
       "      <th>postcode</th>\n",
       "      <th>Property_Type</th>\n",
       "      <th>Old/New</th>\n",
       "      <th>Duration</th>\n",
       "      <th>PAON</th>\n",
       "      <th>SAON</th>\n",
       "      <th>Street</th>\n",
       "      <th>Locality</th>\n",
       "      <th>Town/City</th>\n",
       "      <th>District</th>\n",
       "      <th>County</th>\n",
       "      <th>PPDCategory_Type</th>\n",
       "      <th>Record_Status - monthly_file_only</th>\n",
       "      <th>year</th>\n",
       "      <th>month</th>\n",
       "    </tr>\n",
       "  </thead>\n",
       "  <tbody>\n",
       "    <tr>\n",
       "      <th>0</th>\n",
       "      <td>{A094FFB6-5590-4FBE-AE49-1C2B2C1C492D}</td>\n",
       "      <td>417000</td>\n",
       "      <td>2015-01-07</td>\n",
       "      <td>NG31 8NQ</td>\n",
       "      <td>D</td>\n",
       "      <td>N</td>\n",
       "      <td>F</td>\n",
       "      <td>34</td>\n",
       "      <td>None</td>\n",
       "      <td>LOW ROAD</td>\n",
       "      <td>MANTHORPE</td>\n",
       "      <td>GRANTHAM</td>\n",
       "      <td>SOUTH KESTEVEN</td>\n",
       "      <td>LINCOLNSHIRE</td>\n",
       "      <td>A</td>\n",
       "      <td>A</td>\n",
       "      <td>2015</td>\n",
       "      <td>1</td>\n",
       "    </tr>\n",
       "    <tr>\n",
       "      <th>1</th>\n",
       "      <td>{21E5FEB5-F732-2439-E050-A8C06205342E}</td>\n",
       "      <td>90000</td>\n",
       "      <td>2015-01-13</td>\n",
       "      <td>IG11 8LE</td>\n",
       "      <td>F</td>\n",
       "      <td>N</td>\n",
       "      <td>L</td>\n",
       "      <td>ASHDOWN COURT</td>\n",
       "      <td>FLAT 2</td>\n",
       "      <td>HARTS LANE</td>\n",
       "      <td>None</td>\n",
       "      <td>BARKING</td>\n",
       "      <td>BARKING AND DAGENHAM</td>\n",
       "      <td>GREATER LONDON</td>\n",
       "      <td>B</td>\n",
       "      <td>A</td>\n",
       "      <td>2015</td>\n",
       "      <td>1</td>\n",
       "    </tr>\n",
       "    <tr>\n",
       "      <th>2</th>\n",
       "      <td>{6C2DE40E-C33F-460D-9F2F-C146CCF456AA}</td>\n",
       "      <td>550000</td>\n",
       "      <td>2015-01-30</td>\n",
       "      <td>SE16 7TU</td>\n",
       "      <td>F</td>\n",
       "      <td>N</td>\n",
       "      <td>L</td>\n",
       "      <td>CABLE COURT, 357</td>\n",
       "      <td>FLAT 12</td>\n",
       "      <td>ROPE STREET</td>\n",
       "      <td>None</td>\n",
       "      <td>LONDON</td>\n",
       "      <td>SOUTHWARK</td>\n",
       "      <td>GREATER LONDON</td>\n",
       "      <td>A</td>\n",
       "      <td>A</td>\n",
       "      <td>2015</td>\n",
       "      <td>1</td>\n",
       "    </tr>\n",
       "    <tr>\n",
       "      <th>3</th>\n",
       "      <td>{13F1F69A-9CB8-405D-B84E-EF8D39B080F4}</td>\n",
       "      <td>98000</td>\n",
       "      <td>2015-01-07</td>\n",
       "      <td>PE30 2LY</td>\n",
       "      <td>T</td>\n",
       "      <td>N</td>\n",
       "      <td>F</td>\n",
       "      <td>7</td>\n",
       "      <td>None</td>\n",
       "      <td>CROWN SQUARE</td>\n",
       "      <td>None</td>\n",
       "      <td>KING'S LYNN</td>\n",
       "      <td>KING'S LYNN AND WEST NORFOLK</td>\n",
       "      <td>NORFOLK</td>\n",
       "      <td>A</td>\n",
       "      <td>A</td>\n",
       "      <td>2015</td>\n",
       "      <td>1</td>\n",
       "    </tr>\n",
       "    <tr>\n",
       "      <th>4</th>\n",
       "      <td>{3AA07540-CA7C-405C-8C89-180F5E886891}</td>\n",
       "      <td>276000</td>\n",
       "      <td>2015-01-05</td>\n",
       "      <td>BN14 7LB</td>\n",
       "      <td>S</td>\n",
       "      <td>N</td>\n",
       "      <td>F</td>\n",
       "      <td>20</td>\n",
       "      <td>None</td>\n",
       "      <td>WESTLAND AVENUE</td>\n",
       "      <td>None</td>\n",
       "      <td>WORTHING</td>\n",
       "      <td>WORTHING</td>\n",
       "      <td>WEST SUSSEX</td>\n",
       "      <td>A</td>\n",
       "      <td>A</td>\n",
       "      <td>2015</td>\n",
       "      <td>1</td>\n",
       "    </tr>\n",
       "  </tbody>\n",
       "</table>\n",
       "</div>"
      ],
      "text/plain": [
       "            Transaction_unique_identifier   price Date_of_Transfer  postcode  \\\n",
       "0  {A094FFB6-5590-4FBE-AE49-1C2B2C1C492D}  417000       2015-01-07  NG31 8NQ   \n",
       "1  {21E5FEB5-F732-2439-E050-A8C06205342E}   90000       2015-01-13  IG11 8LE   \n",
       "2  {6C2DE40E-C33F-460D-9F2F-C146CCF456AA}  550000       2015-01-30  SE16 7TU   \n",
       "3  {13F1F69A-9CB8-405D-B84E-EF8D39B080F4}   98000       2015-01-07  PE30 2LY   \n",
       "4  {3AA07540-CA7C-405C-8C89-180F5E886891}  276000       2015-01-05  BN14 7LB   \n",
       "\n",
       "  Property_Type Old/New Duration              PAON     SAON           Street  \\\n",
       "0             D       N        F                34     None         LOW ROAD   \n",
       "1             F       N        L     ASHDOWN COURT   FLAT 2       HARTS LANE   \n",
       "2             F       N        L  CABLE COURT, 357  FLAT 12      ROPE STREET   \n",
       "3             T       N        F                 7     None     CROWN SQUARE   \n",
       "4             S       N        F                20     None  WESTLAND AVENUE   \n",
       "\n",
       "    Locality    Town/City                      District          County  \\\n",
       "0  MANTHORPE     GRANTHAM                SOUTH KESTEVEN    LINCOLNSHIRE   \n",
       "1       None      BARKING          BARKING AND DAGENHAM  GREATER LONDON   \n",
       "2       None       LONDON                     SOUTHWARK  GREATER LONDON   \n",
       "3       None  KING'S LYNN  KING'S LYNN AND WEST NORFOLK         NORFOLK   \n",
       "4       None     WORTHING                      WORTHING     WEST SUSSEX   \n",
       "\n",
       "  PPDCategory_Type Record_Status - monthly_file_only  year  month  \n",
       "0                A                                 A  2015      1  \n",
       "1                B                                 A  2015      1  \n",
       "2                A                                 A  2015      1  \n",
       "3                A                                 A  2015      1  \n",
       "4                A                                 A  2015      1  "
      ]
     },
     "execution_count": 10,
     "metadata": {},
     "output_type": "execute_result"
    }
   ],
   "source": [
    "sampled_df.head()"
   ]
  },
  {
   "cell_type": "code",
   "execution_count": 11,
   "id": "8959f183",
   "metadata": {
    "id": "8959f183"
   },
   "outputs": [],
   "source": [
    "# #df.shape\n",
    "# df.Date_of_Transfer = pd.to_datetime(df.Date_of_Transfer)\n",
    "# df = df.loc[df.index[(df.Date_of_Transfer.dt.year>=2018)&(df.Date_of_Transfer.dt.year<=2018)]].copy()"
   ]
  },
  {
   "cell_type": "code",
   "execution_count": 12,
   "id": "02a2215d",
   "metadata": {
    "colab": {
     "base_uri": "https://localhost:8080/",
     "height": 300
    },
    "id": "02a2215d",
    "outputId": "9c81ae4e-a9ea-4e80-c81f-366dc335096c"
   },
   "outputs": [
    {
     "data": {
      "text/html": [
       "<div>\n",
       "<style scoped>\n",
       "    .dataframe tbody tr th:only-of-type {\n",
       "        vertical-align: middle;\n",
       "    }\n",
       "\n",
       "    .dataframe tbody tr th {\n",
       "        vertical-align: top;\n",
       "    }\n",
       "\n",
       "    .dataframe thead th {\n",
       "        text-align: right;\n",
       "    }\n",
       "</style>\n",
       "<table border=\"1\" class=\"dataframe\">\n",
       "  <thead>\n",
       "    <tr style=\"text-align: right;\">\n",
       "      <th></th>\n",
       "      <th>price</th>\n",
       "      <th>year</th>\n",
       "      <th>month</th>\n",
       "    </tr>\n",
       "  </thead>\n",
       "  <tbody>\n",
       "    <tr>\n",
       "      <th>count</th>\n",
       "      <td>1.219509e+06</td>\n",
       "      <td>1.219509e+06</td>\n",
       "      <td>1.219509e+06</td>\n",
       "    </tr>\n",
       "    <tr>\n",
       "      <th>mean</th>\n",
       "      <td>3.536521e+05</td>\n",
       "      <td>2.018455e+03</td>\n",
       "      <td>6.707891e+00</td>\n",
       "    </tr>\n",
       "    <tr>\n",
       "      <th>std</th>\n",
       "      <td>1.645497e+06</td>\n",
       "      <td>2.272350e+00</td>\n",
       "      <td>3.409931e+00</td>\n",
       "    </tr>\n",
       "    <tr>\n",
       "      <th>min</th>\n",
       "      <td>1.000000e+02</td>\n",
       "      <td>2.015000e+03</td>\n",
       "      <td>1.000000e+00</td>\n",
       "    </tr>\n",
       "    <tr>\n",
       "      <th>25%</th>\n",
       "      <td>1.500000e+05</td>\n",
       "      <td>2.016000e+03</td>\n",
       "      <td>4.000000e+00</td>\n",
       "    </tr>\n",
       "    <tr>\n",
       "      <th>50%</th>\n",
       "      <td>2.350000e+05</td>\n",
       "      <td>2.018000e+03</td>\n",
       "      <td>7.000000e+00</td>\n",
       "    </tr>\n",
       "    <tr>\n",
       "      <th>75%</th>\n",
       "      <td>3.700000e+05</td>\n",
       "      <td>2.021000e+03</td>\n",
       "      <td>1.000000e+01</td>\n",
       "    </tr>\n",
       "    <tr>\n",
       "      <th>max</th>\n",
       "      <td>4.485000e+08</td>\n",
       "      <td>2.022000e+03</td>\n",
       "      <td>1.200000e+01</td>\n",
       "    </tr>\n",
       "  </tbody>\n",
       "</table>\n",
       "</div>"
      ],
      "text/plain": [
       "              price          year         month\n",
       "count  1.219509e+06  1.219509e+06  1.219509e+06\n",
       "mean   3.536521e+05  2.018455e+03  6.707891e+00\n",
       "std    1.645497e+06  2.272350e+00  3.409931e+00\n",
       "min    1.000000e+02  2.015000e+03  1.000000e+00\n",
       "25%    1.500000e+05  2.016000e+03  4.000000e+00\n",
       "50%    2.350000e+05  2.018000e+03  7.000000e+00\n",
       "75%    3.700000e+05  2.021000e+03  1.000000e+01\n",
       "max    4.485000e+08  2.022000e+03  1.200000e+01"
      ]
     },
     "execution_count": 12,
     "metadata": {},
     "output_type": "execute_result"
    }
   ],
   "source": [
    "df = sampled_df.copy()\n",
    "del sampled_df\n",
    "df.describe()\n"
   ]
  },
  {
   "cell_type": "code",
   "execution_count": 13,
   "id": "71ea5809",
   "metadata": {
    "colab": {
     "base_uri": "https://localhost:8080/"
    },
    "id": "71ea5809",
    "outputId": "9ecfc070-a2e2-42ab-e17b-7380f505261e"
   },
   "outputs": [
    {
     "data": {
      "text/plain": [
       "100"
      ]
     },
     "execution_count": 13,
     "metadata": {},
     "output_type": "execute_result"
    }
   ],
   "source": [
    "df.price.min()"
   ]
  },
  {
   "cell_type": "code",
   "execution_count": 14,
   "id": "699dd274",
   "metadata": {
    "colab": {
     "base_uri": "https://localhost:8080/"
    },
    "id": "699dd274",
    "outputId": "5e17b422-7d17-4e71-88c1-3eda2b2f9e6c"
   },
   "outputs": [
    {
     "data": {
      "text/plain": [
       "448500000"
      ]
     },
     "execution_count": 14,
     "metadata": {},
     "output_type": "execute_result"
    }
   ],
   "source": [
    "df.price.max()"
   ]
  },
  {
   "cell_type": "code",
   "execution_count": 15,
   "id": "45a4c4d2",
   "metadata": {
    "colab": {
     "base_uri": "https://localhost:8080/"
    },
    "id": "45a4c4d2",
    "outputId": "5bf22318-c5fa-40ff-c3b5-e3ec9a6e92f0"
   },
   "outputs": [
    {
     "data": {
      "text/plain": [
       "count    1.219509e+06\n",
       "mean     3.536521e+05\n",
       "std      1.645497e+06\n",
       "min      1.000000e+02\n",
       "25%      1.500000e+05\n",
       "50%      2.350000e+05\n",
       "75%      3.700000e+05\n",
       "max      4.485000e+08\n",
       "Name: price, dtype: float64"
      ]
     },
     "execution_count": 15,
     "metadata": {},
     "output_type": "execute_result"
    }
   ],
   "source": [
    "df.price.describe()"
   ]
  },
  {
   "cell_type": "code",
   "execution_count": 16,
   "id": "e24d764c",
   "metadata": {
    "colab": {
     "base_uri": "https://localhost:8080/",
     "height": 300
    },
    "id": "e24d764c",
    "outputId": "cdf38b4e-a61d-43a4-e749-59d01c7fbe93"
   },
   "outputs": [
    {
     "data": {
      "text/html": [
       "<div>\n",
       "<style scoped>\n",
       "    .dataframe tbody tr th:only-of-type {\n",
       "        vertical-align: middle;\n",
       "    }\n",
       "\n",
       "    .dataframe tbody tr th {\n",
       "        vertical-align: top;\n",
       "    }\n",
       "\n",
       "    .dataframe thead th {\n",
       "        text-align: right;\n",
       "    }\n",
       "</style>\n",
       "<table border=\"1\" class=\"dataframe\">\n",
       "  <thead>\n",
       "    <tr style=\"text-align: right;\">\n",
       "      <th></th>\n",
       "      <th>price</th>\n",
       "      <th>year</th>\n",
       "      <th>month</th>\n",
       "    </tr>\n",
       "  </thead>\n",
       "  <tbody>\n",
       "    <tr>\n",
       "      <th>count</th>\n",
       "      <td>1219509.00</td>\n",
       "      <td>1219509.00</td>\n",
       "      <td>1219509.00</td>\n",
       "    </tr>\n",
       "    <tr>\n",
       "      <th>mean</th>\n",
       "      <td>353652.10</td>\n",
       "      <td>2018.45</td>\n",
       "      <td>6.71</td>\n",
       "    </tr>\n",
       "    <tr>\n",
       "      <th>std</th>\n",
       "      <td>1645497.36</td>\n",
       "      <td>2.27</td>\n",
       "      <td>3.41</td>\n",
       "    </tr>\n",
       "    <tr>\n",
       "      <th>min</th>\n",
       "      <td>100.00</td>\n",
       "      <td>2015.00</td>\n",
       "      <td>1.00</td>\n",
       "    </tr>\n",
       "    <tr>\n",
       "      <th>25%</th>\n",
       "      <td>150000.00</td>\n",
       "      <td>2016.00</td>\n",
       "      <td>4.00</td>\n",
       "    </tr>\n",
       "    <tr>\n",
       "      <th>50%</th>\n",
       "      <td>235000.00</td>\n",
       "      <td>2018.00</td>\n",
       "      <td>7.00</td>\n",
       "    </tr>\n",
       "    <tr>\n",
       "      <th>75%</th>\n",
       "      <td>370000.00</td>\n",
       "      <td>2021.00</td>\n",
       "      <td>10.00</td>\n",
       "    </tr>\n",
       "    <tr>\n",
       "      <th>max</th>\n",
       "      <td>448500000.00</td>\n",
       "      <td>2022.00</td>\n",
       "      <td>12.00</td>\n",
       "    </tr>\n",
       "  </tbody>\n",
       "</table>\n",
       "</div>"
      ],
      "text/plain": [
       "              price        year       month\n",
       "count    1219509.00  1219509.00  1219509.00\n",
       "mean      353652.10     2018.45        6.71\n",
       "std      1645497.36        2.27        3.41\n",
       "min          100.00     2015.00        1.00\n",
       "25%       150000.00     2016.00        4.00\n",
       "50%       235000.00     2018.00        7.00\n",
       "75%       370000.00     2021.00       10.00\n",
       "max    448500000.00     2022.00       12.00"
      ]
     },
     "execution_count": 16,
     "metadata": {},
     "output_type": "execute_result"
    }
   ],
   "source": [
    "df.describe().apply(lambda s: s.apply('{0:.2f}'.format))"
   ]
  },
  {
   "cell_type": "code",
   "execution_count": 17,
   "id": "fbdb7a6c",
   "metadata": {
    "colab": {
     "base_uri": "https://localhost:8080/"
    },
    "id": "fbdb7a6c",
    "outputId": "ca6df050-38dc-4cbc-8faf-b1128ff39e1c"
   },
   "outputs": [
    {
     "data": {
      "text/plain": [
       "(0,)"
      ]
     },
     "execution_count": 17,
     "metadata": {},
     "output_type": "execute_result"
    }
   ],
   "source": [
    "df.price[round(df.price)==1].shape"
   ]
  },
  {
   "cell_type": "code",
   "execution_count": 18,
   "id": "cb8d69a7",
   "metadata": {
    "colab": {
     "base_uri": "https://localhost:8080/"
    },
    "id": "cb8d69a7",
    "outputId": "e41fc88c-18f6-4761-cc32-adeebd54646f"
   },
   "outputs": [
    {
     "data": {
      "text/plain": [
       "(1219509, 18)"
      ]
     },
     "execution_count": 18,
     "metadata": {},
     "output_type": "execute_result"
    }
   ],
   "source": [
    "df.drop(df.index[(round(df.price)==1)],inplace=True)#.price.describe()#.apply(lambda s: s.apply('{0:.2f}'.format))\n",
    "df.shape"
   ]
  },
  {
   "cell_type": "code",
   "execution_count": 19,
   "id": "cb38cf58",
   "metadata": {
    "colab": {
     "base_uri": "https://localhost:8080/",
     "height": 445
    },
    "id": "cb38cf58",
    "outputId": "e2159f19-3031-46be-c2d1-f9e7cd6464ce"
   },
   "outputs": [
    {
     "data": {
      "image/png": "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",
      "text/plain": [
       "<Figure size 640x480 with 1 Axes>"
      ]
     },
     "metadata": {},
     "output_type": "display_data"
    }
   ],
   "source": [
    "# fig, axs = plt.subplots(1, 1)\n",
    "# basic plot\n",
    "df.boxplot(column='price')\n",
    "plt.show()\n",
    "\n",
    "# # notched plot\n",
    "# axs[0, 1].boxplot(data, 1)\n",
    "# axs[0, 1].set_title('notched plot')"
   ]
  },
  {
   "cell_type": "code",
   "execution_count": 20,
   "id": "0120f923",
   "metadata": {
    "colab": {
     "base_uri": "https://localhost:8080/",
     "height": 300
    },
    "id": "0120f923",
    "outputId": "6e796680-eaba-4008-9e90-35663a7fda65"
   },
   "outputs": [
    {
     "data": {
      "text/html": [
       "<div>\n",
       "<style scoped>\n",
       "    .dataframe tbody tr th:only-of-type {\n",
       "        vertical-align: middle;\n",
       "    }\n",
       "\n",
       "    .dataframe tbody tr th {\n",
       "        vertical-align: top;\n",
       "    }\n",
       "\n",
       "    .dataframe thead th {\n",
       "        text-align: right;\n",
       "    }\n",
       "</style>\n",
       "<table border=\"1\" class=\"dataframe\">\n",
       "  <thead>\n",
       "    <tr style=\"text-align: right;\">\n",
       "      <th></th>\n",
       "      <th>price</th>\n",
       "      <th>year</th>\n",
       "      <th>month</th>\n",
       "    </tr>\n",
       "  </thead>\n",
       "  <tbody>\n",
       "    <tr>\n",
       "      <th>count</th>\n",
       "      <td>1219509.00</td>\n",
       "      <td>1219509.00</td>\n",
       "      <td>1219509.00</td>\n",
       "    </tr>\n",
       "    <tr>\n",
       "      <th>mean</th>\n",
       "      <td>353652.10</td>\n",
       "      <td>2018.45</td>\n",
       "      <td>6.71</td>\n",
       "    </tr>\n",
       "    <tr>\n",
       "      <th>std</th>\n",
       "      <td>1645497.36</td>\n",
       "      <td>2.27</td>\n",
       "      <td>3.41</td>\n",
       "    </tr>\n",
       "    <tr>\n",
       "      <th>min</th>\n",
       "      <td>100.00</td>\n",
       "      <td>2015.00</td>\n",
       "      <td>1.00</td>\n",
       "    </tr>\n",
       "    <tr>\n",
       "      <th>25%</th>\n",
       "      <td>150000.00</td>\n",
       "      <td>2016.00</td>\n",
       "      <td>4.00</td>\n",
       "    </tr>\n",
       "    <tr>\n",
       "      <th>50%</th>\n",
       "      <td>235000.00</td>\n",
       "      <td>2018.00</td>\n",
       "      <td>7.00</td>\n",
       "    </tr>\n",
       "    <tr>\n",
       "      <th>75%</th>\n",
       "      <td>370000.00</td>\n",
       "      <td>2021.00</td>\n",
       "      <td>10.00</td>\n",
       "    </tr>\n",
       "    <tr>\n",
       "      <th>max</th>\n",
       "      <td>448500000.00</td>\n",
       "      <td>2022.00</td>\n",
       "      <td>12.00</td>\n",
       "    </tr>\n",
       "  </tbody>\n",
       "</table>\n",
       "</div>"
      ],
      "text/plain": [
       "              price        year       month\n",
       "count    1219509.00  1219509.00  1219509.00\n",
       "mean      353652.10     2018.45        6.71\n",
       "std      1645497.36        2.27        3.41\n",
       "min          100.00     2015.00        1.00\n",
       "25%       150000.00     2016.00        4.00\n",
       "50%       235000.00     2018.00        7.00\n",
       "75%       370000.00     2021.00       10.00\n",
       "max    448500000.00     2022.00       12.00"
      ]
     },
     "execution_count": 20,
     "metadata": {},
     "output_type": "execute_result"
    }
   ],
   "source": [
    "df.describe().apply(lambda s: s.apply('{0:.2f}'.format))"
   ]
  },
  {
   "cell_type": "code",
   "execution_count": 21,
   "id": "9d949087",
   "metadata": {
    "colab": {
     "base_uri": "https://localhost:8080/"
    },
    "id": "9d949087",
    "outputId": "e4641925-ab09-4ad5-e9f2-a182cc91ca8d"
   },
   "outputs": [
    {
     "data": {
      "text/plain": [
       "Index(['Transaction_unique_identifier', 'price', 'Date_of_Transfer',\n",
       "       'postcode', 'Property_Type', 'Old/New', 'Duration', 'PAON', 'SAON',\n",
       "       'Street', 'Locality', 'Town/City', 'District', 'County',\n",
       "       'PPDCategory_Type', 'Record_Status - monthly_file_only', 'year',\n",
       "       'month'],\n",
       "      dtype='object')"
      ]
     },
     "execution_count": 21,
     "metadata": {},
     "output_type": "execute_result"
    }
   ],
   "source": [
    "df.Date_of_Transfer = pd.to_datetime(df.Date_of_Transfer)\n",
    "df['year'] = df.Date_of_Transfer.dt.year\n",
    "df.columns"
   ]
  },
  {
   "cell_type": "code",
   "execution_count": 22,
   "id": "c7e79639",
   "metadata": {
    "colab": {
     "base_uri": "https://localhost:8080/",
     "height": 482
    },
    "id": "c7e79639",
    "outputId": "fc36233d-3422-4b00-e468-520bff2d146e"
   },
   "outputs": [
    {
     "data": {
      "text/plain": [
       "<Axes: xlabel='year', ylabel='price'>"
      ]
     },
     "execution_count": 22,
     "metadata": {},
     "output_type": "execute_result"
    },
    {
     "data": {
      "image/png": "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",
      "text/plain": [
       "<Figure size 640x480 with 1 Axes>"
      ]
     },
     "metadata": {},
     "output_type": "display_data"
    }
   ],
   "source": [
    "df.plot(y = 'price',x='year',kind='scatter')"
   ]
  },
  {
   "cell_type": "code",
   "execution_count": 23,
   "id": "99350ec6",
   "metadata": {
    "colab": {
     "base_uri": "https://localhost:8080/"
    },
    "id": "99350ec6",
    "outputId": "3b86c00a-b704-42d9-cbd5-515cbc4e8c40"
   },
   "outputs": [
    {
     "data": {
      "text/plain": [
       "(1351,)"
      ]
     },
     "execution_count": 23,
     "metadata": {},
     "output_type": "execute_result"
    }
   ],
   "source": [
    "df.price[round(df.price)<=1000].shape"
   ]
  },
  {
   "cell_type": "code",
   "execution_count": 24,
   "id": "cba7b8a6",
   "metadata": {
    "colab": {
     "base_uri": "https://localhost:8080/"
    },
    "id": "cba7b8a6",
    "outputId": "d48a1311-9689-439e-bddb-65e494a600cb"
   },
   "outputs": [
    {
     "data": {
      "text/plain": [
       "(1433,)"
      ]
     },
     "execution_count": 24,
     "metadata": {},
     "output_type": "execute_result"
    }
   ],
   "source": [
    "df.price[round(df.price)>=10000000].shape"
   ]
  },
  {
   "cell_type": "code",
   "execution_count": 25,
   "id": "99266f5a",
   "metadata": {
    "colab": {
     "base_uri": "https://localhost:8080/"
    },
    "id": "99266f5a",
    "outputId": "151a4f93-081b-4319-82ca-de93d0aea856"
   },
   "outputs": [
    {
     "data": {
      "text/plain": [
       "(1212821,)"
      ]
     },
     "execution_count": 25,
     "metadata": {},
     "output_type": "execute_result"
    }
   ],
   "source": [
    "df.price[~((round(df.price)<=10000)|(round(df.price)>=10000000))].shape"
   ]
  },
  {
   "cell_type": "code",
   "execution_count": 26,
   "id": "c5533b58",
   "metadata": {
    "colab": {
     "base_uri": "https://localhost:8080/"
    },
    "id": "c5533b58",
    "outputId": "dffebd18-785a-429b-af04-0cb9c0a24db8"
   },
   "outputs": [
    {
     "data": {
      "text/plain": [
       "6148992.801435406"
      ]
     },
     "execution_count": 26,
     "metadata": {},
     "output_type": "execute_result"
    }
   ],
   "source": [
    "df.price[((round(df.price)<=10000)|(round(df.price)>=10000000))].mean()"
   ]
  },
  {
   "cell_type": "code",
   "execution_count": 27,
   "id": "1d68fd3e",
   "metadata": {
    "colab": {
     "base_uri": "https://localhost:8080/"
    },
    "id": "1d68fd3e",
    "outputId": "0979d5a8-6034-416b-9d09-bedb6c1d3800"
   },
   "outputs": [
    {
     "data": {
      "text/plain": [
       "353652.10464293417"
      ]
     },
     "execution_count": 27,
     "metadata": {},
     "output_type": "execute_result"
    }
   ],
   "source": [
    "df.price.mean()"
   ]
  },
  {
   "cell_type": "code",
   "execution_count": 28,
   "id": "b360b5eb",
   "metadata": {
    "colab": {
     "base_uri": "https://localhost:8080/"
    },
    "id": "b360b5eb",
    "outputId": "3d0a7d84-376d-47e4-fca9-aee2613cfdc2"
   },
   "outputs": [
    {
     "data": {
      "text/plain": [
       "321694.18292146985"
      ]
     },
     "execution_count": 28,
     "metadata": {},
     "output_type": "execute_result"
    }
   ],
   "source": [
    "df.price[~((round(df.price)<=10000)|(round(df.price)>=10000000))].mean()"
   ]
  },
  {
   "cell_type": "code",
   "execution_count": 29,
   "id": "68a840dd",
   "metadata": {},
   "outputs": [
    {
     "data": {
      "text/html": [
       "<div>\n",
       "<style scoped>\n",
       "    .dataframe tbody tr th:only-of-type {\n",
       "        vertical-align: middle;\n",
       "    }\n",
       "\n",
       "    .dataframe tbody tr th {\n",
       "        vertical-align: top;\n",
       "    }\n",
       "\n",
       "    .dataframe thead th {\n",
       "        text-align: right;\n",
       "    }\n",
       "</style>\n",
       "<table border=\"1\" class=\"dataframe\">\n",
       "  <thead>\n",
       "    <tr style=\"text-align: right;\">\n",
       "      <th></th>\n",
       "      <th>Transaction_unique_identifier</th>\n",
       "      <th>price</th>\n",
       "      <th>Date_of_Transfer</th>\n",
       "      <th>postcode</th>\n",
       "      <th>Property_Type</th>\n",
       "      <th>Old/New</th>\n",
       "      <th>Duration</th>\n",
       "      <th>PAON</th>\n",
       "      <th>SAON</th>\n",
       "      <th>Street</th>\n",
       "      <th>Locality</th>\n",
       "      <th>Town/City</th>\n",
       "      <th>District</th>\n",
       "      <th>County</th>\n",
       "      <th>PPDCategory_Type</th>\n",
       "      <th>Record_Status - monthly_file_only</th>\n",
       "      <th>year</th>\n",
       "      <th>month</th>\n",
       "    </tr>\n",
       "  </thead>\n",
       "  <tbody>\n",
       "    <tr>\n",
       "      <th>0</th>\n",
       "      <td>{A094FFB6-5590-4FBE-AE49-1C2B2C1C492D}</td>\n",
       "      <td>417000</td>\n",
       "      <td>2015-01-07</td>\n",
       "      <td>NG31 8NQ</td>\n",
       "      <td>D</td>\n",
       "      <td>N</td>\n",
       "      <td>F</td>\n",
       "      <td>34</td>\n",
       "      <td>None</td>\n",
       "      <td>LOW ROAD</td>\n",
       "      <td>MANTHORPE</td>\n",
       "      <td>GRANTHAM</td>\n",
       "      <td>SOUTH KESTEVEN</td>\n",
       "      <td>LINCOLNSHIRE</td>\n",
       "      <td>A</td>\n",
       "      <td>A</td>\n",
       "      <td>2015</td>\n",
       "      <td>1</td>\n",
       "    </tr>\n",
       "    <tr>\n",
       "      <th>1</th>\n",
       "      <td>{21E5FEB5-F732-2439-E050-A8C06205342E}</td>\n",
       "      <td>90000</td>\n",
       "      <td>2015-01-13</td>\n",
       "      <td>IG11 8LE</td>\n",
       "      <td>F</td>\n",
       "      <td>N</td>\n",
       "      <td>L</td>\n",
       "      <td>ASHDOWN COURT</td>\n",
       "      <td>FLAT 2</td>\n",
       "      <td>HARTS LANE</td>\n",
       "      <td>None</td>\n",
       "      <td>BARKING</td>\n",
       "      <td>BARKING AND DAGENHAM</td>\n",
       "      <td>GREATER LONDON</td>\n",
       "      <td>B</td>\n",
       "      <td>A</td>\n",
       "      <td>2015</td>\n",
       "      <td>1</td>\n",
       "    </tr>\n",
       "    <tr>\n",
       "      <th>2</th>\n",
       "      <td>{6C2DE40E-C33F-460D-9F2F-C146CCF456AA}</td>\n",
       "      <td>550000</td>\n",
       "      <td>2015-01-30</td>\n",
       "      <td>SE16 7TU</td>\n",
       "      <td>F</td>\n",
       "      <td>N</td>\n",
       "      <td>L</td>\n",
       "      <td>CABLE COURT, 357</td>\n",
       "      <td>FLAT 12</td>\n",
       "      <td>ROPE STREET</td>\n",
       "      <td>None</td>\n",
       "      <td>LONDON</td>\n",
       "      <td>SOUTHWARK</td>\n",
       "      <td>GREATER LONDON</td>\n",
       "      <td>A</td>\n",
       "      <td>A</td>\n",
       "      <td>2015</td>\n",
       "      <td>1</td>\n",
       "    </tr>\n",
       "    <tr>\n",
       "      <th>3</th>\n",
       "      <td>{13F1F69A-9CB8-405D-B84E-EF8D39B080F4}</td>\n",
       "      <td>98000</td>\n",
       "      <td>2015-01-07</td>\n",
       "      <td>PE30 2LY</td>\n",
       "      <td>T</td>\n",
       "      <td>N</td>\n",
       "      <td>F</td>\n",
       "      <td>7</td>\n",
       "      <td>None</td>\n",
       "      <td>CROWN SQUARE</td>\n",
       "      <td>None</td>\n",
       "      <td>KING'S LYNN</td>\n",
       "      <td>KING'S LYNN AND WEST NORFOLK</td>\n",
       "      <td>NORFOLK</td>\n",
       "      <td>A</td>\n",
       "      <td>A</td>\n",
       "      <td>2015</td>\n",
       "      <td>1</td>\n",
       "    </tr>\n",
       "    <tr>\n",
       "      <th>4</th>\n",
       "      <td>{3AA07540-CA7C-405C-8C89-180F5E886891}</td>\n",
       "      <td>276000</td>\n",
       "      <td>2015-01-05</td>\n",
       "      <td>BN14 7LB</td>\n",
       "      <td>S</td>\n",
       "      <td>N</td>\n",
       "      <td>F</td>\n",
       "      <td>20</td>\n",
       "      <td>None</td>\n",
       "      <td>WESTLAND AVENUE</td>\n",
       "      <td>None</td>\n",
       "      <td>WORTHING</td>\n",
       "      <td>WORTHING</td>\n",
       "      <td>WEST SUSSEX</td>\n",
       "      <td>A</td>\n",
       "      <td>A</td>\n",
       "      <td>2015</td>\n",
       "      <td>1</td>\n",
       "    </tr>\n",
       "  </tbody>\n",
       "</table>\n",
       "</div>"
      ],
      "text/plain": [
       "            Transaction_unique_identifier   price Date_of_Transfer  postcode  \\\n",
       "0  {A094FFB6-5590-4FBE-AE49-1C2B2C1C492D}  417000       2015-01-07  NG31 8NQ   \n",
       "1  {21E5FEB5-F732-2439-E050-A8C06205342E}   90000       2015-01-13  IG11 8LE   \n",
       "2  {6C2DE40E-C33F-460D-9F2F-C146CCF456AA}  550000       2015-01-30  SE16 7TU   \n",
       "3  {13F1F69A-9CB8-405D-B84E-EF8D39B080F4}   98000       2015-01-07  PE30 2LY   \n",
       "4  {3AA07540-CA7C-405C-8C89-180F5E886891}  276000       2015-01-05  BN14 7LB   \n",
       "\n",
       "  Property_Type Old/New Duration              PAON     SAON           Street  \\\n",
       "0             D       N        F                34     None         LOW ROAD   \n",
       "1             F       N        L     ASHDOWN COURT   FLAT 2       HARTS LANE   \n",
       "2             F       N        L  CABLE COURT, 357  FLAT 12      ROPE STREET   \n",
       "3             T       N        F                 7     None     CROWN SQUARE   \n",
       "4             S       N        F                20     None  WESTLAND AVENUE   \n",
       "\n",
       "    Locality    Town/City                      District          County  \\\n",
       "0  MANTHORPE     GRANTHAM                SOUTH KESTEVEN    LINCOLNSHIRE   \n",
       "1       None      BARKING          BARKING AND DAGENHAM  GREATER LONDON   \n",
       "2       None       LONDON                     SOUTHWARK  GREATER LONDON   \n",
       "3       None  KING'S LYNN  KING'S LYNN AND WEST NORFOLK         NORFOLK   \n",
       "4       None     WORTHING                      WORTHING     WEST SUSSEX   \n",
       "\n",
       "  PPDCategory_Type Record_Status - monthly_file_only  year  month  \n",
       "0                A                                 A  2015      1  \n",
       "1                B                                 A  2015      1  \n",
       "2                A                                 A  2015      1  \n",
       "3                A                                 A  2015      1  \n",
       "4                A                                 A  2015      1  "
      ]
     },
     "execution_count": 29,
     "metadata": {},
     "output_type": "execute_result"
    }
   ],
   "source": [
    "df.head()"
   ]
  },
  {
   "cell_type": "code",
   "execution_count": 30,
   "id": "926ffee0",
   "metadata": {
    "colab": {
     "base_uri": "https://localhost:8080/",
     "height": 112
    },
    "id": "926ffee0",
    "outputId": "cb4246ad-eb10-48bb-82d6-e2cc8e1a5112"
   },
   "outputs": [
    {
     "data": {
      "text/html": [
       "<div>\n",
       "<style scoped>\n",
       "    .dataframe tbody tr th:only-of-type {\n",
       "        vertical-align: middle;\n",
       "    }\n",
       "\n",
       "    .dataframe tbody tr th {\n",
       "        vertical-align: top;\n",
       "    }\n",
       "\n",
       "    .dataframe thead th {\n",
       "        text-align: right;\n",
       "    }\n",
       "</style>\n",
       "<table border=\"1\" class=\"dataframe\">\n",
       "  <thead>\n",
       "    <tr style=\"text-align: right;\">\n",
       "      <th></th>\n",
       "      <th>price</th>\n",
       "    </tr>\n",
       "    <tr>\n",
       "      <th>year</th>\n",
       "      <th></th>\n",
       "    </tr>\n",
       "  </thead>\n",
       "  <tbody>\n",
       "    <tr>\n",
       "      <th>2015</th>\n",
       "      <td>279744.149151</td>\n",
       "    </tr>\n",
       "    <tr>\n",
       "      <th>2016</th>\n",
       "      <td>293947.054333</td>\n",
       "    </tr>\n",
       "    <tr>\n",
       "      <th>2017</th>\n",
       "      <td>310522.936222</td>\n",
       "    </tr>\n",
       "    <tr>\n",
       "      <th>2018</th>\n",
       "      <td>312085.771875</td>\n",
       "    </tr>\n",
       "    <tr>\n",
       "      <th>2019</th>\n",
       "      <td>315154.979318</td>\n",
       "    </tr>\n",
       "    <tr>\n",
       "      <th>2020</th>\n",
       "      <td>338387.805155</td>\n",
       "    </tr>\n",
       "    <tr>\n",
       "      <th>2021</th>\n",
       "      <td>355846.658329</td>\n",
       "    </tr>\n",
       "    <tr>\n",
       "      <th>2022</th>\n",
       "      <td>372162.379041</td>\n",
       "    </tr>\n",
       "  </tbody>\n",
       "</table>\n",
       "</div>"
      ],
      "text/plain": [
       "              price\n",
       "year               \n",
       "2015  279744.149151\n",
       "2016  293947.054333\n",
       "2017  310522.936222\n",
       "2018  312085.771875\n",
       "2019  315154.979318\n",
       "2020  338387.805155\n",
       "2021  355846.658329\n",
       "2022  372162.379041"
      ]
     },
     "execution_count": 30,
     "metadata": {},
     "output_type": "execute_result"
    }
   ],
   "source": [
    "df[~((round(df.price)<=10000)|(round(df.price)>=10000000))].groupby(['year']).agg({'price':'mean'})"
   ]
  },
  {
   "cell_type": "code",
   "execution_count": 31,
   "id": "2e5cebe9",
   "metadata": {
    "colab": {
     "base_uri": "https://localhost:8080/",
     "height": 466
    },
    "id": "2e5cebe9",
    "outputId": "0e762dd7-e40f-460f-e2f6-886201cbaf13"
   },
   "outputs": [
    {
     "data": {
      "text/plain": [
       "<Axes: xlabel='year'>"
      ]
     },
     "execution_count": 31,
     "metadata": {},
     "output_type": "execute_result"
    },
    {
     "data": {
      "image/png": "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",
      "text/plain": [
       "<Figure size 640x480 with 1 Axes>"
      ]
     },
     "metadata": {},
     "output_type": "display_data"
    }
   ],
   "source": [
    "df[~((round(df.price)<=10000)|(round(df.price)>=10000000))].groupby(['year']).agg({'price':'mean'}).plot(kind='line')"
   ]
  },
  {
   "cell_type": "code",
   "execution_count": 32,
   "id": "8bb3cf9f",
   "metadata": {
    "colab": {
     "base_uri": "https://localhost:8080/"
    },
    "id": "8bb3cf9f",
    "outputId": "e3d71b54-d6d7-42a1-bb4a-523c3ceed2a0"
   },
   "outputs": [
    {
     "name": "stdout",
     "output_type": "stream",
     "text": [
      "(70147, 18)\n",
      "(230380, 18)\n",
      "(477958, 18)\n",
      "(436667, 18)\n"
     ]
    }
   ],
   "source": [
    "print(df[((round(df.price)>=5000)&(round(df.price)<80000))].shape) # Base low\n",
    "print(df[((round(df.price)>=80000)&(round(df.price)<150000))].shape) # Low\n",
    "print(df[((round(df.price)>=150000)&(round(df.price)<300000))].shape) # Moderate\n",
    "print(df[((round(df.price)>=300000)&(round(df.price)<=10000000))].shape) # High"
   ]
  },
  {
   "cell_type": "code",
   "execution_count": 33,
   "id": "9b85f33d",
   "metadata": {
    "colab": {
     "base_uri": "https://localhost:8080/"
    },
    "id": "9b85f33d",
    "outputId": "02ab87cb-3b67-4b56-f62b-d745b0907be7"
   },
   "outputs": [
    {
     "name": "stdout",
     "output_type": "stream",
     "text": [
      "5.330643846646566\n",
      "6.33014491942243\n",
      "7.485966642680836\n",
      "4.105363385328246\n"
     ]
    }
   ],
   "source": [
    "print(6474632/len(df[~((round(df.price)<=5000)|(round(df.price)>=10000000))])) #\n",
    "print(7688632/len(df[~((round(df.price)<=5000)|(round(df.price)>=10000000))]))\n",
    "print(9092500/len(df[~((round(df.price)<=5000)|(round(df.price)>=10000000))]))\n",
    "print(4986399/len(df[~((round(df.price)<=5000)|(round(df.price)>=10000000))]))"
   ]
  },
  {
   "cell_type": "code",
   "execution_count": 34,
   "id": "7092afe7",
   "metadata": {
    "colab": {
     "base_uri": "https://localhost:8080/",
     "height": 112
    },
    "id": "7092afe7",
    "outputId": "2005c7cb-4f57-496f-88b6-bc328670c413"
   },
   "outputs": [
    {
     "data": {
      "text/html": [
       "<div>\n",
       "<style scoped>\n",
       "    .dataframe tbody tr th:only-of-type {\n",
       "        vertical-align: middle;\n",
       "    }\n",
       "\n",
       "    .dataframe tbody tr th {\n",
       "        vertical-align: top;\n",
       "    }\n",
       "\n",
       "    .dataframe thead th {\n",
       "        text-align: right;\n",
       "    }\n",
       "</style>\n",
       "<table border=\"1\" class=\"dataframe\">\n",
       "  <thead>\n",
       "    <tr style=\"text-align: right;\">\n",
       "      <th></th>\n",
       "      <th>price</th>\n",
       "    </tr>\n",
       "    <tr>\n",
       "      <th>year</th>\n",
       "      <th></th>\n",
       "    </tr>\n",
       "  </thead>\n",
       "  <tbody>\n",
       "    <tr>\n",
       "      <th>2015</th>\n",
       "      <td>10500</td>\n",
       "    </tr>\n",
       "    <tr>\n",
       "      <th>2016</th>\n",
       "      <td>10075</td>\n",
       "    </tr>\n",
       "    <tr>\n",
       "      <th>2017</th>\n",
       "      <td>10001</td>\n",
       "    </tr>\n",
       "    <tr>\n",
       "      <th>2018</th>\n",
       "      <td>10035</td>\n",
       "    </tr>\n",
       "    <tr>\n",
       "      <th>2019</th>\n",
       "      <td>10100</td>\n",
       "    </tr>\n",
       "    <tr>\n",
       "      <th>2020</th>\n",
       "      <td>10158</td>\n",
       "    </tr>\n",
       "    <tr>\n",
       "      <th>2021</th>\n",
       "      <td>10100</td>\n",
       "    </tr>\n",
       "    <tr>\n",
       "      <th>2022</th>\n",
       "      <td>10100</td>\n",
       "    </tr>\n",
       "  </tbody>\n",
       "</table>\n",
       "</div>"
      ],
      "text/plain": [
       "      price\n",
       "year       \n",
       "2015  10500\n",
       "2016  10075\n",
       "2017  10001\n",
       "2018  10035\n",
       "2019  10100\n",
       "2020  10158\n",
       "2021  10100\n",
       "2022  10100"
      ]
     },
     "execution_count": 34,
     "metadata": {},
     "output_type": "execute_result"
    }
   ],
   "source": [
    "df[~((round(df.price)<=10000)|(round(df.price)>=10000000))].groupby(['year']).agg({'price':'min'})"
   ]
  },
  {
   "cell_type": "code",
   "execution_count": 35,
   "id": "e4054674",
   "metadata": {
    "colab": {
     "base_uri": "https://localhost:8080/",
     "height": 330
    },
    "id": "e4054674",
    "outputId": "64c62494-2f9b-4a3e-8cff-ef8a48b3e20d"
   },
   "outputs": [
    {
     "data": {
      "text/html": [
       "<div>\n",
       "<style scoped>\n",
       "    .dataframe tbody tr th:only-of-type {\n",
       "        vertical-align: middle;\n",
       "    }\n",
       "\n",
       "    .dataframe tbody tr th {\n",
       "        vertical-align: top;\n",
       "    }\n",
       "\n",
       "    .dataframe thead th {\n",
       "        text-align: right;\n",
       "    }\n",
       "</style>\n",
       "<table border=\"1\" class=\"dataframe\">\n",
       "  <thead>\n",
       "    <tr style=\"text-align: right;\">\n",
       "      <th></th>\n",
       "      <th>Transaction_unique_identifier</th>\n",
       "      <th>price</th>\n",
       "      <th>Date_of_Transfer</th>\n",
       "      <th>postcode</th>\n",
       "      <th>Property_Type</th>\n",
       "      <th>Old/New</th>\n",
       "      <th>Duration</th>\n",
       "      <th>PAON</th>\n",
       "      <th>SAON</th>\n",
       "      <th>Street</th>\n",
       "      <th>Locality</th>\n",
       "      <th>Town/City</th>\n",
       "      <th>District</th>\n",
       "      <th>County</th>\n",
       "      <th>PPDCategory_Type</th>\n",
       "      <th>Record_Status - monthly_file_only</th>\n",
       "      <th>year</th>\n",
       "      <th>month</th>\n",
       "    </tr>\n",
       "  </thead>\n",
       "  <tbody>\n",
       "    <tr>\n",
       "      <th>0</th>\n",
       "      <td>{A094FFB6-5590-4FBE-AE49-1C2B2C1C492D}</td>\n",
       "      <td>417000</td>\n",
       "      <td>2015-01-07</td>\n",
       "      <td>NG31 8NQ</td>\n",
       "      <td>D</td>\n",
       "      <td>N</td>\n",
       "      <td>F</td>\n",
       "      <td>34</td>\n",
       "      <td>None</td>\n",
       "      <td>LOW ROAD</td>\n",
       "      <td>MANTHORPE</td>\n",
       "      <td>GRANTHAM</td>\n",
       "      <td>SOUTH KESTEVEN</td>\n",
       "      <td>LINCOLNSHIRE</td>\n",
       "      <td>A</td>\n",
       "      <td>A</td>\n",
       "      <td>2015</td>\n",
       "      <td>1</td>\n",
       "    </tr>\n",
       "    <tr>\n",
       "      <th>1</th>\n",
       "      <td>{21E5FEB5-F732-2439-E050-A8C06205342E}</td>\n",
       "      <td>90000</td>\n",
       "      <td>2015-01-13</td>\n",
       "      <td>IG11 8LE</td>\n",
       "      <td>F</td>\n",
       "      <td>N</td>\n",
       "      <td>L</td>\n",
       "      <td>ASHDOWN COURT</td>\n",
       "      <td>FLAT 2</td>\n",
       "      <td>HARTS LANE</td>\n",
       "      <td>None</td>\n",
       "      <td>BARKING</td>\n",
       "      <td>BARKING AND DAGENHAM</td>\n",
       "      <td>GREATER LONDON</td>\n",
       "      <td>B</td>\n",
       "      <td>A</td>\n",
       "      <td>2015</td>\n",
       "      <td>1</td>\n",
       "    </tr>\n",
       "    <tr>\n",
       "      <th>2</th>\n",
       "      <td>{6C2DE40E-C33F-460D-9F2F-C146CCF456AA}</td>\n",
       "      <td>550000</td>\n",
       "      <td>2015-01-30</td>\n",
       "      <td>SE16 7TU</td>\n",
       "      <td>F</td>\n",
       "      <td>N</td>\n",
       "      <td>L</td>\n",
       "      <td>CABLE COURT, 357</td>\n",
       "      <td>FLAT 12</td>\n",
       "      <td>ROPE STREET</td>\n",
       "      <td>None</td>\n",
       "      <td>LONDON</td>\n",
       "      <td>SOUTHWARK</td>\n",
       "      <td>GREATER LONDON</td>\n",
       "      <td>A</td>\n",
       "      <td>A</td>\n",
       "      <td>2015</td>\n",
       "      <td>1</td>\n",
       "    </tr>\n",
       "    <tr>\n",
       "      <th>3</th>\n",
       "      <td>{13F1F69A-9CB8-405D-B84E-EF8D39B080F4}</td>\n",
       "      <td>98000</td>\n",
       "      <td>2015-01-07</td>\n",
       "      <td>PE30 2LY</td>\n",
       "      <td>T</td>\n",
       "      <td>N</td>\n",
       "      <td>F</td>\n",
       "      <td>7</td>\n",
       "      <td>None</td>\n",
       "      <td>CROWN SQUARE</td>\n",
       "      <td>None</td>\n",
       "      <td>KING'S LYNN</td>\n",
       "      <td>KING'S LYNN AND WEST NORFOLK</td>\n",
       "      <td>NORFOLK</td>\n",
       "      <td>A</td>\n",
       "      <td>A</td>\n",
       "      <td>2015</td>\n",
       "      <td>1</td>\n",
       "    </tr>\n",
       "    <tr>\n",
       "      <th>4</th>\n",
       "      <td>{3AA07540-CA7C-405C-8C89-180F5E886891}</td>\n",
       "      <td>276000</td>\n",
       "      <td>2015-01-05</td>\n",
       "      <td>BN14 7LB</td>\n",
       "      <td>S</td>\n",
       "      <td>N</td>\n",
       "      <td>F</td>\n",
       "      <td>20</td>\n",
       "      <td>None</td>\n",
       "      <td>WESTLAND AVENUE</td>\n",
       "      <td>None</td>\n",
       "      <td>WORTHING</td>\n",
       "      <td>WORTHING</td>\n",
       "      <td>WEST SUSSEX</td>\n",
       "      <td>A</td>\n",
       "      <td>A</td>\n",
       "      <td>2015</td>\n",
       "      <td>1</td>\n",
       "    </tr>\n",
       "  </tbody>\n",
       "</table>\n",
       "</div>"
      ],
      "text/plain": [
       "            Transaction_unique_identifier   price Date_of_Transfer  postcode  \\\n",
       "0  {A094FFB6-5590-4FBE-AE49-1C2B2C1C492D}  417000       2015-01-07  NG31 8NQ   \n",
       "1  {21E5FEB5-F732-2439-E050-A8C06205342E}   90000       2015-01-13  IG11 8LE   \n",
       "2  {6C2DE40E-C33F-460D-9F2F-C146CCF456AA}  550000       2015-01-30  SE16 7TU   \n",
       "3  {13F1F69A-9CB8-405D-B84E-EF8D39B080F4}   98000       2015-01-07  PE30 2LY   \n",
       "4  {3AA07540-CA7C-405C-8C89-180F5E886891}  276000       2015-01-05  BN14 7LB   \n",
       "\n",
       "  Property_Type Old/New Duration              PAON     SAON           Street  \\\n",
       "0             D       N        F                34     None         LOW ROAD   \n",
       "1             F       N        L     ASHDOWN COURT   FLAT 2       HARTS LANE   \n",
       "2             F       N        L  CABLE COURT, 357  FLAT 12      ROPE STREET   \n",
       "3             T       N        F                 7     None     CROWN SQUARE   \n",
       "4             S       N        F                20     None  WESTLAND AVENUE   \n",
       "\n",
       "    Locality    Town/City                      District          County  \\\n",
       "0  MANTHORPE     GRANTHAM                SOUTH KESTEVEN    LINCOLNSHIRE   \n",
       "1       None      BARKING          BARKING AND DAGENHAM  GREATER LONDON   \n",
       "2       None       LONDON                     SOUTHWARK  GREATER LONDON   \n",
       "3       None  KING'S LYNN  KING'S LYNN AND WEST NORFOLK         NORFOLK   \n",
       "4       None     WORTHING                      WORTHING     WEST SUSSEX   \n",
       "\n",
       "  PPDCategory_Type Record_Status - monthly_file_only  year  month  \n",
       "0                A                                 A  2015      1  \n",
       "1                B                                 A  2015      1  \n",
       "2                A                                 A  2015      1  \n",
       "3                A                                 A  2015      1  \n",
       "4                A                                 A  2015      1  "
      ]
     },
     "execution_count": 35,
     "metadata": {},
     "output_type": "execute_result"
    }
   ],
   "source": [
    "df.head()"
   ]
  },
  {
   "cell_type": "code",
   "execution_count": 36,
   "id": "0504afff",
   "metadata": {
    "id": "0504afff"
   },
   "outputs": [],
   "source": [
    "df.loc[df.index[((round(df.price)>=5000)&(round(df.price)<150000))],'Flag']= 'Low'\n",
    "df.loc[df.index[((round(df.price)>=150000)&(round(df.price)<270000))],'Flag']= 'Medium' # Low\n",
    "df.loc[df.index[((round(df.price)>=270000)&(round(df.price)<400000))],'Flag']= 'High' # Moderate\n",
    "df.loc[df.index[((round(df.price)>=400000)&(round(df.price)<=10000000))],'Flag']= 'Very High' # High"
   ]
  },
  {
   "cell_type": "code",
   "execution_count": 37,
   "id": "e1b1016c",
   "metadata": {
    "colab": {
     "base_uri": "https://localhost:8080/"
    },
    "id": "e1b1016c",
    "outputId": "ce56e4cf-d615-4615-9286-e6a9dc100c88"
   },
   "outputs": [
    {
     "data": {
      "text/plain": [
       "Medium       402406\n",
       "Low          300527\n",
       "Very High    260271\n",
       "High         251948\n",
       "NaN            4357\n",
       "Name: Flag, dtype: int64"
      ]
     },
     "execution_count": 37,
     "metadata": {},
     "output_type": "execute_result"
    }
   ],
   "source": [
    "df.Flag.value_counts(dropna=False)"
   ]
  },
  {
   "cell_type": "code",
   "execution_count": 38,
   "id": "bc3d57d2",
   "metadata": {
    "colab": {
     "base_uri": "https://localhost:8080/",
     "height": 330
    },
    "id": "bc3d57d2",
    "outputId": "f934e6dd-ecbe-4070-be54-9fe75b05959b"
   },
   "outputs": [
    {
     "data": {
      "text/html": [
       "<div>\n",
       "<style scoped>\n",
       "    .dataframe tbody tr th:only-of-type {\n",
       "        vertical-align: middle;\n",
       "    }\n",
       "\n",
       "    .dataframe tbody tr th {\n",
       "        vertical-align: top;\n",
       "    }\n",
       "\n",
       "    .dataframe thead th {\n",
       "        text-align: right;\n",
       "    }\n",
       "</style>\n",
       "<table border=\"1\" class=\"dataframe\">\n",
       "  <thead>\n",
       "    <tr style=\"text-align: right;\">\n",
       "      <th></th>\n",
       "      <th>Transaction_unique_identifier</th>\n",
       "      <th>price</th>\n",
       "      <th>Date_of_Transfer</th>\n",
       "      <th>postcode</th>\n",
       "      <th>Property_Type</th>\n",
       "      <th>Old/New</th>\n",
       "      <th>Duration</th>\n",
       "      <th>PAON</th>\n",
       "      <th>SAON</th>\n",
       "      <th>Street</th>\n",
       "      <th>Locality</th>\n",
       "      <th>Town/City</th>\n",
       "      <th>District</th>\n",
       "      <th>County</th>\n",
       "      <th>PPDCategory_Type</th>\n",
       "      <th>Record_Status - monthly_file_only</th>\n",
       "      <th>year</th>\n",
       "      <th>month</th>\n",
       "      <th>Flag</th>\n",
       "    </tr>\n",
       "  </thead>\n",
       "  <tbody>\n",
       "    <tr>\n",
       "      <th>565</th>\n",
       "      <td>{21E5FEB7-915A-2439-E050-A8C06205342E}</td>\n",
       "      <td>54900000</td>\n",
       "      <td>2015-01-19</td>\n",
       "      <td>W6 7EF</td>\n",
       "      <td>O</td>\n",
       "      <td>N</td>\n",
       "      <td>F</td>\n",
       "      <td>ELMS HOUSE, 43</td>\n",
       "      <td>None</td>\n",
       "      <td>BROOK GREEN</td>\n",
       "      <td>None</td>\n",
       "      <td>LONDON</td>\n",
       "      <td>HAMMERSMITH AND FULHAM</td>\n",
       "      <td>GREATER LONDON</td>\n",
       "      <td>B</td>\n",
       "      <td>A</td>\n",
       "      <td>2015</td>\n",
       "      <td>1</td>\n",
       "      <td>NaN</td>\n",
       "    </tr>\n",
       "    <tr>\n",
       "      <th>1714</th>\n",
       "      <td>{21E5FEB7-071C-2439-E050-A8C06205342E}</td>\n",
       "      <td>19972500</td>\n",
       "      <td>2015-01-29</td>\n",
       "      <td>EX2 4TA</td>\n",
       "      <td>O</td>\n",
       "      <td>N</td>\n",
       "      <td>L</td>\n",
       "      <td>73 - 75</td>\n",
       "      <td>None</td>\n",
       "      <td>MAGDALEN ROAD</td>\n",
       "      <td>None</td>\n",
       "      <td>EXETER</td>\n",
       "      <td>EXETER</td>\n",
       "      <td>DEVON</td>\n",
       "      <td>B</td>\n",
       "      <td>A</td>\n",
       "      <td>2015</td>\n",
       "      <td>1</td>\n",
       "      <td>NaN</td>\n",
       "    </tr>\n",
       "    <tr>\n",
       "      <th>2620</th>\n",
       "      <td>{21E5FEB7-7153-2439-E050-A8C06205342E}</td>\n",
       "      <td>15133249</td>\n",
       "      <td>2015-01-15</td>\n",
       "      <td>M22 0RR</td>\n",
       "      <td>O</td>\n",
       "      <td>N</td>\n",
       "      <td>L</td>\n",
       "      <td>ROWAN COURT</td>\n",
       "      <td>None</td>\n",
       "      <td>CONCORD BUSINESS PARK</td>\n",
       "      <td>None</td>\n",
       "      <td>MANCHESTER</td>\n",
       "      <td>MANCHESTER</td>\n",
       "      <td>GREATER MANCHESTER</td>\n",
       "      <td>B</td>\n",
       "      <td>A</td>\n",
       "      <td>2015</td>\n",
       "      <td>1</td>\n",
       "      <td>NaN</td>\n",
       "    </tr>\n",
       "    <tr>\n",
       "      <th>3232</th>\n",
       "      <td>{21E5FEB7-01BE-2439-E050-A8C06205342E}</td>\n",
       "      <td>1950</td>\n",
       "      <td>2015-01-24</td>\n",
       "      <td>LS2 7JF</td>\n",
       "      <td>O</td>\n",
       "      <td>N</td>\n",
       "      <td>L</td>\n",
       "      <td>LEEMING HOUSE</td>\n",
       "      <td>None</td>\n",
       "      <td>VICAR LANE</td>\n",
       "      <td>None</td>\n",
       "      <td>LEEDS</td>\n",
       "      <td>LEEDS</td>\n",
       "      <td>WEST YORKSHIRE</td>\n",
       "      <td>B</td>\n",
       "      <td>A</td>\n",
       "      <td>2015</td>\n",
       "      <td>1</td>\n",
       "      <td>NaN</td>\n",
       "    </tr>\n",
       "    <tr>\n",
       "      <th>3712</th>\n",
       "      <td>{21E5FEB7-1F07-2439-E050-A8C06205342E}</td>\n",
       "      <td>15000000</td>\n",
       "      <td>2015-01-30</td>\n",
       "      <td>CM2 8XB</td>\n",
       "      <td>O</td>\n",
       "      <td>N</td>\n",
       "      <td>F</td>\n",
       "      <td>THE TEMPLE</td>\n",
       "      <td>None</td>\n",
       "      <td>SHIP ROAD</td>\n",
       "      <td>WEST HANNINGFIELD</td>\n",
       "      <td>CHELMSFORD</td>\n",
       "      <td>CHELMSFORD</td>\n",
       "      <td>ESSEX</td>\n",
       "      <td>B</td>\n",
       "      <td>A</td>\n",
       "      <td>2015</td>\n",
       "      <td>1</td>\n",
       "      <td>NaN</td>\n",
       "    </tr>\n",
       "  </tbody>\n",
       "</table>\n",
       "</div>"
      ],
      "text/plain": [
       "               Transaction_unique_identifier     price Date_of_Transfer  \\\n",
       "565   {21E5FEB7-915A-2439-E050-A8C06205342E}  54900000       2015-01-19   \n",
       "1714  {21E5FEB7-071C-2439-E050-A8C06205342E}  19972500       2015-01-29   \n",
       "2620  {21E5FEB7-7153-2439-E050-A8C06205342E}  15133249       2015-01-15   \n",
       "3232  {21E5FEB7-01BE-2439-E050-A8C06205342E}      1950       2015-01-24   \n",
       "3712  {21E5FEB7-1F07-2439-E050-A8C06205342E}  15000000       2015-01-30   \n",
       "\n",
       "     postcode Property_Type Old/New Duration            PAON  SAON  \\\n",
       "565    W6 7EF             O       N        F  ELMS HOUSE, 43  None   \n",
       "1714  EX2 4TA             O       N        L         73 - 75  None   \n",
       "2620  M22 0RR             O       N        L     ROWAN COURT  None   \n",
       "3232  LS2 7JF             O       N        L   LEEMING HOUSE  None   \n",
       "3712  CM2 8XB             O       N        F      THE TEMPLE  None   \n",
       "\n",
       "                     Street           Locality   Town/City  \\\n",
       "565             BROOK GREEN               None      LONDON   \n",
       "1714          MAGDALEN ROAD               None      EXETER   \n",
       "2620  CONCORD BUSINESS PARK               None  MANCHESTER   \n",
       "3232             VICAR LANE               None       LEEDS   \n",
       "3712              SHIP ROAD  WEST HANNINGFIELD  CHELMSFORD   \n",
       "\n",
       "                    District              County PPDCategory_Type  \\\n",
       "565   HAMMERSMITH AND FULHAM      GREATER LONDON                B   \n",
       "1714                  EXETER               DEVON                B   \n",
       "2620              MANCHESTER  GREATER MANCHESTER                B   \n",
       "3232                   LEEDS      WEST YORKSHIRE                B   \n",
       "3712              CHELMSFORD               ESSEX                B   \n",
       "\n",
       "     Record_Status - monthly_file_only  year  month Flag  \n",
       "565                                  A  2015      1  NaN  \n",
       "1714                                 A  2015      1  NaN  \n",
       "2620                                 A  2015      1  NaN  \n",
       "3232                                 A  2015      1  NaN  \n",
       "3712                                 A  2015      1  NaN  "
      ]
     },
     "execution_count": 38,
     "metadata": {},
     "output_type": "execute_result"
    }
   ],
   "source": [
    "df[df.Flag.isnull()].head()"
   ]
  },
  {
   "cell_type": "code",
   "execution_count": 39,
   "id": "eff35bf3",
   "metadata": {
    "id": "eff35bf3"
   },
   "outputs": [],
   "source": [
    "# print(df.shape)\n",
    "# dfwithoutNaN = df.dropna(subset=['Flag'])\n",
    "# print(dfwithoutNaN.shape)"
   ]
  },
  {
   "cell_type": "code",
   "execution_count": 40,
   "id": "1220f699",
   "metadata": {
    "id": "1220f699"
   },
   "outputs": [],
   "source": [
    "# print(dfwithoutNaN.Flag.value_counts(dropna=False))\n",
    "# del dfwithoutNaN"
   ]
  },
  {
   "cell_type": "code",
   "execution_count": 41,
   "id": "322edcc0",
   "metadata": {
    "colab": {
     "base_uri": "https://localhost:8080/",
     "height": 653
    },
    "id": "322edcc0",
    "outputId": "7dd2dc79-57e8-4bf5-bc40-4df8004e246d"
   },
   "outputs": [
    {
     "data": {
      "image/png": "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",
      "text/plain": [
       "<Figure size 800x800 with 1 Axes>"
      ]
     },
     "metadata": {},
     "output_type": "display_data"
    }
   ],
   "source": [
    "\n",
    "labels = df['Flag'].astype('category').cat.categories. tolist()\n",
    "counts = df['Flag'].value_counts()\n",
    "sizes = [counts[var_cat] for var_cat in labels]\n",
    "figi, ax1 = plt. subplots (figsize = (8,8))\n",
    "ax1. pie(sizes, labels=labels, autopct='%1.1f%%', shadow=True)\n",
    "ax1. axis ('equal')\n",
    "plt. show()"
   ]
  },
  {
   "cell_type": "code",
   "execution_count": 42,
   "id": "c94ed6ed",
   "metadata": {
    "colab": {
     "base_uri": "https://localhost:8080/"
    },
    "id": "c94ed6ed",
    "outputId": "02eeb42f-9ffa-4e3b-a7e5-9ee163f67f33"
   },
   "outputs": [
    {
     "name": "stdout",
     "output_type": "stream",
     "text": [
      "Index(['Transaction_unique_identifier', 'price', 'Date_of_Transfer',\n",
      "       'postcode', 'Property_Type', 'Old/New', 'Duration', 'PAON', 'SAON',\n",
      "       'Street', 'Locality', 'Town/City', 'District', 'County',\n",
      "       'PPDCategory_Type', 'Record_Status - monthly_file_only', 'year',\n",
      "       'month', 'Flag'],\n",
      "      dtype='object')\n"
     ]
    },
    {
     "data": {
      "text/plain": [
       "Transaction_unique_identifier                object\n",
       "price                                         int64\n",
       "Date_of_Transfer                     datetime64[ns]\n",
       "postcode                                     object\n",
       "Property_Type                                object\n",
       "Old/New                                      object\n",
       "Duration                                     object\n",
       "PAON                                         object\n",
       "SAON                                         object\n",
       "Street                                       object\n",
       "Locality                                     object\n",
       "Town/City                                    object\n",
       "District                                     object\n",
       "County                                       object\n",
       "PPDCategory_Type                             object\n",
       "Record_Status - monthly_file_only            object\n",
       "year                                          int64\n",
       "month                                         int64\n",
       "Flag                                         object\n",
       "dtype: object"
      ]
     },
     "execution_count": 42,
     "metadata": {},
     "output_type": "execute_result"
    }
   ],
   "source": [
    "#from pandas_visual_analysis import VisualAnalysis\n",
    "print(df.columns)\n",
    "df.dtypes"
   ]
  },
  {
   "cell_type": "code",
   "execution_count": 43,
   "id": "9e596049",
   "metadata": {
    "colab": {
     "base_uri": "https://localhost:8080/"
    },
    "id": "9e596049",
    "outputId": "da5e07de-ca40-45e0-a611-4d903b802d9b"
   },
   "outputs": [
    {
     "data": {
      "text/plain": [
       "Transaction_unique_identifier        1219509\n",
       "price                                  38929\n",
       "Date_of_Transfer                        2823\n",
       "postcode                              627835\n",
       "Property_Type                              5\n",
       "Old/New                                    2\n",
       "Duration                                   2\n",
       "PAON                                  100926\n",
       "SAON                                   11851\n",
       "Street                                202091\n",
       "Locality                               17446\n",
       "Town/City                               1149\n",
       "District                                 361\n",
       "County                                   117\n",
       "PPDCategory_Type                           2\n",
       "Record_Status - monthly_file_only          1\n",
       "year                                       8\n",
       "month                                     12\n",
       "Flag                                       4\n",
       "dtype: int64"
      ]
     },
     "execution_count": 43,
     "metadata": {},
     "output_type": "execute_result"
    }
   ],
   "source": [
    "df.nunique()"
   ]
  },
  {
   "cell_type": "code",
   "execution_count": 44,
   "id": "18c8f95f",
   "metadata": {},
   "outputs": [
    {
     "name": "stdout",
     "output_type": "stream",
     "text": [
      "(1219509, 19)\n",
      "17446\n"
     ]
    },
    {
     "data": {
      "text/plain": [
       "None         760979\n",
       "MIDDLETON      1289\n",
       "SHIRLEY        1187\n",
       "WORSLEY        1068\n",
       "KINGSWOOD      1042\n",
       "Name: Locality, dtype: int64"
      ]
     },
     "execution_count": 44,
     "metadata": {},
     "output_type": "execute_result"
    }
   ],
   "source": [
    "print(df.shape)\n",
    "print(df.Locality.nunique())\n",
    "df.Locality.value_counts(dropna=False).head()"
   ]
  },
  {
   "cell_type": "code",
   "execution_count": 45,
   "id": "77f7a360",
   "metadata": {},
   "outputs": [
    {
     "data": {
      "text/plain": [
       "A    1047337\n",
       "B     172172\n",
       "Name: PPDCategory_Type, dtype: int64"
      ]
     },
     "execution_count": 45,
     "metadata": {},
     "output_type": "execute_result"
    }
   ],
   "source": [
    "df.PPDCategory_Type.value_counts(dropna=False)"
   ]
  },
  {
   "cell_type": "code",
   "execution_count": 46,
   "id": "d17971d9",
   "metadata": {
    "colab": {
     "base_uri": "https://localhost:8080/",
     "height": 330
    },
    "id": "d17971d9",
    "outputId": "995740f1-7fc0-4f54-de76-b97de1d39c77"
   },
   "outputs": [
    {
     "data": {
      "text/html": [
       "<div>\n",
       "<style scoped>\n",
       "    .dataframe tbody tr th:only-of-type {\n",
       "        vertical-align: middle;\n",
       "    }\n",
       "\n",
       "    .dataframe tbody tr th {\n",
       "        vertical-align: top;\n",
       "    }\n",
       "\n",
       "    .dataframe thead th {\n",
       "        text-align: right;\n",
       "    }\n",
       "</style>\n",
       "<table border=\"1\" class=\"dataframe\">\n",
       "  <thead>\n",
       "    <tr style=\"text-align: right;\">\n",
       "      <th></th>\n",
       "      <th>Transaction_unique_identifier</th>\n",
       "      <th>price</th>\n",
       "      <th>Date_of_Transfer</th>\n",
       "      <th>postcode</th>\n",
       "      <th>Property_Type</th>\n",
       "      <th>Old/New</th>\n",
       "      <th>Duration</th>\n",
       "      <th>PAON</th>\n",
       "      <th>SAON</th>\n",
       "      <th>Street</th>\n",
       "      <th>Locality</th>\n",
       "      <th>Town/City</th>\n",
       "      <th>District</th>\n",
       "      <th>County</th>\n",
       "      <th>PPDCategory_Type</th>\n",
       "      <th>Record_Status - monthly_file_only</th>\n",
       "      <th>year</th>\n",
       "      <th>month</th>\n",
       "      <th>Flag</th>\n",
       "    </tr>\n",
       "  </thead>\n",
       "  <tbody>\n",
       "    <tr>\n",
       "      <th>0</th>\n",
       "      <td>{A094FFB6-5590-4FBE-AE49-1C2B2C1C492D}</td>\n",
       "      <td>417000</td>\n",
       "      <td>2015-01-07</td>\n",
       "      <td>NG31 8NQ</td>\n",
       "      <td>D</td>\n",
       "      <td>N</td>\n",
       "      <td>F</td>\n",
       "      <td>34</td>\n",
       "      <td>None</td>\n",
       "      <td>LOW ROAD</td>\n",
       "      <td>MANTHORPE</td>\n",
       "      <td>GRANTHAM</td>\n",
       "      <td>SOUTH KESTEVEN</td>\n",
       "      <td>LINCOLNSHIRE</td>\n",
       "      <td>A</td>\n",
       "      <td>A</td>\n",
       "      <td>2015</td>\n",
       "      <td>1</td>\n",
       "      <td>Very High</td>\n",
       "    </tr>\n",
       "    <tr>\n",
       "      <th>1</th>\n",
       "      <td>{21E5FEB5-F732-2439-E050-A8C06205342E}</td>\n",
       "      <td>90000</td>\n",
       "      <td>2015-01-13</td>\n",
       "      <td>IG11 8LE</td>\n",
       "      <td>F</td>\n",
       "      <td>N</td>\n",
       "      <td>L</td>\n",
       "      <td>ASHDOWN COURT</td>\n",
       "      <td>FLAT 2</td>\n",
       "      <td>HARTS LANE</td>\n",
       "      <td>None</td>\n",
       "      <td>BARKING</td>\n",
       "      <td>BARKING AND DAGENHAM</td>\n",
       "      <td>GREATER LONDON</td>\n",
       "      <td>B</td>\n",
       "      <td>A</td>\n",
       "      <td>2015</td>\n",
       "      <td>1</td>\n",
       "      <td>Low</td>\n",
       "    </tr>\n",
       "    <tr>\n",
       "      <th>2</th>\n",
       "      <td>{6C2DE40E-C33F-460D-9F2F-C146CCF456AA}</td>\n",
       "      <td>550000</td>\n",
       "      <td>2015-01-30</td>\n",
       "      <td>SE16 7TU</td>\n",
       "      <td>F</td>\n",
       "      <td>N</td>\n",
       "      <td>L</td>\n",
       "      <td>CABLE COURT, 357</td>\n",
       "      <td>FLAT 12</td>\n",
       "      <td>ROPE STREET</td>\n",
       "      <td>None</td>\n",
       "      <td>LONDON</td>\n",
       "      <td>SOUTHWARK</td>\n",
       "      <td>GREATER LONDON</td>\n",
       "      <td>A</td>\n",
       "      <td>A</td>\n",
       "      <td>2015</td>\n",
       "      <td>1</td>\n",
       "      <td>Very High</td>\n",
       "    </tr>\n",
       "    <tr>\n",
       "      <th>3</th>\n",
       "      <td>{13F1F69A-9CB8-405D-B84E-EF8D39B080F4}</td>\n",
       "      <td>98000</td>\n",
       "      <td>2015-01-07</td>\n",
       "      <td>PE30 2LY</td>\n",
       "      <td>T</td>\n",
       "      <td>N</td>\n",
       "      <td>F</td>\n",
       "      <td>7</td>\n",
       "      <td>None</td>\n",
       "      <td>CROWN SQUARE</td>\n",
       "      <td>None</td>\n",
       "      <td>KING'S LYNN</td>\n",
       "      <td>KING'S LYNN AND WEST NORFOLK</td>\n",
       "      <td>NORFOLK</td>\n",
       "      <td>A</td>\n",
       "      <td>A</td>\n",
       "      <td>2015</td>\n",
       "      <td>1</td>\n",
       "      <td>Low</td>\n",
       "    </tr>\n",
       "    <tr>\n",
       "      <th>4</th>\n",
       "      <td>{3AA07540-CA7C-405C-8C89-180F5E886891}</td>\n",
       "      <td>276000</td>\n",
       "      <td>2015-01-05</td>\n",
       "      <td>BN14 7LB</td>\n",
       "      <td>S</td>\n",
       "      <td>N</td>\n",
       "      <td>F</td>\n",
       "      <td>20</td>\n",
       "      <td>None</td>\n",
       "      <td>WESTLAND AVENUE</td>\n",
       "      <td>None</td>\n",
       "      <td>WORTHING</td>\n",
       "      <td>WORTHING</td>\n",
       "      <td>WEST SUSSEX</td>\n",
       "      <td>A</td>\n",
       "      <td>A</td>\n",
       "      <td>2015</td>\n",
       "      <td>1</td>\n",
       "      <td>High</td>\n",
       "    </tr>\n",
       "  </tbody>\n",
       "</table>\n",
       "</div>"
      ],
      "text/plain": [
       "            Transaction_unique_identifier   price Date_of_Transfer  postcode  \\\n",
       "0  {A094FFB6-5590-4FBE-AE49-1C2B2C1C492D}  417000       2015-01-07  NG31 8NQ   \n",
       "1  {21E5FEB5-F732-2439-E050-A8C06205342E}   90000       2015-01-13  IG11 8LE   \n",
       "2  {6C2DE40E-C33F-460D-9F2F-C146CCF456AA}  550000       2015-01-30  SE16 7TU   \n",
       "3  {13F1F69A-9CB8-405D-B84E-EF8D39B080F4}   98000       2015-01-07  PE30 2LY   \n",
       "4  {3AA07540-CA7C-405C-8C89-180F5E886891}  276000       2015-01-05  BN14 7LB   \n",
       "\n",
       "  Property_Type Old/New Duration              PAON     SAON           Street  \\\n",
       "0             D       N        F                34     None         LOW ROAD   \n",
       "1             F       N        L     ASHDOWN COURT   FLAT 2       HARTS LANE   \n",
       "2             F       N        L  CABLE COURT, 357  FLAT 12      ROPE STREET   \n",
       "3             T       N        F                 7     None     CROWN SQUARE   \n",
       "4             S       N        F                20     None  WESTLAND AVENUE   \n",
       "\n",
       "    Locality    Town/City                      District          County  \\\n",
       "0  MANTHORPE     GRANTHAM                SOUTH KESTEVEN    LINCOLNSHIRE   \n",
       "1       None      BARKING          BARKING AND DAGENHAM  GREATER LONDON   \n",
       "2       None       LONDON                     SOUTHWARK  GREATER LONDON   \n",
       "3       None  KING'S LYNN  KING'S LYNN AND WEST NORFOLK         NORFOLK   \n",
       "4       None     WORTHING                      WORTHING     WEST SUSSEX   \n",
       "\n",
       "  PPDCategory_Type Record_Status - monthly_file_only  year  month       Flag  \n",
       "0                A                                 A  2015      1  Very High  \n",
       "1                B                                 A  2015      1        Low  \n",
       "2                A                                 A  2015      1  Very High  \n",
       "3                A                                 A  2015      1        Low  \n",
       "4                A                                 A  2015      1       High  "
      ]
     },
     "execution_count": 46,
     "metadata": {},
     "output_type": "execute_result"
    }
   ],
   "source": [
    "df.head()"
   ]
  },
  {
   "cell_type": "code",
   "execution_count": 47,
   "id": "83406b34",
   "metadata": {
    "id": "83406b34"
   },
   "outputs": [],
   "source": [
    "from sklearn.preprocessing import LabelEncoder\n",
    "\n",
    "label_encoder = LabelEncoder()\n",
    "df['Street_encoded'] = label_encoder.fit_transform(df['Street'])\n",
    "df['Locality_encoded'] = label_encoder.fit_transform(df['Locality'])\n",
    "df['Town/City_encoded'] = label_encoder.fit_transform(df['Town/City'])\n",
    "df['District_encoded'] = label_encoder.fit_transform(df['District'])\n",
    "df['County_encoded'] = label_encoder.fit_transform(df['County'])\n",
    "\n",
    "df['postcode_encoded'] = label_encoder.fit_transform(df['postcode'])\n",
    "df['Property_Type_encoded'] = label_encoder.fit_transform(df['Property_Type'])\n",
    "df['Old/New_encoded'] = label_encoder.fit_transform(df['Old/New'])\n",
    "df['Duration_encoded'] = label_encoder.fit_transform(df['Duration'])\n",
    "df['PAON_encoded'] = label_encoder.fit_transform(df['PAON'])\n",
    "df['SAON_encoded'] = label_encoder.fit_transform(df['SAON'])\n",
    "df['PPDCategory_Type_encoded'] = label_encoder.fit_transform(df['PPDCategory_Type'])"
   ]
  },
  {
   "cell_type": "code",
   "execution_count": 48,
   "id": "99f1e014",
   "metadata": {
    "colab": {
     "base_uri": "https://localhost:8080/",
     "height": 330
    },
    "id": "99f1e014",
    "outputId": "bd07575f-9dc6-4a4e-ad69-50f6973bcb94"
   },
   "outputs": [
    {
     "data": {
      "text/html": [
       "<div>\n",
       "<style scoped>\n",
       "    .dataframe tbody tr th:only-of-type {\n",
       "        vertical-align: middle;\n",
       "    }\n",
       "\n",
       "    .dataframe tbody tr th {\n",
       "        vertical-align: top;\n",
       "    }\n",
       "\n",
       "    .dataframe thead th {\n",
       "        text-align: right;\n",
       "    }\n",
       "</style>\n",
       "<table border=\"1\" class=\"dataframe\">\n",
       "  <thead>\n",
       "    <tr style=\"text-align: right;\">\n",
       "      <th></th>\n",
       "      <th>Transaction_unique_identifier</th>\n",
       "      <th>price</th>\n",
       "      <th>Date_of_Transfer</th>\n",
       "      <th>postcode</th>\n",
       "      <th>Property_Type</th>\n",
       "      <th>Old/New</th>\n",
       "      <th>Duration</th>\n",
       "      <th>PAON</th>\n",
       "      <th>SAON</th>\n",
       "      <th>Street</th>\n",
       "      <th>Locality</th>\n",
       "      <th>Town/City</th>\n",
       "      <th>District</th>\n",
       "      <th>County</th>\n",
       "      <th>PPDCategory_Type</th>\n",
       "      <th>Record_Status - monthly_file_only</th>\n",
       "      <th>year</th>\n",
       "      <th>month</th>\n",
       "      <th>Flag</th>\n",
       "      <th>Street_encoded</th>\n",
       "      <th>Locality_encoded</th>\n",
       "      <th>Town/City_encoded</th>\n",
       "      <th>District_encoded</th>\n",
       "      <th>County_encoded</th>\n",
       "      <th>postcode_encoded</th>\n",
       "      <th>Property_Type_encoded</th>\n",
       "      <th>Old/New_encoded</th>\n",
       "      <th>Duration_encoded</th>\n",
       "      <th>PAON_encoded</th>\n",
       "      <th>SAON_encoded</th>\n",
       "      <th>PPDCategory_Type_encoded</th>\n",
       "    </tr>\n",
       "  </thead>\n",
       "  <tbody>\n",
       "    <tr>\n",
       "      <th>0</th>\n",
       "      <td>{A094FFB6-5590-4FBE-AE49-1C2B2C1C492D}</td>\n",
       "      <td>417000</td>\n",
       "      <td>2015-01-07</td>\n",
       "      <td>NG31 8NQ</td>\n",
       "      <td>D</td>\n",
       "      <td>N</td>\n",
       "      <td>F</td>\n",
       "      <td>34</td>\n",
       "      <td>None</td>\n",
       "      <td>LOW ROAD</td>\n",
       "      <td>MANTHORPE</td>\n",
       "      <td>GRANTHAM</td>\n",
       "      <td>SOUTH KESTEVEN</td>\n",
       "      <td>LINCOLNSHIRE</td>\n",
       "      <td>A</td>\n",
       "      <td>A</td>\n",
       "      <td>2015</td>\n",
       "      <td>1</td>\n",
       "      <td>Very High</td>\n",
       "      <td>111486</td>\n",
       "      <td>9752</td>\n",
       "      <td>416</td>\n",
       "      <td>269</td>\n",
       "      <td>55</td>\n",
       "      <td>354197</td>\n",
       "      <td>0</td>\n",
       "      <td>0</td>\n",
       "      <td>0</td>\n",
       "      <td>3061</td>\n",
       "      <td>11851</td>\n",
       "      <td>0</td>\n",
       "    </tr>\n",
       "    <tr>\n",
       "      <th>1</th>\n",
       "      <td>{21E5FEB5-F732-2439-E050-A8C06205342E}</td>\n",
       "      <td>90000</td>\n",
       "      <td>2015-01-13</td>\n",
       "      <td>IG11 8LE</td>\n",
       "      <td>F</td>\n",
       "      <td>N</td>\n",
       "      <td>L</td>\n",
       "      <td>ASHDOWN COURT</td>\n",
       "      <td>FLAT 2</td>\n",
       "      <td>HARTS LANE</td>\n",
       "      <td>None</td>\n",
       "      <td>BARKING</td>\n",
       "      <td>BARKING AND DAGENHAM</td>\n",
       "      <td>GREATER LONDON</td>\n",
       "      <td>B</td>\n",
       "      <td>A</td>\n",
       "      <td>2015</td>\n",
       "      <td>1</td>\n",
       "      <td>Low</td>\n",
       "      <td>82447</td>\n",
       "      <td>17446</td>\n",
       "      <td>59</td>\n",
       "      <td>8</td>\n",
       "      <td>40</td>\n",
       "      <td>238921</td>\n",
       "      <td>1</td>\n",
       "      <td>0</td>\n",
       "      <td>1</td>\n",
       "      <td>9015</td>\n",
       "      <td>5399</td>\n",
       "      <td>1</td>\n",
       "    </tr>\n",
       "    <tr>\n",
       "      <th>2</th>\n",
       "      <td>{6C2DE40E-C33F-460D-9F2F-C146CCF456AA}</td>\n",
       "      <td>550000</td>\n",
       "      <td>2015-01-30</td>\n",
       "      <td>SE16 7TU</td>\n",
       "      <td>F</td>\n",
       "      <td>N</td>\n",
       "      <td>L</td>\n",
       "      <td>CABLE COURT, 357</td>\n",
       "      <td>FLAT 12</td>\n",
       "      <td>ROPE STREET</td>\n",
       "      <td>None</td>\n",
       "      <td>LONDON</td>\n",
       "      <td>SOUTHWARK</td>\n",
       "      <td>GREATER LONDON</td>\n",
       "      <td>A</td>\n",
       "      <td>A</td>\n",
       "      <td>2015</td>\n",
       "      <td>1</td>\n",
       "      <td>Very High</td>\n",
       "      <td>152128</td>\n",
       "      <td>17446</td>\n",
       "      <td>613</td>\n",
       "      <td>280</td>\n",
       "      <td>40</td>\n",
       "      <td>477438</td>\n",
       "      <td>1</td>\n",
       "      <td>0</td>\n",
       "      <td>1</td>\n",
       "      <td>18563</td>\n",
       "      <td>5133</td>\n",
       "      <td>0</td>\n",
       "    </tr>\n",
       "    <tr>\n",
       "      <th>3</th>\n",
       "      <td>{13F1F69A-9CB8-405D-B84E-EF8D39B080F4}</td>\n",
       "      <td>98000</td>\n",
       "      <td>2015-01-07</td>\n",
       "      <td>PE30 2LY</td>\n",
       "      <td>T</td>\n",
       "      <td>N</td>\n",
       "      <td>F</td>\n",
       "      <td>7</td>\n",
       "      <td>None</td>\n",
       "      <td>CROWN SQUARE</td>\n",
       "      <td>None</td>\n",
       "      <td>KING'S LYNN</td>\n",
       "      <td>KING'S LYNN AND WEST NORFOLK</td>\n",
       "      <td>NORFOLK</td>\n",
       "      <td>A</td>\n",
       "      <td>A</td>\n",
       "      <td>2015</td>\n",
       "      <td>1</td>\n",
       "      <td>Low</td>\n",
       "      <td>47609</td>\n",
       "      <td>17446</td>\n",
       "      <td>532</td>\n",
       "      <td>163</td>\n",
       "      <td>65</td>\n",
       "      <td>405209</td>\n",
       "      <td>4</td>\n",
       "      <td>0</td>\n",
       "      <td>0</td>\n",
       "      <td>4756</td>\n",
       "      <td>11851</td>\n",
       "      <td>0</td>\n",
       "    </tr>\n",
       "    <tr>\n",
       "      <th>4</th>\n",
       "      <td>{3AA07540-CA7C-405C-8C89-180F5E886891}</td>\n",
       "      <td>276000</td>\n",
       "      <td>2015-01-05</td>\n",
       "      <td>BN14 7LB</td>\n",
       "      <td>S</td>\n",
       "      <td>N</td>\n",
       "      <td>F</td>\n",
       "      <td>20</td>\n",
       "      <td>None</td>\n",
       "      <td>WESTLAND AVENUE</td>\n",
       "      <td>None</td>\n",
       "      <td>WORTHING</td>\n",
       "      <td>WORTHING</td>\n",
       "      <td>WEST SUSSEX</td>\n",
       "      <td>A</td>\n",
       "      <td>A</td>\n",
       "      <td>2015</td>\n",
       "      <td>1</td>\n",
       "      <td>High</td>\n",
       "      <td>193224</td>\n",
       "      <td>17446</td>\n",
       "      <td>1136</td>\n",
       "      <td>353</td>\n",
       "      <td>107</td>\n",
       "      <td>51558</td>\n",
       "      <td>3</td>\n",
       "      <td>0</td>\n",
       "      <td>0</td>\n",
       "      <td>1942</td>\n",
       "      <td>11851</td>\n",
       "      <td>0</td>\n",
       "    </tr>\n",
       "  </tbody>\n",
       "</table>\n",
       "</div>"
      ],
      "text/plain": [
       "            Transaction_unique_identifier   price Date_of_Transfer  postcode  \\\n",
       "0  {A094FFB6-5590-4FBE-AE49-1C2B2C1C492D}  417000       2015-01-07  NG31 8NQ   \n",
       "1  {21E5FEB5-F732-2439-E050-A8C06205342E}   90000       2015-01-13  IG11 8LE   \n",
       "2  {6C2DE40E-C33F-460D-9F2F-C146CCF456AA}  550000       2015-01-30  SE16 7TU   \n",
       "3  {13F1F69A-9CB8-405D-B84E-EF8D39B080F4}   98000       2015-01-07  PE30 2LY   \n",
       "4  {3AA07540-CA7C-405C-8C89-180F5E886891}  276000       2015-01-05  BN14 7LB   \n",
       "\n",
       "  Property_Type Old/New Duration              PAON     SAON           Street  \\\n",
       "0             D       N        F                34     None         LOW ROAD   \n",
       "1             F       N        L     ASHDOWN COURT   FLAT 2       HARTS LANE   \n",
       "2             F       N        L  CABLE COURT, 357  FLAT 12      ROPE STREET   \n",
       "3             T       N        F                 7     None     CROWN SQUARE   \n",
       "4             S       N        F                20     None  WESTLAND AVENUE   \n",
       "\n",
       "    Locality    Town/City                      District          County  \\\n",
       "0  MANTHORPE     GRANTHAM                SOUTH KESTEVEN    LINCOLNSHIRE   \n",
       "1       None      BARKING          BARKING AND DAGENHAM  GREATER LONDON   \n",
       "2       None       LONDON                     SOUTHWARK  GREATER LONDON   \n",
       "3       None  KING'S LYNN  KING'S LYNN AND WEST NORFOLK         NORFOLK   \n",
       "4       None     WORTHING                      WORTHING     WEST SUSSEX   \n",
       "\n",
       "  PPDCategory_Type Record_Status - monthly_file_only  year  month       Flag  \\\n",
       "0                A                                 A  2015      1  Very High   \n",
       "1                B                                 A  2015      1        Low   \n",
       "2                A                                 A  2015      1  Very High   \n",
       "3                A                                 A  2015      1        Low   \n",
       "4                A                                 A  2015      1       High   \n",
       "\n",
       "   Street_encoded  Locality_encoded  Town/City_encoded  District_encoded  \\\n",
       "0          111486              9752                416               269   \n",
       "1           82447             17446                 59                 8   \n",
       "2          152128             17446                613               280   \n",
       "3           47609             17446                532               163   \n",
       "4          193224             17446               1136               353   \n",
       "\n",
       "   County_encoded  postcode_encoded  Property_Type_encoded  Old/New_encoded  \\\n",
       "0              55            354197                      0                0   \n",
       "1              40            238921                      1                0   \n",
       "2              40            477438                      1                0   \n",
       "3              65            405209                      4                0   \n",
       "4             107             51558                      3                0   \n",
       "\n",
       "   Duration_encoded  PAON_encoded  SAON_encoded  PPDCategory_Type_encoded  \n",
       "0                 0          3061         11851                         0  \n",
       "1                 1          9015          5399                         1  \n",
       "2                 1         18563          5133                         0  \n",
       "3                 0          4756         11851                         0  \n",
       "4                 0          1942         11851                         0  "
      ]
     },
     "execution_count": 48,
     "metadata": {},
     "output_type": "execute_result"
    }
   ],
   "source": [
    "df.head()"
   ]
  },
  {
   "cell_type": "code",
   "execution_count": 49,
   "id": "0da8931d",
   "metadata": {
    "colab": {
     "base_uri": "https://localhost:8080/"
    },
    "id": "0da8931d",
    "outputId": "8e0164a1-cab9-4969-bbdd-cb481294fde0"
   },
   "outputs": [
    {
     "data": {
      "text/plain": [
       "array(['34', 'ASHDOWN COURT', 'CABLE COURT, 357', ...,\n",
       "       'TELFORD BUSINESS CENTRE', 'BROME GRANGE HOTEL', 'LIMBER'],\n",
       "      dtype=object)"
      ]
     },
     "execution_count": 49,
     "metadata": {},
     "output_type": "execute_result"
    }
   ],
   "source": [
    "df.PAON.unique()[:]"
   ]
  },
  {
   "cell_type": "code",
   "execution_count": 50,
   "id": "b8d67efb",
   "metadata": {
    "colab": {
     "base_uri": "https://localhost:8080/"
    },
    "id": "b8d67efb",
    "outputId": "2a7d68c6-46bf-448c-a4ab-4d40100699c1"
   },
   "outputs": [
    {
     "data": {
      "text/plain": [
       "Index(['Transaction_unique_identifier', 'price', 'Date_of_Transfer',\n",
       "       'postcode', 'Property_Type', 'Old/New', 'Duration', 'PAON', 'SAON',\n",
       "       'Street', 'Locality', 'Town/City', 'District', 'County',\n",
       "       'PPDCategory_Type', 'Record_Status - monthly_file_only', 'year',\n",
       "       'month', 'Flag', 'Street_encoded', 'Locality_encoded',\n",
       "       'Town/City_encoded', 'District_encoded', 'County_encoded',\n",
       "       'postcode_encoded', 'Property_Type_encoded', 'Old/New_encoded',\n",
       "       'Duration_encoded', 'PAON_encoded', 'SAON_encoded',\n",
       "       'PPDCategory_Type_encoded'],\n",
       "      dtype='object')"
      ]
     },
     "execution_count": 50,
     "metadata": {},
     "output_type": "execute_result"
    }
   ],
   "source": [
    "df.columns"
   ]
  },
  {
   "cell_type": "code",
   "execution_count": 51,
   "id": "ee1e1ada",
   "metadata": {
    "colab": {
     "base_uri": "https://localhost:8080/"
    },
    "id": "ee1e1ada",
    "outputId": "6d13d2e2-3c15-43fc-8ecf-8885c5123120"
   },
   "outputs": [
    {
     "data": {
      "text/plain": [
       "Transaction_unique_identifier                object\n",
       "price                                         int64\n",
       "Date_of_Transfer                     datetime64[ns]\n",
       "postcode                                     object\n",
       "Property_Type                                object\n",
       "Old/New                                      object\n",
       "Duration                                     object\n",
       "PAON                                         object\n",
       "SAON                                         object\n",
       "Street                                       object\n",
       "Locality                                     object\n",
       "Town/City                                    object\n",
       "District                                     object\n",
       "County                                       object\n",
       "PPDCategory_Type                             object\n",
       "Record_Status - monthly_file_only            object\n",
       "year                                          int64\n",
       "month                                         int64\n",
       "Flag                                         object\n",
       "Street_encoded                                int64\n",
       "Locality_encoded                              int64\n",
       "Town/City_encoded                             int64\n",
       "District_encoded                              int64\n",
       "County_encoded                                int64\n",
       "postcode_encoded                              int64\n",
       "Property_Type_encoded                         int64\n",
       "Old/New_encoded                               int64\n",
       "Duration_encoded                              int64\n",
       "PAON_encoded                                  int64\n",
       "SAON_encoded                                  int64\n",
       "PPDCategory_Type_encoded                      int64\n",
       "dtype: object"
      ]
     },
     "execution_count": 51,
     "metadata": {},
     "output_type": "execute_result"
    }
   ],
   "source": [
    "df.dtypes"
   ]
  },
  {
   "cell_type": "code",
   "execution_count": 52,
   "id": "fa0ddb10",
   "metadata": {
    "colab": {
     "base_uri": "https://localhost:8080/"
    },
    "id": "fa0ddb10",
    "outputId": "7ea3ac12-95d8-4f4d-92ef-44ba15c0d52d"
   },
   "outputs": [
    {
     "data": {
      "text/plain": [
       "array(['A'], dtype=object)"
      ]
     },
     "execution_count": 52,
     "metadata": {},
     "output_type": "execute_result"
    }
   ],
   "source": [
    "df['Record_Status - monthly_file_only'].unique()"
   ]
  },
  {
   "cell_type": "code",
   "execution_count": 53,
   "id": "ff9005f4",
   "metadata": {
    "id": "ff9005f4"
   },
   "outputs": [],
   "source": [
    "# from sklearn.preprocessing import LabelEncoder\n",
    "\n",
    "# label_encoder = LabelEncoder()\n",
    "# df['PAON'] = df['PAON'].apply(lambda x: label_encoder.fit_transform([x]) if isinstance(x, str) else x)\n",
    "# df['SAON'] = df['SAON'].apply(lambda x: label_encoder.fit_transform([x]) if isinstance(x, str) else x)\n",
    "# # 'Property_Type', 'Old/New', 'Duration', 'PPDCategory_Type'\n",
    "# df['Property_Type'] = df['Property_Type'].apply(lambda x: label_encoder.fit_transform([x]) if isinstance(x, str) else x)\n",
    "# df['Old/New'] = df['Old/New'].apply(lambda x: label_encoder.fit_transform([x]) if isinstance(x, str) else x)\n",
    "# df['Duration'] = df['Duration'].apply(lambda x: label_encoder.fit_transform([x]) if isinstance(x, str) else x)\n",
    "# df['PPDCategory_Type'] = df['PPDCategory_Type'].apply(lambda x: label_encoder.fit_transform([x]) if isinstance(x, str) else x)"
   ]
  },
  {
   "cell_type": "code",
   "execution_count": 54,
   "id": "c7318d4c",
   "metadata": {
    "colab": {
     "base_uri": "https://localhost:8080/",
     "height": 330
    },
    "id": "c7318d4c",
    "outputId": "8f1bb8fe-2b04-4de5-b21a-e0ea53460b37"
   },
   "outputs": [
    {
     "data": {
      "text/html": [
       "<div>\n",
       "<style scoped>\n",
       "    .dataframe tbody tr th:only-of-type {\n",
       "        vertical-align: middle;\n",
       "    }\n",
       "\n",
       "    .dataframe tbody tr th {\n",
       "        vertical-align: top;\n",
       "    }\n",
       "\n",
       "    .dataframe thead th {\n",
       "        text-align: right;\n",
       "    }\n",
       "</style>\n",
       "<table border=\"1\" class=\"dataframe\">\n",
       "  <thead>\n",
       "    <tr style=\"text-align: right;\">\n",
       "      <th></th>\n",
       "      <th>Transaction_unique_identifier</th>\n",
       "      <th>price</th>\n",
       "      <th>Date_of_Transfer</th>\n",
       "      <th>postcode</th>\n",
       "      <th>Property_Type</th>\n",
       "      <th>Old/New</th>\n",
       "      <th>Duration</th>\n",
       "      <th>PAON</th>\n",
       "      <th>SAON</th>\n",
       "      <th>Street</th>\n",
       "      <th>Locality</th>\n",
       "      <th>Town/City</th>\n",
       "      <th>District</th>\n",
       "      <th>County</th>\n",
       "      <th>PPDCategory_Type</th>\n",
       "      <th>Record_Status - monthly_file_only</th>\n",
       "      <th>year</th>\n",
       "      <th>month</th>\n",
       "      <th>Flag</th>\n",
       "      <th>Street_encoded</th>\n",
       "      <th>Locality_encoded</th>\n",
       "      <th>Town/City_encoded</th>\n",
       "      <th>District_encoded</th>\n",
       "      <th>County_encoded</th>\n",
       "      <th>postcode_encoded</th>\n",
       "      <th>Property_Type_encoded</th>\n",
       "      <th>Old/New_encoded</th>\n",
       "      <th>Duration_encoded</th>\n",
       "      <th>PAON_encoded</th>\n",
       "      <th>SAON_encoded</th>\n",
       "      <th>PPDCategory_Type_encoded</th>\n",
       "    </tr>\n",
       "  </thead>\n",
       "  <tbody>\n",
       "    <tr>\n",
       "      <th>0</th>\n",
       "      <td>{A094FFB6-5590-4FBE-AE49-1C2B2C1C492D}</td>\n",
       "      <td>417000</td>\n",
       "      <td>2015-01-07</td>\n",
       "      <td>NG31 8NQ</td>\n",
       "      <td>D</td>\n",
       "      <td>N</td>\n",
       "      <td>F</td>\n",
       "      <td>34</td>\n",
       "      <td>None</td>\n",
       "      <td>LOW ROAD</td>\n",
       "      <td>MANTHORPE</td>\n",
       "      <td>GRANTHAM</td>\n",
       "      <td>SOUTH KESTEVEN</td>\n",
       "      <td>LINCOLNSHIRE</td>\n",
       "      <td>A</td>\n",
       "      <td>A</td>\n",
       "      <td>2015</td>\n",
       "      <td>1</td>\n",
       "      <td>Very High</td>\n",
       "      <td>111486</td>\n",
       "      <td>9752</td>\n",
       "      <td>416</td>\n",
       "      <td>269</td>\n",
       "      <td>55</td>\n",
       "      <td>354197</td>\n",
       "      <td>0</td>\n",
       "      <td>0</td>\n",
       "      <td>0</td>\n",
       "      <td>3061</td>\n",
       "      <td>11851</td>\n",
       "      <td>0</td>\n",
       "    </tr>\n",
       "    <tr>\n",
       "      <th>1</th>\n",
       "      <td>{21E5FEB5-F732-2439-E050-A8C06205342E}</td>\n",
       "      <td>90000</td>\n",
       "      <td>2015-01-13</td>\n",
       "      <td>IG11 8LE</td>\n",
       "      <td>F</td>\n",
       "      <td>N</td>\n",
       "      <td>L</td>\n",
       "      <td>ASHDOWN COURT</td>\n",
       "      <td>FLAT 2</td>\n",
       "      <td>HARTS LANE</td>\n",
       "      <td>None</td>\n",
       "      <td>BARKING</td>\n",
       "      <td>BARKING AND DAGENHAM</td>\n",
       "      <td>GREATER LONDON</td>\n",
       "      <td>B</td>\n",
       "      <td>A</td>\n",
       "      <td>2015</td>\n",
       "      <td>1</td>\n",
       "      <td>Low</td>\n",
       "      <td>82447</td>\n",
       "      <td>17446</td>\n",
       "      <td>59</td>\n",
       "      <td>8</td>\n",
       "      <td>40</td>\n",
       "      <td>238921</td>\n",
       "      <td>1</td>\n",
       "      <td>0</td>\n",
       "      <td>1</td>\n",
       "      <td>9015</td>\n",
       "      <td>5399</td>\n",
       "      <td>1</td>\n",
       "    </tr>\n",
       "    <tr>\n",
       "      <th>2</th>\n",
       "      <td>{6C2DE40E-C33F-460D-9F2F-C146CCF456AA}</td>\n",
       "      <td>550000</td>\n",
       "      <td>2015-01-30</td>\n",
       "      <td>SE16 7TU</td>\n",
       "      <td>F</td>\n",
       "      <td>N</td>\n",
       "      <td>L</td>\n",
       "      <td>CABLE COURT, 357</td>\n",
       "      <td>FLAT 12</td>\n",
       "      <td>ROPE STREET</td>\n",
       "      <td>None</td>\n",
       "      <td>LONDON</td>\n",
       "      <td>SOUTHWARK</td>\n",
       "      <td>GREATER LONDON</td>\n",
       "      <td>A</td>\n",
       "      <td>A</td>\n",
       "      <td>2015</td>\n",
       "      <td>1</td>\n",
       "      <td>Very High</td>\n",
       "      <td>152128</td>\n",
       "      <td>17446</td>\n",
       "      <td>613</td>\n",
       "      <td>280</td>\n",
       "      <td>40</td>\n",
       "      <td>477438</td>\n",
       "      <td>1</td>\n",
       "      <td>0</td>\n",
       "      <td>1</td>\n",
       "      <td>18563</td>\n",
       "      <td>5133</td>\n",
       "      <td>0</td>\n",
       "    </tr>\n",
       "    <tr>\n",
       "      <th>3</th>\n",
       "      <td>{13F1F69A-9CB8-405D-B84E-EF8D39B080F4}</td>\n",
       "      <td>98000</td>\n",
       "      <td>2015-01-07</td>\n",
       "      <td>PE30 2LY</td>\n",
       "      <td>T</td>\n",
       "      <td>N</td>\n",
       "      <td>F</td>\n",
       "      <td>7</td>\n",
       "      <td>None</td>\n",
       "      <td>CROWN SQUARE</td>\n",
       "      <td>None</td>\n",
       "      <td>KING'S LYNN</td>\n",
       "      <td>KING'S LYNN AND WEST NORFOLK</td>\n",
       "      <td>NORFOLK</td>\n",
       "      <td>A</td>\n",
       "      <td>A</td>\n",
       "      <td>2015</td>\n",
       "      <td>1</td>\n",
       "      <td>Low</td>\n",
       "      <td>47609</td>\n",
       "      <td>17446</td>\n",
       "      <td>532</td>\n",
       "      <td>163</td>\n",
       "      <td>65</td>\n",
       "      <td>405209</td>\n",
       "      <td>4</td>\n",
       "      <td>0</td>\n",
       "      <td>0</td>\n",
       "      <td>4756</td>\n",
       "      <td>11851</td>\n",
       "      <td>0</td>\n",
       "    </tr>\n",
       "    <tr>\n",
       "      <th>4</th>\n",
       "      <td>{3AA07540-CA7C-405C-8C89-180F5E886891}</td>\n",
       "      <td>276000</td>\n",
       "      <td>2015-01-05</td>\n",
       "      <td>BN14 7LB</td>\n",
       "      <td>S</td>\n",
       "      <td>N</td>\n",
       "      <td>F</td>\n",
       "      <td>20</td>\n",
       "      <td>None</td>\n",
       "      <td>WESTLAND AVENUE</td>\n",
       "      <td>None</td>\n",
       "      <td>WORTHING</td>\n",
       "      <td>WORTHING</td>\n",
       "      <td>WEST SUSSEX</td>\n",
       "      <td>A</td>\n",
       "      <td>A</td>\n",
       "      <td>2015</td>\n",
       "      <td>1</td>\n",
       "      <td>High</td>\n",
       "      <td>193224</td>\n",
       "      <td>17446</td>\n",
       "      <td>1136</td>\n",
       "      <td>353</td>\n",
       "      <td>107</td>\n",
       "      <td>51558</td>\n",
       "      <td>3</td>\n",
       "      <td>0</td>\n",
       "      <td>0</td>\n",
       "      <td>1942</td>\n",
       "      <td>11851</td>\n",
       "      <td>0</td>\n",
       "    </tr>\n",
       "  </tbody>\n",
       "</table>\n",
       "</div>"
      ],
      "text/plain": [
       "            Transaction_unique_identifier   price Date_of_Transfer  postcode  \\\n",
       "0  {A094FFB6-5590-4FBE-AE49-1C2B2C1C492D}  417000       2015-01-07  NG31 8NQ   \n",
       "1  {21E5FEB5-F732-2439-E050-A8C06205342E}   90000       2015-01-13  IG11 8LE   \n",
       "2  {6C2DE40E-C33F-460D-9F2F-C146CCF456AA}  550000       2015-01-30  SE16 7TU   \n",
       "3  {13F1F69A-9CB8-405D-B84E-EF8D39B080F4}   98000       2015-01-07  PE30 2LY   \n",
       "4  {3AA07540-CA7C-405C-8C89-180F5E886891}  276000       2015-01-05  BN14 7LB   \n",
       "\n",
       "  Property_Type Old/New Duration              PAON     SAON           Street  \\\n",
       "0             D       N        F                34     None         LOW ROAD   \n",
       "1             F       N        L     ASHDOWN COURT   FLAT 2       HARTS LANE   \n",
       "2             F       N        L  CABLE COURT, 357  FLAT 12      ROPE STREET   \n",
       "3             T       N        F                 7     None     CROWN SQUARE   \n",
       "4             S       N        F                20     None  WESTLAND AVENUE   \n",
       "\n",
       "    Locality    Town/City                      District          County  \\\n",
       "0  MANTHORPE     GRANTHAM                SOUTH KESTEVEN    LINCOLNSHIRE   \n",
       "1       None      BARKING          BARKING AND DAGENHAM  GREATER LONDON   \n",
       "2       None       LONDON                     SOUTHWARK  GREATER LONDON   \n",
       "3       None  KING'S LYNN  KING'S LYNN AND WEST NORFOLK         NORFOLK   \n",
       "4       None     WORTHING                      WORTHING     WEST SUSSEX   \n",
       "\n",
       "  PPDCategory_Type Record_Status - monthly_file_only  year  month       Flag  \\\n",
       "0                A                                 A  2015      1  Very High   \n",
       "1                B                                 A  2015      1        Low   \n",
       "2                A                                 A  2015      1  Very High   \n",
       "3                A                                 A  2015      1        Low   \n",
       "4                A                                 A  2015      1       High   \n",
       "\n",
       "   Street_encoded  Locality_encoded  Town/City_encoded  District_encoded  \\\n",
       "0          111486              9752                416               269   \n",
       "1           82447             17446                 59                 8   \n",
       "2          152128             17446                613               280   \n",
       "3           47609             17446                532               163   \n",
       "4          193224             17446               1136               353   \n",
       "\n",
       "   County_encoded  postcode_encoded  Property_Type_encoded  Old/New_encoded  \\\n",
       "0              55            354197                      0                0   \n",
       "1              40            238921                      1                0   \n",
       "2              40            477438                      1                0   \n",
       "3              65            405209                      4                0   \n",
       "4             107             51558                      3                0   \n",
       "\n",
       "   Duration_encoded  PAON_encoded  SAON_encoded  PPDCategory_Type_encoded  \n",
       "0                 0          3061         11851                         0  \n",
       "1                 1          9015          5399                         1  \n",
       "2                 1         18563          5133                         0  \n",
       "3                 0          4756         11851                         0  \n",
       "4                 0          1942         11851                         0  "
      ]
     },
     "execution_count": 54,
     "metadata": {},
     "output_type": "execute_result"
    }
   ],
   "source": [
    "df.head()"
   ]
  },
  {
   "cell_type": "code",
   "execution_count": 55,
   "id": "bb87fa34",
   "metadata": {
    "id": "bb87fa34"
   },
   "outputs": [],
   "source": [
    "# Transaction_unique_identifier                object --> Not required for modelling\n",
    "# price                                         int64 --> Price is not required as we are trying to predict the category without knowing the actual price\n",
    "# Date_of_Transfer                     datetime64[ns] --> Year is required\n",
    "# postcode                                     object --> post code is also required\n",
    "# PAON                                         object --> Primary Addressable Object Name, as of now checking on this if this is required for modelling\n",
    "# SAON                                         object --> Secondary Addressable Object Name seems to be not required but will check with this.\n",
    "# Street                                       object --> Street is required as it may have some waitage.\n",
    "# Locality                                     object --> May be this is a required column\n",
    "# Town/City                                    object --> This is required columns\n",
    "# District                                     object --> This is also a required field\n",
    "# County                                       object --> required\n",
    "# Record_Status - monthly_file_only            object --> It has only one value which would not give any information.\n",
    "# year                                          int64 --> Derived from Date of transfer\n",
    "# Flag                                         object --> Derived from Price field.\n",
    "# Street_encoded                                int64 --> R\n",
    "# Locality_encoded                              int64 --> R as of now\n",
    "# Town/City_encoded                             int64 --> R\n",
    "# District_encoded                              int64 --> R\n",
    "# County_encoded                                int64 --> R\n",
    "# Property_Type_D                               uint8 --> R\n",
    "# Property_Type_F                               uint8 --> R\n",
    "# Property_Type_O                               uint8 --> R\n",
    "# Property_Type_S                               uint8 --> R\n",
    "# Property_Type_T                               uint8 --> R\n",
    "# Old/New_N                                     uint8 --> R\n",
    "# Old/New_Y                                     uint8 --> R\n",
    "# Duration_F                                    uint8 --> R\n",
    "# Duration_L                                    uint8 --> R\n",
    "# Duration_U                                    uint8 --> R\n",
    "# PPDCategory_Type_A                            uint8 --> R\n",
    "# PPDCategory_Type_B                            uint8 --> R\n",
    "\n",
    "## we are going to take the columns [year,Flag,Street_encoded,Locality_encoded,Town/City_encoded,District_encoded,\n",
    "##                                   County_encoded,Property_Type_D,Property_Type_F,Property_Type_O,Property_Type_S,\n",
    "##                                   Property_Type_T,Old/New_N,Old/New_Y,Duration_F,Duration_L,Duration_U,\n",
    "##                                   PPDCategory_Type_A,PPDCategory_Type_B]\n",
    "\n"
   ]
  },
  {
   "cell_type": "code",
   "execution_count": 56,
   "id": "9aa36421",
   "metadata": {
    "colab": {
     "base_uri": "https://localhost:8080/",
     "height": 653
    },
    "id": "9aa36421",
    "outputId": "968ae358-b949-4386-e260-667ce1127e51"
   },
   "outputs": [
    {
     "data": {
      "image/png": "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",
      "text/plain": [
       "<Figure size 800x800 with 1 Axes>"
      ]
     },
     "metadata": {},
     "output_type": "display_data"
    }
   ],
   "source": [
    "# manual ordinal encoding the target variable\n",
    "df.loc[df.index[(df.Flag=='Low')],'Target_Flag']= 0\n",
    "df.loc[df.index[(df.Flag=='Medium')],'Target_Flag']= 1\n",
    "df.loc[df.index[(df.Flag=='High')],'Target_Flag']= 2\n",
    "df.loc[df.index[(df.Flag=='Very High')],'Target_Flag']= 3\n",
    "\n",
    "labels = df['Target_Flag'].astype('category').cat.categories. tolist()\n",
    "counts = df['Target_Flag'].value_counts()\n",
    "sizes = [counts[var_cat] for var_cat in labels]\n",
    "figi, ax1 = plt. subplots (figsize = (8,8))\n",
    "ax1. pie(sizes, labels=labels, autopct='%1.1f%%', shadow=True)\n",
    "ax1. axis ('equal')\n",
    "plt. show()"
   ]
  },
  {
   "cell_type": "code",
   "execution_count": 57,
   "id": "ca7ace72",
   "metadata": {
    "colab": {
     "base_uri": "https://localhost:8080/"
    },
    "id": "ca7ace72",
    "outputId": "49a58d51-21d3-4923-8d2f-a18b591eafdb"
   },
   "outputs": [],
   "source": [
    "#df.columns"
   ]
  },
  {
   "cell_type": "code",
   "execution_count": 58,
   "id": "190fe096",
   "metadata": {
    "id": "190fe096"
   },
   "outputs": [],
   "source": [
    "df1 = df[['Transaction_unique_identifier', 'year','month',                      #df.loc[df.index[(df.year>=2018)&(df.year<=2018)]]\n",
    "       'Street_encoded', 'Locality_encoded', 'Town/City_encoded',\n",
    "       'District_encoded', 'County_encoded','postcode_encoded', 'Property_Type_encoded',\n",
    "       'Old/New_encoded', 'Duration_encoded','PAON_encoded','SAON_encoded','PPDCategory_Type_encoded',\n",
    "       'Target_Flag']].copy()\n",
    "\n",
    "del df"
   ]
  },
  {
   "cell_type": "code",
   "execution_count": 59,
   "id": "ab2598c6",
   "metadata": {},
   "outputs": [
    {
     "data": {
      "text/html": [
       "<div>\n",
       "<style scoped>\n",
       "    .dataframe tbody tr th:only-of-type {\n",
       "        vertical-align: middle;\n",
       "    }\n",
       "\n",
       "    .dataframe tbody tr th {\n",
       "        vertical-align: top;\n",
       "    }\n",
       "\n",
       "    .dataframe thead th {\n",
       "        text-align: right;\n",
       "    }\n",
       "</style>\n",
       "<table border=\"1\" class=\"dataframe\">\n",
       "  <thead>\n",
       "    <tr style=\"text-align: right;\">\n",
       "      <th></th>\n",
       "      <th>Transaction_unique_identifier</th>\n",
       "      <th>year</th>\n",
       "      <th>month</th>\n",
       "      <th>Street_encoded</th>\n",
       "      <th>Locality_encoded</th>\n",
       "      <th>Town/City_encoded</th>\n",
       "      <th>District_encoded</th>\n",
       "      <th>County_encoded</th>\n",
       "      <th>postcode_encoded</th>\n",
       "      <th>Property_Type_encoded</th>\n",
       "      <th>Old/New_encoded</th>\n",
       "      <th>Duration_encoded</th>\n",
       "      <th>PAON_encoded</th>\n",
       "      <th>SAON_encoded</th>\n",
       "      <th>PPDCategory_Type_encoded</th>\n",
       "      <th>Target_Flag</th>\n",
       "    </tr>\n",
       "  </thead>\n",
       "  <tbody>\n",
       "    <tr>\n",
       "      <th>0</th>\n",
       "      <td>{A094FFB6-5590-4FBE-AE49-1C2B2C1C492D}</td>\n",
       "      <td>2015</td>\n",
       "      <td>1</td>\n",
       "      <td>111486</td>\n",
       "      <td>9752</td>\n",
       "      <td>416</td>\n",
       "      <td>269</td>\n",
       "      <td>55</td>\n",
       "      <td>354197</td>\n",
       "      <td>0</td>\n",
       "      <td>0</td>\n",
       "      <td>0</td>\n",
       "      <td>3061</td>\n",
       "      <td>11851</td>\n",
       "      <td>0</td>\n",
       "      <td>3.0</td>\n",
       "    </tr>\n",
       "    <tr>\n",
       "      <th>1</th>\n",
       "      <td>{21E5FEB5-F732-2439-E050-A8C06205342E}</td>\n",
       "      <td>2015</td>\n",
       "      <td>1</td>\n",
       "      <td>82447</td>\n",
       "      <td>17446</td>\n",
       "      <td>59</td>\n",
       "      <td>8</td>\n",
       "      <td>40</td>\n",
       "      <td>238921</td>\n",
       "      <td>1</td>\n",
       "      <td>0</td>\n",
       "      <td>1</td>\n",
       "      <td>9015</td>\n",
       "      <td>5399</td>\n",
       "      <td>1</td>\n",
       "      <td>0.0</td>\n",
       "    </tr>\n",
       "    <tr>\n",
       "      <th>2</th>\n",
       "      <td>{6C2DE40E-C33F-460D-9F2F-C146CCF456AA}</td>\n",
       "      <td>2015</td>\n",
       "      <td>1</td>\n",
       "      <td>152128</td>\n",
       "      <td>17446</td>\n",
       "      <td>613</td>\n",
       "      <td>280</td>\n",
       "      <td>40</td>\n",
       "      <td>477438</td>\n",
       "      <td>1</td>\n",
       "      <td>0</td>\n",
       "      <td>1</td>\n",
       "      <td>18563</td>\n",
       "      <td>5133</td>\n",
       "      <td>0</td>\n",
       "      <td>3.0</td>\n",
       "    </tr>\n",
       "    <tr>\n",
       "      <th>3</th>\n",
       "      <td>{13F1F69A-9CB8-405D-B84E-EF8D39B080F4}</td>\n",
       "      <td>2015</td>\n",
       "      <td>1</td>\n",
       "      <td>47609</td>\n",
       "      <td>17446</td>\n",
       "      <td>532</td>\n",
       "      <td>163</td>\n",
       "      <td>65</td>\n",
       "      <td>405209</td>\n",
       "      <td>4</td>\n",
       "      <td>0</td>\n",
       "      <td>0</td>\n",
       "      <td>4756</td>\n",
       "      <td>11851</td>\n",
       "      <td>0</td>\n",
       "      <td>0.0</td>\n",
       "    </tr>\n",
       "    <tr>\n",
       "      <th>4</th>\n",
       "      <td>{3AA07540-CA7C-405C-8C89-180F5E886891}</td>\n",
       "      <td>2015</td>\n",
       "      <td>1</td>\n",
       "      <td>193224</td>\n",
       "      <td>17446</td>\n",
       "      <td>1136</td>\n",
       "      <td>353</td>\n",
       "      <td>107</td>\n",
       "      <td>51558</td>\n",
       "      <td>3</td>\n",
       "      <td>0</td>\n",
       "      <td>0</td>\n",
       "      <td>1942</td>\n",
       "      <td>11851</td>\n",
       "      <td>0</td>\n",
       "      <td>2.0</td>\n",
       "    </tr>\n",
       "  </tbody>\n",
       "</table>\n",
       "</div>"
      ],
      "text/plain": [
       "            Transaction_unique_identifier  year  month  Street_encoded  \\\n",
       "0  {A094FFB6-5590-4FBE-AE49-1C2B2C1C492D}  2015      1          111486   \n",
       "1  {21E5FEB5-F732-2439-E050-A8C06205342E}  2015      1           82447   \n",
       "2  {6C2DE40E-C33F-460D-9F2F-C146CCF456AA}  2015      1          152128   \n",
       "3  {13F1F69A-9CB8-405D-B84E-EF8D39B080F4}  2015      1           47609   \n",
       "4  {3AA07540-CA7C-405C-8C89-180F5E886891}  2015      1          193224   \n",
       "\n",
       "   Locality_encoded  Town/City_encoded  District_encoded  County_encoded  \\\n",
       "0              9752                416               269              55   \n",
       "1             17446                 59                 8              40   \n",
       "2             17446                613               280              40   \n",
       "3             17446                532               163              65   \n",
       "4             17446               1136               353             107   \n",
       "\n",
       "   postcode_encoded  Property_Type_encoded  Old/New_encoded  Duration_encoded  \\\n",
       "0            354197                      0                0                 0   \n",
       "1            238921                      1                0                 1   \n",
       "2            477438                      1                0                 1   \n",
       "3            405209                      4                0                 0   \n",
       "4             51558                      3                0                 0   \n",
       "\n",
       "   PAON_encoded  SAON_encoded  PPDCategory_Type_encoded  Target_Flag  \n",
       "0          3061         11851                         0          3.0  \n",
       "1          9015          5399                         1          0.0  \n",
       "2         18563          5133                         0          3.0  \n",
       "3          4756         11851                         0          0.0  \n",
       "4          1942         11851                         0          2.0  "
      ]
     },
     "execution_count": 59,
     "metadata": {},
     "output_type": "execute_result"
    }
   ],
   "source": [
    "df1.head()"
   ]
  },
  {
   "cell_type": "code",
   "execution_count": 60,
   "id": "49016036",
   "metadata": {
    "colab": {
     "base_uri": "https://localhost:8080/",
     "height": 653
    },
    "id": "49016036",
    "outputId": "57ad3072-b7e4-42e8-c60f-fe4cb1a054d0"
   },
   "outputs": [
    {
     "data": {
      "image/png": "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",
      "text/plain": [
       "<Figure size 800x800 with 1 Axes>"
      ]
     },
     "metadata": {},
     "output_type": "display_data"
    }
   ],
   "source": [
    "labels = df1['Target_Flag'].astype('category').cat.categories.tolist()\n",
    "counts = df1['Target_Flag'].value_counts()\n",
    "sizes = [counts[var_cat] for var_cat in labels]\n",
    "figi, ax1 = plt. subplots (figsize = (8,8))\n",
    "ax1. pie(sizes, labels=labels, autopct='%1.1f%%', shadow=True)\n",
    "ax1. axis ('equal')\n",
    "plt. show()"
   ]
  },
  {
   "cell_type": "code",
   "execution_count": 61,
   "id": "cc07b723",
   "metadata": {
    "colab": {
     "base_uri": "https://localhost:8080/",
     "height": 313
    },
    "id": "cc07b723",
    "outputId": "9ee5cd0a-61a4-4039-a219-a23f5c4deac7"
   },
   "outputs": [
    {
     "data": {
      "text/html": [
       "<div>\n",
       "<style scoped>\n",
       "    .dataframe tbody tr th:only-of-type {\n",
       "        vertical-align: middle;\n",
       "    }\n",
       "\n",
       "    .dataframe tbody tr th {\n",
       "        vertical-align: top;\n",
       "    }\n",
       "\n",
       "    .dataframe thead th {\n",
       "        text-align: right;\n",
       "    }\n",
       "</style>\n",
       "<table border=\"1\" class=\"dataframe\">\n",
       "  <thead>\n",
       "    <tr style=\"text-align: right;\">\n",
       "      <th></th>\n",
       "      <th>Transaction_unique_identifier</th>\n",
       "      <th>year</th>\n",
       "      <th>month</th>\n",
       "      <th>Street_encoded</th>\n",
       "      <th>Locality_encoded</th>\n",
       "      <th>Town/City_encoded</th>\n",
       "      <th>District_encoded</th>\n",
       "      <th>County_encoded</th>\n",
       "      <th>postcode_encoded</th>\n",
       "      <th>Property_Type_encoded</th>\n",
       "      <th>Old/New_encoded</th>\n",
       "      <th>Duration_encoded</th>\n",
       "      <th>PAON_encoded</th>\n",
       "      <th>SAON_encoded</th>\n",
       "      <th>PPDCategory_Type_encoded</th>\n",
       "      <th>Target_Flag</th>\n",
       "    </tr>\n",
       "  </thead>\n",
       "  <tbody>\n",
       "    <tr>\n",
       "      <th>0</th>\n",
       "      <td>{A094FFB6-5590-4FBE-AE49-1C2B2C1C492D}</td>\n",
       "      <td>2015</td>\n",
       "      <td>1</td>\n",
       "      <td>111486</td>\n",
       "      <td>9752</td>\n",
       "      <td>416</td>\n",
       "      <td>269</td>\n",
       "      <td>55</td>\n",
       "      <td>354197</td>\n",
       "      <td>0</td>\n",
       "      <td>0</td>\n",
       "      <td>0</td>\n",
       "      <td>3061</td>\n",
       "      <td>11851</td>\n",
       "      <td>0</td>\n",
       "      <td>3.0</td>\n",
       "    </tr>\n",
       "    <tr>\n",
       "      <th>1</th>\n",
       "      <td>{21E5FEB5-F732-2439-E050-A8C06205342E}</td>\n",
       "      <td>2015</td>\n",
       "      <td>1</td>\n",
       "      <td>82447</td>\n",
       "      <td>17446</td>\n",
       "      <td>59</td>\n",
       "      <td>8</td>\n",
       "      <td>40</td>\n",
       "      <td>238921</td>\n",
       "      <td>1</td>\n",
       "      <td>0</td>\n",
       "      <td>1</td>\n",
       "      <td>9015</td>\n",
       "      <td>5399</td>\n",
       "      <td>1</td>\n",
       "      <td>0.0</td>\n",
       "    </tr>\n",
       "    <tr>\n",
       "      <th>2</th>\n",
       "      <td>{6C2DE40E-C33F-460D-9F2F-C146CCF456AA}</td>\n",
       "      <td>2015</td>\n",
       "      <td>1</td>\n",
       "      <td>152128</td>\n",
       "      <td>17446</td>\n",
       "      <td>613</td>\n",
       "      <td>280</td>\n",
       "      <td>40</td>\n",
       "      <td>477438</td>\n",
       "      <td>1</td>\n",
       "      <td>0</td>\n",
       "      <td>1</td>\n",
       "      <td>18563</td>\n",
       "      <td>5133</td>\n",
       "      <td>0</td>\n",
       "      <td>3.0</td>\n",
       "    </tr>\n",
       "    <tr>\n",
       "      <th>3</th>\n",
       "      <td>{13F1F69A-9CB8-405D-B84E-EF8D39B080F4}</td>\n",
       "      <td>2015</td>\n",
       "      <td>1</td>\n",
       "      <td>47609</td>\n",
       "      <td>17446</td>\n",
       "      <td>532</td>\n",
       "      <td>163</td>\n",
       "      <td>65</td>\n",
       "      <td>405209</td>\n",
       "      <td>4</td>\n",
       "      <td>0</td>\n",
       "      <td>0</td>\n",
       "      <td>4756</td>\n",
       "      <td>11851</td>\n",
       "      <td>0</td>\n",
       "      <td>0.0</td>\n",
       "    </tr>\n",
       "    <tr>\n",
       "      <th>4</th>\n",
       "      <td>{3AA07540-CA7C-405C-8C89-180F5E886891}</td>\n",
       "      <td>2015</td>\n",
       "      <td>1</td>\n",
       "      <td>193224</td>\n",
       "      <td>17446</td>\n",
       "      <td>1136</td>\n",
       "      <td>353</td>\n",
       "      <td>107</td>\n",
       "      <td>51558</td>\n",
       "      <td>3</td>\n",
       "      <td>0</td>\n",
       "      <td>0</td>\n",
       "      <td>1942</td>\n",
       "      <td>11851</td>\n",
       "      <td>0</td>\n",
       "      <td>2.0</td>\n",
       "    </tr>\n",
       "  </tbody>\n",
       "</table>\n",
       "</div>"
      ],
      "text/plain": [
       "            Transaction_unique_identifier  year  month  Street_encoded  \\\n",
       "0  {A094FFB6-5590-4FBE-AE49-1C2B2C1C492D}  2015      1          111486   \n",
       "1  {21E5FEB5-F732-2439-E050-A8C06205342E}  2015      1           82447   \n",
       "2  {6C2DE40E-C33F-460D-9F2F-C146CCF456AA}  2015      1          152128   \n",
       "3  {13F1F69A-9CB8-405D-B84E-EF8D39B080F4}  2015      1           47609   \n",
       "4  {3AA07540-CA7C-405C-8C89-180F5E886891}  2015      1          193224   \n",
       "\n",
       "   Locality_encoded  Town/City_encoded  District_encoded  County_encoded  \\\n",
       "0              9752                416               269              55   \n",
       "1             17446                 59                 8              40   \n",
       "2             17446                613               280              40   \n",
       "3             17446                532               163              65   \n",
       "4             17446               1136               353             107   \n",
       "\n",
       "   postcode_encoded  Property_Type_encoded  Old/New_encoded  Duration_encoded  \\\n",
       "0            354197                      0                0                 0   \n",
       "1            238921                      1                0                 1   \n",
       "2            477438                      1                0                 1   \n",
       "3            405209                      4                0                 0   \n",
       "4             51558                      3                0                 0   \n",
       "\n",
       "   PAON_encoded  SAON_encoded  PPDCategory_Type_encoded  Target_Flag  \n",
       "0          3061         11851                         0          3.0  \n",
       "1          9015          5399                         1          0.0  \n",
       "2         18563          5133                         0          3.0  \n",
       "3          4756         11851                         0          0.0  \n",
       "4          1942         11851                         0          2.0  "
      ]
     },
     "execution_count": 61,
     "metadata": {},
     "output_type": "execute_result"
    }
   ],
   "source": [
    "df1.head()"
   ]
  },
  {
   "cell_type": "code",
   "execution_count": 62,
   "id": "4adc34e3",
   "metadata": {
    "colab": {
     "base_uri": "https://localhost:8080/"
    },
    "id": "4adc34e3",
    "outputId": "6cfdfd58-0cce-46b6-ebe3-8732f5c861f5"
   },
   "outputs": [
    {
     "data": {
      "text/plain": [
       "Transaction_unique_identifier     object\n",
       "year                               int64\n",
       "month                              int64\n",
       "Street_encoded                     int64\n",
       "Locality_encoded                   int64\n",
       "Town/City_encoded                  int64\n",
       "District_encoded                   int64\n",
       "County_encoded                     int64\n",
       "postcode_encoded                   int64\n",
       "Property_Type_encoded              int64\n",
       "Old/New_encoded                    int64\n",
       "Duration_encoded                   int64\n",
       "PAON_encoded                       int64\n",
       "SAON_encoded                       int64\n",
       "PPDCategory_Type_encoded           int64\n",
       "Target_Flag                      float64\n",
       "dtype: object"
      ]
     },
     "execution_count": 62,
     "metadata": {},
     "output_type": "execute_result"
    }
   ],
   "source": [
    "df1.dtypes"
   ]
  },
  {
   "cell_type": "code",
   "execution_count": 63,
   "id": "cd2bd350",
   "metadata": {
    "colab": {
     "base_uri": "https://localhost:8080/"
    },
    "id": "cd2bd350",
    "outputId": "b89585be-ebe5-4489-d119-d281bce61061"
   },
   "outputs": [
    {
     "name": "stdout",
     "output_type": "stream",
     "text": [
      "1219509\n",
      "1219509\n"
     ]
    }
   ],
   "source": [
    "print(len(df1))\n",
    "print(df1.Transaction_unique_identifier.nunique())"
   ]
  },
  {
   "cell_type": "code",
   "execution_count": 64,
   "id": "upI_tid1gOh3",
   "metadata": {
    "colab": {
     "base_uri": "https://localhost:8080/"
    },
    "id": "upI_tid1gOh3",
    "outputId": "1edff712-4f2b-4a13-9a8d-5db7f4492802"
   },
   "outputs": [
    {
     "data": {
      "text/plain": [
       "2021    183024\n",
       "2017    159877\n",
       "2016    156809\n",
       "2018    155300\n",
       "2015    151560\n",
       "2019    151165\n",
       "2020    132410\n",
       "2022    129364\n",
       "Name: year, dtype: int64"
      ]
     },
     "execution_count": 64,
     "metadata": {},
     "output_type": "execute_result"
    }
   ],
   "source": [
    "df1.year.value_counts(dropna=False)"
   ]
  },
  {
   "cell_type": "code",
   "execution_count": 65,
   "id": "72d7e12a",
   "metadata": {
    "colab": {
     "base_uri": "https://localhost:8080/"
    },
    "id": "72d7e12a",
    "outputId": "933476bc-07f3-49fa-acf5-95017cb378af"
   },
   "outputs": [
    {
     "data": {
      "text/plain": [
       "Transaction_unique_identifier       0\n",
       "year                                0\n",
       "month                               0\n",
       "Street_encoded                      0\n",
       "Locality_encoded                    0\n",
       "Town/City_encoded                   0\n",
       "District_encoded                    0\n",
       "County_encoded                      0\n",
       "postcode_encoded                    0\n",
       "Property_Type_encoded               0\n",
       "Old/New_encoded                     0\n",
       "Duration_encoded                    0\n",
       "PAON_encoded                        0\n",
       "SAON_encoded                        0\n",
       "PPDCategory_Type_encoded            0\n",
       "Target_Flag                      4357\n",
       "dtype: int64"
      ]
     },
     "execution_count": 65,
     "metadata": {},
     "output_type": "execute_result"
    }
   ],
   "source": [
    "df1.isnull().sum()"
   ]
  },
  {
   "cell_type": "code",
   "execution_count": 66,
   "id": "16f782dc",
   "metadata": {
    "id": "16f782dc"
   },
   "outputs": [],
   "source": [
    "#print(df[df1.Target_Flag.isnull()].price.max())\n",
    "#print(df[df1.Target_Flag.isnull()].price.min())"
   ]
  },
  {
   "cell_type": "code",
   "execution_count": 67,
   "id": "51cd94cd",
   "metadata": {
    "colab": {
     "base_uri": "https://localhost:8080/"
    },
    "id": "51cd94cd",
    "outputId": "d35b624e-e989-474e-f540-b4be33365628"
   },
   "outputs": [
    {
     "name": "stdout",
     "output_type": "stream",
     "text": [
      "(1219509, 16)\n",
      "(1215152, 16)\n"
     ]
    }
   ],
   "source": [
    "print(df1.shape)\n",
    "df1.drop(df1.index[(df1.Target_Flag.isnull())],inplace=True)\n",
    "print(df1.shape)"
   ]
  },
  {
   "cell_type": "code",
   "execution_count": 68,
   "id": "7e497aa2",
   "metadata": {
    "colab": {
     "base_uri": "https://localhost:8080/"
    },
    "id": "7e497aa2",
    "outputId": "4d58033c-8da5-4f75-a26d-48191d1866fa"
   },
   "outputs": [
    {
     "name": "stdout",
     "output_type": "stream",
     "text": [
      "1215152\n"
     ]
    }
   ],
   "source": [
    "print(df1.Transaction_unique_identifier.nunique())\n"
   ]
  },
  {
   "cell_type": "code",
   "execution_count": 69,
   "id": "c7261aa1",
   "metadata": {
    "colab": {
     "base_uri": "https://localhost:8080/"
    },
    "id": "c7261aa1",
    "outputId": "c7793793-efdb-4fd1-c164-96de598dd0fd"
   },
   "outputs": [
    {
     "data": {
      "text/plain": [
       "1.0    402406\n",
       "0.0    300527\n",
       "3.0    260271\n",
       "2.0    251948\n",
       "Name: Target_Flag, dtype: int64"
      ]
     },
     "execution_count": 69,
     "metadata": {},
     "output_type": "execute_result"
    }
   ],
   "source": [
    "df1.Target_Flag.value_counts(dropna=False)"
   ]
  },
  {
   "cell_type": "code",
   "execution_count": 70,
   "id": "03a2bbcc",
   "metadata": {
    "id": "03a2bbcc"
   },
   "outputs": [],
   "source": [
    "from sklearn.model_selection import train_test_split\n",
    "\n",
    "X = df1[['year','month','Street_encoded', 'Locality_encoded', 'Town/City_encoded',\n",
    "       'District_encoded', 'County_encoded','postcode_encoded', 'Property_Type_encoded',\n",
    "       'Old/New_encoded', 'Duration_encoded','PAON_encoded','SAON_encoded','PPDCategory_Type_encoded']]\n",
    "\n",
    "Y = df1['Target_Flag']\n",
    "\n",
    "X_train, X_test, Y_train, Y_test = train_test_split(X,Y, test_size=0.25, random_state=121)\n",
    "\n",
    "del df1"
   ]
  },
  {
   "cell_type": "code",
   "execution_count": 71,
   "id": "528f0694",
   "metadata": {
    "id": "528f0694"
   },
   "outputs": [],
   "source": [
    "from sklearn.ensemble import RandomForestClassifier\n",
    "\n",
    "clf = RandomForestClassifier(n_estimators=1004,criterion='gini',n_jobs=-1,oob_score=True)\n",
    "\n",
    "clf.fit(X_train,Y_train)\n",
    "\n",
    "x_prediction = clf.predict(X_test)"
   ]
  },
  {
   "cell_type": "code",
   "execution_count": 72,
   "id": "1959d84b",
   "metadata": {
    "colab": {
     "base_uri": "https://localhost:8080/"
    },
    "id": "1959d84b",
    "outputId": "d0636941-fbe6-42d7-f1c0-2c0cda7f5adc"
   },
   "outputs": [
    {
     "name": "stdout",
     "output_type": "stream",
     "text": [
      "Accuracy :  0.6842897020290466\n"
     ]
    }
   ],
   "source": [
    "from sklearn.model_selection import cross_val_score\n",
    "from sklearn.metrics import classification_report, confusion_matrix\n",
    "#Import scikit-learn metrics module for accuracy calculation\n",
    "from sklearn import metrics\n",
    "\n",
    "print('Accuracy : ', metrics.accuracy_score(Y_test,x_prediction))"
   ]
  },
  {
   "cell_type": "code",
   "execution_count": 73,
   "id": "RMn6MjOQ4Pz5",
   "metadata": {
    "colab": {
     "base_uri": "https://localhost:8080/",
     "height": 955
    },
    "id": "RMn6MjOQ4Pz5",
    "outputId": "c6d7aa41-9130-41c9-ce80-4598d6e95037"
   },
   "outputs": [
    {
     "name": "stderr",
     "output_type": "stream",
     "text": [
      "No artists with labels found to put in legend.  Note that artists whose label start with an underscore are ignored when legend() is called with no argument.\n"
     ]
    },
    {
     "name": "stdout",
     "output_type": "stream",
     "text": [
      "postcode_encoded            0.194593\n",
      "PAON_encoded                0.121564\n",
      "Street_encoded              0.116252\n",
      "County_encoded              0.107163\n",
      "Town/City_encoded           0.082970\n",
      "month                       0.076599\n",
      "District_encoded            0.076315\n",
      "Property_Type_encoded       0.064170\n",
      "year                        0.057905\n",
      "Locality_encoded            0.048307\n",
      "SAON_encoded                0.022186\n",
      "Duration_encoded            0.013021\n",
      "PPDCategory_Type_encoded    0.009751\n",
      "Old/New_encoded             0.009206\n",
      "dtype: float64\n"
     ]
    },
    {
     "data": {
      "image/png": "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",
      "text/plain": [
       "<Figure size 800x800 with 1 Axes>"
      ]
     },
     "metadata": {},
     "output_type": "display_data"
    }
   ],
   "source": [
    "import seaborn as sns\n",
    "import matplotlib.pyplot as plt\n",
    "\n",
    "# feature\n",
    "feature_imp = pd.Series (clf.feature_importances_, index=X.columns). sort_values (ascending=False)\n",
    "print (feature_imp)\n",
    "sns.set(rc={'figure.figsize': (8,8)})\n",
    "# Creating a bar plot\n",
    "sns.barplot (x=feature_imp, y=feature_imp.index)\n",
    "# Add Labels to your graph\n",
    "plt.xlabel('Feature Importance Score')\n",
    "plt.ylabel('Features')\n",
    "plt.title(\"Visualizing Important Features\")\n",
    "plt.legend ()\n",
    "plt.show()"
   ]
  },
  {
   "cell_type": "code",
   "execution_count": 74,
   "id": "nqOH4kAM76Kq",
   "metadata": {
    "colab": {
     "base_uri": "https://localhost:8080/",
     "height": 408
    },
    "id": "nqOH4kAM76Kq",
    "outputId": "6204fd23-5724-4ea1-e87b-b5db19442ce7"
   },
   "outputs": [
    {
     "name": "stdout",
     "output_type": "stream",
     "text": [
      "Classification Report:\n",
      "               precision    recall  f1-score   support\n",
      "\n",
      "         0.0       0.76      0.77      0.77     74942\n",
      "         1.0       0.66      0.70      0.68    101288\n",
      "         2.0       0.57      0.48      0.52     62909\n",
      "         3.0       0.73      0.75      0.74     64649\n",
      "\n",
      "    accuracy                           0.68    303788\n",
      "   macro avg       0.68      0.68      0.68    303788\n",
      "weighted avg       0.68      0.68      0.68    303788\n",
      "\n"
     ]
    }
   ],
   "source": [
    "# print(\"=== Confusion Matrix ===\")\n",
    "# print(pd.DataFrame(confusion_matrix(X_test, x_prediction)))\n",
    "# print('\\n')\n",
    "# print(\"=== Classification Report ===\")\n",
    "# print(classification_report(X_test, x_prediction))\n",
    "\n",
    "\n",
    "# Generate the classification report for multiclass classification\n",
    "report = classification_report(Y_test, x_prediction)\n",
    "\n",
    "# Print the classification report\n",
    "print(\"Classification Report:\\n\", report)"
   ]
  },
  {
   "cell_type": "code",
   "execution_count": 75,
   "id": "d90e2e26",
   "metadata": {},
   "outputs": [],
   "source": [
    "del clf"
   ]
  },
  {
   "cell_type": "code",
   "execution_count": 76,
   "id": "YCdfMl5lqQWJ",
   "metadata": {
    "id": "YCdfMl5lqQWJ"
   },
   "outputs": [
    {
     "name": "stdout",
     "output_type": "stream",
     "text": [
      "0    3\n",
      "1    0\n",
      "2    3\n",
      "3    0\n",
      "4    2\n",
      "Name: Target_Flag, dtype: int64\n"
     ]
    }
   ],
   "source": [
    "from xgboost import XGBClassifier\n",
    "# Initialize the XGBoost classifier\n",
    "\n",
    "Y = Y.astype(int)\n",
    "print(Y.head())\n",
    "\n",
    "Y_train = Y_train.astype(int)\n",
    "\n",
    "\n",
    "xgb_classifier = XGBClassifier(n_estimators=1004, learning_rate=0.1, max_depth=3, random_state=121, n_jobs=-1)\n",
    "\n",
    "# Fit the model to the training data\n",
    "xgb_classifier.fit(X_train, Y_train)\n",
    "\n",
    "xgb_prediction = xgb_classifier.predict(X_test)"
   ]
  },
  {
   "cell_type": "code",
   "execution_count": 77,
   "id": "a42af598",
   "metadata": {},
   "outputs": [
    {
     "name": "stdout",
     "output_type": "stream",
     "text": [
      "Accuracy :  0.6285600484548435\n"
     ]
    }
   ],
   "source": [
    "print('Accuracy : ', metrics.accuracy_score(Y_test,xgb_prediction))"
   ]
  },
  {
   "cell_type": "code",
   "execution_count": 78,
   "id": "569af694",
   "metadata": {},
   "outputs": [
    {
     "name": "stdout",
     "output_type": "stream",
     "text": [
      "Classification Report:\n",
      "               precision    recall  f1-score   support\n",
      "\n",
      "         0.0       0.71      0.71      0.71     74942\n",
      "         1.0       0.58      0.69      0.63    101288\n",
      "         2.0       0.53      0.36      0.42     62909\n",
      "         3.0       0.69      0.71      0.70     64649\n",
      "\n",
      "    accuracy                           0.63    303788\n",
      "   macro avg       0.63      0.62      0.62    303788\n",
      "weighted avg       0.62      0.63      0.62    303788\n",
      "\n"
     ]
    }
   ],
   "source": [
    "# Generate the classification report\n",
    "report = classification_report(Y_test, xgb_prediction)\n",
    "\n",
    "# Print the classification report\n",
    "print(\"Classification Report:\\n\", report)"
   ]
  },
  {
   "cell_type": "code",
   "execution_count": 79,
   "id": "4357b61c",
   "metadata": {},
   "outputs": [
    {
     "name": "stdout",
     "output_type": "stream",
     "text": [
      "Feature Importances:\n",
      " County_encoded              0.167664\n",
      "Property_Type_encoded       0.166823\n",
      "Duration_encoded            0.156313\n",
      "PAON_encoded                0.083451\n",
      "PPDCategory_Type_encoded    0.079384\n",
      "postcode_encoded            0.073710\n",
      "year                        0.066309\n",
      "Old/New_encoded             0.054613\n",
      "Town/City_encoded           0.046279\n",
      "District_encoded            0.043044\n",
      "SAON_encoded                0.030803\n",
      "month                       0.013437\n",
      "Locality_encoded            0.011199\n",
      "Street_encoded              0.006972\n",
      "dtype: float32\n"
     ]
    },
    {
     "data": {
      "image/png": "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",
      "text/plain": [
       "<Figure size 800x800 with 1 Axes>"
      ]
     },
     "metadata": {},
     "output_type": "display_data"
    }
   ],
   "source": [
    "feature_imp = pd.Series(xgb_classifier.feature_importances_, index=X.columns).sort_values(ascending=False)\n",
    "\n",
    "# Print feature importances\n",
    "print(\"Feature Importances:\\n\", feature_imp)\n",
    "\n",
    "# Plotting the feature importances\n",
    "sns.set(rc={'figure.figsize': (8, 8)})\n",
    "sns.barplot(x=feature_imp, y=feature_imp.index)\n",
    "plt.xlabel('Feature Importance Score')\n",
    "plt.ylabel('Features')\n",
    "plt.title(\"Visualizing Important Features for XGBoost\")\n",
    "plt.show()"
   ]
  },
  {
   "cell_type": "code",
   "execution_count": 80,
   "id": "1a4b65af",
   "metadata": {},
   "outputs": [],
   "source": [
    "del xgb_classifier"
   ]
  },
  {
   "cell_type": "code",
   "execution_count": null,
   "id": "118247f3",
   "metadata": {},
   "outputs": [],
   "source": [
    "from sklearn.svm import SVC\n",
    "\n",
    "\n",
    "svm_classifier = SVC(kernel='linear', random_state=121)\n",
    "\n",
    "\n",
    "svm_classifier.fit(X_train, Y_train)\n",
    "\n",
    "\n",
    "Y_pred = svm_classifier.predict(X_test)"
   ]
  },
  {
   "cell_type": "code",
   "execution_count": null,
   "id": "334c8d5f",
   "metadata": {},
   "outputs": [],
   "source": [
    "accuracy = accuracy_score(Y_test, Y_pred)\n",
    "print(\"Accuracy:\", accuracy)"
   ]
  },
  {
   "cell_type": "code",
   "execution_count": null,
   "id": "4e1ad1ae",
   "metadata": {},
   "outputs": [],
   "source": [
    "# Visualize feature importance (for linear kernel)\n",
    "if svm_classifier.kernel == 'linear':\n",
    "    feature_imp = pd.Series(svm_classifier.coef_[0], index=X.columns).sort_values(ascending=False)\n",
    "    \n",
    "    sns.set(rc={'figure.figsize': (8, 8)})\n",
    "    sns.barplot(x=feature_imp, y=feature_imp.index)\n",
    "    plt.xlabel('Feature Importance Score')\n",
    "    plt.ylabel('Features')\n",
    "    plt.title(\"Visualizing Feature Importance for SVM (Linear Kernel)\")\n",
    "    plt.show()\n",
    "else:\n",
    "    print(\"Feature importance visualization is available only for linear kernel SVM.\")"
   ]
  }
 ],
 "metadata": {
  "accelerator": "GPU",
  "colab": {
   "gpuType": "T4",
   "machine_shape": "hm",
   "provenance": []
  },
  "kernelspec": {
   "display_name": "Python 3 (ipykernel)",
   "language": "python",
   "name": "python3"
  },
 },
}
